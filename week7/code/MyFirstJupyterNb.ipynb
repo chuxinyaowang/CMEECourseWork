{
 "cells": [
  {
   "cell_type": "markdown",
   "id": "e9ca138f-92e0-40a3-b309-6141f60893be",
   "metadata": {},
   "source": [
    "My first jupyter notebook"
   ]
  },
  {
   "cell_type": "code",
   "execution_count": null,
   "id": "25fc1504-7619-49e8-9027-0989bcb86d98",
   "metadata": {},
   "outputs": [],
   "source": [
    "a = 1;a"
   ]
  }
 ],
 "metadata": {
  "kernelspec": {
   "display_name": "Python 3 (ipykernel)",
   "language": "python",
   "name": "python3"
  },
  "language_info": {
   "codemirror_mode": {
    "name": "ipython",
    "version": 3
   },
   "file_extension": ".py",
   "mimetype": "text/x-python",
   "name": "python",
   "nbconvert_exporter": "python",
   "pygments_lexer": "ipython3",
   "version": "3.10.6"
  }
 },
 "nbformat": 4,
 "nbformat_minor": 5
}
