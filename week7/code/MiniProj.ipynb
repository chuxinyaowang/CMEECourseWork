{
 "cells": [
  {
   "cell_type": "markdown",
   "metadata": {},
   "source": [
    "# The Computing Miniproject"
   ]
  },
  {
   "cell_type": "markdown",
   "metadata": {},
   "source": [
    "## Introduction \n",
    "\n",
    "The computing Miniproject gives you an opportunity to try the \"whole nine yards\" of *asking and answering* a scientific question in biology (potentially involving multiple sub-questions/hypotheses) in a **fully reproducible way**. It will in essence give you an opportunity to perform a useful \"dry run\" of executing your actual Dissertation project. *It is an opportunity to do apply the computational methods you have been learning to a biological problem.*\n",
    "\n",
    "\n",
    "## Objectives\n",
    "\n",
    "**The general question you will address is:** *What mathematical models best fit an empirical dataset?*\n",
    "\n",
    "You may think of this as testing a set of alternative hypotheses — every alternative hypothesis is nothing but a different model to describe an observed phenomenon, as you will have learned in [the model fitting lectures](https://github.com/mhasoba/TheMulQuaBio/tree/master/content/lectures).\n",
    "\n",
    "## The Project \n",
    "\n",
    "From the options provided to you (below), you will choose an empirical dataset, and a set of alternative models to fit to the data in that dataset.\n",
    "\n",
    "The Miniproject must satisfy the following criteria (and follow the accompanying guidelines):\n",
    "\n",
    "1. **It employs the biological computing tools you have learned so far *as necessary***: Shell (bash) scripting, Git, LaTeX, R, and Python. Using these tools, you will build a workflow that starts with the data and ends with a written report (in LaTeX). How you choose the different tools (e.g., how much Python vs R) is your choice; that is part of what will be assessed.\n",
    "\n",
    "2. **Fits and compares *at least* two alternative mathematical models to the data**. The models should be fitted and selected using an appropriate method. For example you may use a combination of Ordinary Linear and Nonlinear Least Squares (NLLS) methods to fit $\\ge 2$ alternative models to data, followed by model selection using AIC and BIC.\n",
    "\n",
    "3. **It should be fully reproducible.** You will write a script that \"glues\" the workflow together and runs it, from data processing, to model fitting, to plotting, to compilation of the written report (*More detailed instructions on report below*). Refer back to the TheMulQuaBio Computing chapters to see how you would run the different components. For example, we have covered how to run R and compile $\\LaTeX$ using the `subprocess` module in the [second Python Chapter](./06-Python_II.ipynb). The assessor should be able to run just this script to get everything to work without errors.\n",
    "\n",
    "*You will be given lectures and practicals on model fitting using least squares before you start on your Miniproject.*\n",
    "\n",
    "*Please read the papers in the **Readings & Resources** section below* (and in particular, the Johnson and Omland 2005 paper) — these will help orient you in the right direction for tackling your Miniproject.\n",
    "\n",
    "\n",
    "## The Report\n",
    "\n",
    "The report should,\n",
    "\n",
    "* be written in LaTeX using the article document class, in 11pt (any font will do, within reason!).\n",
    "\n",
    "* be 1.5-spaced, with *continuous* line numbers.\n",
    "\n",
    "* have a Title, Author name with Affiliation and Word count on a *separate Title page*.\n",
    "\n",
    "* have an Introduction with objectives of the study, and appropriate additional sections such as Methods, Data, Results, Discussion, etc.\n",
    "\n",
    "* contain in the *Methods* a sub-section called \"Computing tools\" which states briefly how each of the scripting languages (bash, R, Python) was used and what packages within them were used and a justification of why.\n",
    "\n",
    "* have References properly cited in text and formatted in a list using bibtex.\n",
    "\n",
    "* contain $\\leq$3500 words *excluding the contents of the title page, references, and Figure or Table captions+legends*. There should be a word count at the beginning of the document (typically using the `texcount` package).\n",
    "\n",
    "(Miniproject-report-guidelines)=\n",
    "### Guidelines\n",
    "\n",
    "Please read the *general* (*not* word count, formatting etc.) dissertation writing guidelines given in the Silwood Masters Student Guidebook.\n",
    "\n",
    "```{tip}\n",
    "**Start writing early**. Its NEVER too early to start writing! Outline the structure of your report and attempt to write a brief introduction even if you don't have any results, or have not finalized your methods, computational work flow, or analyses. Doing this preliminary writing will force you to think about the logic of what you are planning to do, put your planned work in some context, and help motivate you.  \n",
    "```\n",
    "\n",
    "Here are some additional suggestions/guidelines:\n",
    "\n",
    "* **In General**:\n",
    "    * In scientific writing (papers, reports), a \"narrative\" or \"flow\" is important. What this means (more on each of these components below):\n",
    "        * Starting with the Title, and through the Introduction, Methods, Results and Discussion, there is a common thread (focal issue or topic).\n",
    "        * The *Title* gives a summary of what the article is about, and may even convey what the main finding is.\n",
    "        * The *Introduction* clearly and accurately builds and \"expectation\" for the reader, i.e., what to look for in the subsequent sections. \n",
    "        * The *Methods* and *Results*, to thee extent possible, follow the same sequence of topics (and questions/hypotheses) that were laid out in the Introduction\n",
    "        * The *Discussion* reminds the reader about what the original goals of the study were, states out key findings succinctly, and then discusses their implications in the wider context and then finished off with some caveats and a conclusion that delivers the final take-away messages.     \n",
    "    * Avoid sub-sectioning (with headers) the *Introduction* and *Discussion* sections as it breaks the flow of your \"narrative\". On the other hand, you will almost always sub-section the Methods, and often, the Results section.\n",
    "    * Pay attention to detail: \n",
    "        * Do a spell check on the final draft.\n",
    "        * Make sure that all graphics are rendered in good quality (use [vector graphic](https://en.wikipedia.org/wiki/Vector_graphics) formats as much as possible). Remember, $\\LaTeX$ allows you to embed vector graphics in pdf.\n",
    "        * Make sure that all the display items (Tables + Figures) have a text caption that states what the display item is for, and then a text legend that explains the figure and delivers any take home messages. \n",
    "    * The display items alone should be able to tell most of the story. Once you have an outline of the manuscript, first, before doing any more writing, put in the display items (generally, 4-6 should be enough) with Captions and Legends, and see if they are indeed telling the story you would like your paper/report to tell.   \n",
    "    * Avoid the words \"explore\" or \"look at\" to describe your objectives.\n",
    "    * Use direct speech (as it is YOUR work!).\n",
    "        * So, for example, avoid phrases such as \"This study investigates\"; say \"Here I investigate\" or something like that instead.\n",
    "        \n",
    "* **The Title**\n",
    "   * The Title should give a summary of what the article is about, and may even convey the main finding(s). Make it as result-focused as possible, and avoid being vague. \n",
    "   * Keep the number of words to a minimum (upto 10-15 words is reasonable).\n",
    "       * Some succinct title examples:\n",
    "           * \"The role of xx in determining yy\"/\n",
    "           * \"The relative success of xx models in providing parameter estimates for yy\".\n",
    "           * *Or better still*: \"xx models out-perform yy models for quantifying zz data\"\n",
    "           * *OR even better still*: \"xx [organisms / traits] differ systematically across yy [some grouping variable, such as location or taxonomic categories]\". \n",
    "       * Some not-so-nice title examples:\n",
    "           * \"A comparison of models for describing zz using Linear and no-linear model fitting with AIC/BIC\".\n",
    "           * \"An exploration of xx models for describing yy data using Linear and Non-linear model fitting with model selection\".\n",
    "\n",
    "* **Abstract**: *The report must have an Abstract.*\n",
    "    * It should be a \"mini-paper\" in itself: So, 1-2 lines on background, 1-2 lines on the paper's objectives, 1-2 lines on the methods, 1-2 lines on the main results, 1-2 lines on the main conclusions + take home messages. Remember the abstract counts towards the total word limit (at least as far as your Mini-project report is concerned), so you will need to be succinct. About 200 words is the suggested maximum.\n",
    "    * Do not be vague about the take home messages at the end of the abstract. For example, do not say something like \"Thus this study shows that more work needs to be done...\", or \"This study shows that model selection is useful...\". Try instead to say something like \"This study shows that in general, xx models are better suited for yy data...\" or \"This study provides evidence that in xx [organisms / traits], yy models tend to under-perform because...\" (NOTE THAT THESE ARE HYPOTHETICAL/EXAMPLE STATEMENTS!).   \n",
    "    \n",
    "* **Introduction**:     \n",
    "    * The Introduction should open with a general *enough* background (with citations). What is \"general enough\"? &ndash; A context that *justifies* the main focus of the study, and *motivates* the reader. So, for example, if the focus is population growth rates, then provide a context for why growth rates are important to study in biology.  \n",
    "    * Towards or at the end of the Introduction, provide some specific questions or hypotheses that will be addressed in the study. But do not present hypotheses if they are not backed by logical arguments or mathematical / computational modelling / theory. Asking questions is better than (logically/theoretically) unfounded hypotheses. The *narrative* of the Introduction should funnel the reader's attention *naturally* towards the stated hypotheses/questions; *the hypotheses/questions should not come out of the blue*.\n",
    "    * And if you are going with hypotheses, adding statements following the hypotheses that briefly explain the logic behind each hypothesis is often a good idea.\n",
    "    \n",
    "* **Methods**:\n",
    "    * This will typically include subsections for key elements of your methods (e.g., Data, Models, Model fitting, etc).\n",
    "    * Do not go overboard with describing every detail and every step of your workflow. For example, you do not need to state that \"figures were plotted in ggplot and saved to a directory called xx\".\n",
    "    * Note that there is an additional requirement for the miniproject report in particular: include a section on specific computing languages and tools used and the justification for using them (more on this later).\n",
    "\n",
    "* **Results**:\n",
    "    * These can also be sub-sectioned by the main questions/hypotheses/issues your are tackling. \n",
    "    * Avoid discussion of the results here.\n",
    "    * Reference the Figures and Tables clearly and specifically (e.g., refer to key sub-panels of figures when needed).\n",
    "\n",
    "* **Discussion**:\n",
    "    * Start by reminding the reader about what the original goals of the study were.\n",
    "    * State key findings succinctly.\n",
    "    * Then discuss their implications in the wider context (with additional referencing beyond what you had in the intro).\n",
    "    * Include a paragraph or two of caveats/shortcomings with clear indication of what future work can do to address them.  \n",
    "    * End with a conclusion that delivers the final take-away messages.     \n",
    "   \n",
    "* **Supplementary Information** (SI):\n",
    "    * If used, SI should be a separate document and cited in the main text.\n",
    "    * Make sure it is a separate document that includes is own references and sections/subsections.\n",
    "    * When citing the SI in the main text, reference specific sections/subsections.\n",
    "    * The SI should be concatenated with the main document in the final submission.\n",
    "\n",
    "## Submission\n",
    "\n",
    "Add, commit and push all your work to your git repository using a directory called `MiniProject` at the same level as the Week1, Week2 etc. directories, by the Miniproject deadline given to you.\n",
    "\n",
    "At this stage, you are not going to be told you how to organize your project — that's part of the marking criteria (see next section).\n",
    "\n",
    "```{note}\n",
    "The single script that runs the whole project should be called *run_MiniProject*, with an appropriate extension (e.g., `run_MiniProject.py` or `run_MiniProject.sh`).\n",
    "```\n",
    "\n",
    "## Marking criteria\n",
    "\n",
    "*Equal weightage will be given to the code+workflow and writeup components — each component will be marked to a max of 100 pts and then rescaled to a single mark / 100 using equal weightage*\n",
    "\n",
    "The assessor will be looking for the following while assessing your submission:\n",
    "\n",
    "### Computing\n",
    "\n",
    "* A well-organized project where code, results, data, etc., are easy to locate, inspect, and use. In the project's README also include:\n",
    "\n",
    "    * Version of each language used.\n",
    "\n",
    "    * Any dependencies or special packages the user/marker should be aware of.\n",
    "\n",
    "    * What each package you used is for.\n",
    "\n",
    "* A project that runs smoothly and efficiently, without any errors once a single script is called.\n",
    "\n",
    "\n",
    "### Report\n",
    "\n",
    "* A report that contains all the components indicated above in \"The Report\" subsection, with some original thought and synthesis in the *Introduction* and *Discussion* sections.\n",
    "\n",
    "* Quality of the presentation of the graphics and tables in your report, as well as any plots showing model fits to the data.\n",
    "\n",
    "* Don't forget to read the report guidelines [above](Miniproject-report-guidelines).    \n",
    "\n",
    "### Overall\n",
    "\n",
    "* The marking criteria you may refer to for both components are the [summative marking criteria](https://github.com/mhasoba/TheMulQuaBio/raw/master/content/readings/MARKING_CRITERIA.pdf). \n",
    "* The goal is to fit as many mathematical models as possible, but the minimum being 2 (to allow model comparison). You will get more marks for picking more \"difficult\" models to fit and compare (basically, one or more non-linear mathematical models).\n",
    "    * However, note that you need to pick a problem that is within reach. You will not get extra marks for attempting to fit one or more \"difficult\" models and then, failing overall to achieve a coherent report and model fitting exercise, because, for example, you ended up spending too much time on the \"difficult\" models(s).   "
   ]
  },
  {
   "cell_type": "markdown",
   "metadata": {},
   "source": [
    "## Suggested Workflow\n",
    "\n",
    "You will build a workflow that starts with the data and ends with a report written in LaTeX. \n",
    "\n",
    "The following components and sequence of your workflow are suggested (you may choose to do it differently).\n",
    "\n",
    "### Data preparation script \n",
    "\n",
    "First, a script that imports the data and prepares it for model fitting. This may be in Python or R, and will typically have the following features:\n",
    "\n",
    "* Creates unique ids so that you can identify unique datasets (e.g., single thermal responses or functional responses). *This may not always be necessary because your data might already contain a field that delineates single curves (e.g., an `ID` field/column)* \n",
    "* Deals with missing, and other problematic data values.\n",
    "* Saves the modified data to one or more csv file(s).\n",
    "\n",
    "\n",
    "### Model fitting script\n",
    "\n",
    "A separate script that does the Model fitting. For example, it may have the following features: \n",
    "\n",
    "* Opens the (new, modified) dataset from previous step.\n",
    "\n",
    "* Does model fitting. Ultimately you need to fit at least one mechanistic/nonlinear model along with one or more linear models, but for building your workflow, just go ahead an fit a couple of different linear models (e.g., linear regression bvs quadratic and / or cubic polynomial).    \n",
    "\n",
    "* Calculates AIC, BIC, R$^{2}$, and other statistical measures of model fit (you decide what you want to include).\n",
    "\n",
    "* Exports the results to a csv that the [final plotting script](#Final-plotting-script) can read.\n",
    " \n",
    "\n",
    "```{note}\n",
    "Some data series (e.g., a single growth rate or functional response curve) may have insufficient data points for fitting a particular model. That is, the number of unique x-axis values is $\\le k$, where $k$ is the number of parameters in the model (e.g., a regression line has two parameters). Your model fitting will fail on such datasets, but you can deal with those failures later (e.g., by using the `try` keyword that you have learned in both Python and R chapters). In particular, the model fitting (or estimation of goodness of fit statistics) will fail for datasets with small sample sizes, and you can then filter these datasets *after* the Model fitting script has finished running and you are in the Analysis phase.  \n",
    "```\n",
    "\n",
    "### Final plotting and analysis script  \n",
    "\n",
    "* Next, write a script that imports the results from the previous step and plots every curve with the two (or more) models (or none, if nothing converges) overlaid. \n",
    "    * Doing this will help you identify poor fits visually and help you decide whether the model fitting (e.g., using NLLS) can be further optimized. \n",
    "    * All plots should be saved in a single separate sub-directory. \n",
    "\n",
    "* This script will also perform any analyses of the results of the Model fitting, for example to summarize which model(s) fit(s) best, and address any biological questions involving co-variates.    \n",
    "\n",
    "### Report compiling script\n",
    "\n",
    "* Then comes the $\\LaTeX$ source code and a (typically, Bash) script that compiles it. \n",
    "\n",
    "### A single script to run them all\n",
    "\n",
    "* Finally, write a script called `run_MiniProject.py` or `run_MiniProject.sh` respectively, which runs the whole project, right down to compilation of the LaTeX  document."
   ]
  },
  {
   "cell_type": "markdown",
   "metadata": {},
   "source": [
    "## For NLLS fitting \n",
    "\n",
    "**FIRST read and work through the materials [here](./20-ModelFitting-NLLS.ipynb) (NLLS in R) and [here](./Appendix-NLLS-Python.ipynb) (NLLS in Python).**\n",
    "\n",
    "* You will typically need to write a script that calculates starting values (more on this topic [here](Model-Fitting-NLLS-Starting-Values)).\n",
    "\n",
    "* You will need to use the `try` keyword because not all runs will converge. *The more data curves you are able to fit, the better — that is part of the challenge*\n",
    "\n",
    "*One thing to note is that you may need to do the NLLS fitting on the logarithm of the function (and therefore, the data) to facilitate convergence (examples are [here](./20-ModelFitting-NLLS.ipynb) and [here](./Appendix-NLLS-Python.ipynb).\n",
    "\n",
    "## Getting started \n",
    "\n",
    "Doing all this may seem a bit scary at the start. However, if you approach the problem systematically and methodically, you will soon be on your way. \n",
    "   \n",
    "```{Note}\n",
    "The Miniproject is also an exercise in learning to pick the right size of (computational) problem given the amount of time you have to solve it. So even if you might be tempted to take on, at the very start, a very ambitious project (basically, picking both linear and non-linear models) and *then* trying to develop your workflow, you will very likely get stuck in \"local optima\" in terms of the overall workflow design and implementation. It is important that you first pick a \"bite sized\" problem (e.g., two linear models), and develop the overall computational work flow, from plotting and fitting to model selection. At the same time, *also start at least outlining  the report* based on the first, simple, tractable problem you pick.     \n",
    "```\n",
    "\n",
    "Here are some suggested first steps to get started:\n",
    "\n",
    "* **Explore the data** in R or Python (e.g., using Jupyter) (first part of the suggested workflow above). \n",
    "\n",
    "* **Write a preliminary version of the plotting script** without the fitted models overlaid. That will also give you a feel for the data and allow you to see (literally) what shapes the curves can take.\n",
    "\n",
    "* **Explore the models you will be fitting**: Basically, plot them: Write mathematical functions you want to fit in a Python/R script (you can then re-use these functions in your model fitting script as well), and then evaluate them  numerically to see the shape of the function.\n",
    "\n",
    "* **Set and achieve you baseline target**: First perform, produce figures for, and interpret model comparisons using LMs only. For example, finish the workflow, right down to a summary figure and/or table showing, which, out of straight line, cubic and quadratic, fit the data better, with some interpretation. As such, this will be sufficient to write up a report. The next step wuld be adding one or more non-linear model(s) to the set of mdoels you are comparing, fitted using NLLS.  \n",
    "\n",
    "* **For NLLS fitting**: Figure out, using one, \"nice-looking\" dataset to test how the NLLS fitting package and its commands work. This is your minimal example that will give you confidence that it works!\n",
    "   * Next, write a loop over all unique datasets (data curves) using the `try` to catch errors (and examine them carefully) in case the fitting doesn't converge.\n",
    "   \n",
    "```{tip}\n",
    "Remember to sandbox and/or gitignore any code and output for exploratory plotting of the functions in the final product.\n",
    "```"
   ]
  },
  {
   "cell_type": "markdown",
   "metadata": {},
   "source": [
    "## The Dataset and Model Options\n",
    "\n",
    "You will pick from one of the following three sets of options. All students will pick the same dataset (there will be a vote in class).  \n",
    "\n",
    "First, let's load some packages to explore the data sets in Python: "
   ]
  },
  {
   "cell_type": "code",
   "execution_count": 1,
   "metadata": {},
   "outputs": [],
   "source": [
    "import pandas as pd\n",
    "import scipy as sc\n",
    "import matplotlib.pylab as pl\n",
    "import seaborn as sns # You might need to install this (e.g., pip install seaborn)"
   ]
  },
  {
   "cell_type": "markdown",
   "metadata": {},
   "source": [
    "### Population Growth\n",
    "\n",
    "#### The Question \n",
    "\n",
    "*How well do different mathematical models, e.g., based upon population growth (mechanistic) theory  vs. phenomenological ones, fit to functional responses data across species?*\n",
    "\n",
    "Fluctuations in the abundance (density) of single populations may play a crucial role in ecosystem dynamics and emergent functional characteristics, such as rates of carbon fixation or disease transmission. A population grows exponentially while its abundance is low and resources are not limiting (the Malthusian principle). This growth then slows and eventually stops as resources become limiting. There may also be a time lag before the population growth really takes off at the start. We will focus on microbial (specifically, bacterial) growth rates. Bacterial growth in batch culture follows a distinct set of phases; lag phase, exponential phase and stationary phase. During the lag phase a suite of transcriptional machinery is activated, including genes involved in nutrient uptake and metabolic changes, as bacteria prepare for growth. During the exponential growth phase, bacteria divide at a constant rate, the population doubling with each generation. When the carrying capacity of the media is reached, growth slows and the number of cells in the culture stabilises, beginning the stationary phase. Traditionally, microbial growth rates were measured by plotting cell numbers or culture density against time on a semi-log graph and fitting a straight line through the exponential growth phase &ndash; the slope of the line gives the maximum growth rate ($r_{max}$). Models have since been developed which we can use to describe the whole sigmoidal bacterial growth curve. \n",
    "\n",
    "#### The Data\n",
    "\n",
    "The dataset is called `LogisticGrowthData.csv`. It contains measurements of change in biomass or number of cells of microbes over time. These data were collected through lab experiments across the world. The field names are defined in a file called  `LogisticGrowthMetaData.csv`, also in the `data` directory. The two main fields of interest are `PopBio` (abundance), and `Time`. Single population growth rate curves can be identified by as unique  temperature-species-medium-citation-replicate combinations (concatenate them to get a new string variable that identifies unique growth curves).\n",
    "\n",
    "Let's have a look at the data:"
   ]
  },
  {
   "cell_type": "code",
   "execution_count": 20,
   "metadata": {},
   "outputs": [
    {
     "name": "stdout",
     "output_type": "stream",
     "text": [
      "Loaded 10 columns.\n"
     ]
    }
   ],
   "source": [
    "data = pd.read_csv(\"../data/LogisticGrowthData.csv\")\n",
    "print(\"Loaded {} columns.\".format(len(data.columns.values)))"
   ]
  },
  {
   "cell_type": "code",
   "execution_count": 21,
   "metadata": {},
   "outputs": [
    {
     "name": "stdout",
     "output_type": "stream",
     "text": [
      "['X' 'Time' 'PopBio' 'Temp' 'Time_units' 'PopBio_units' 'Species' 'Medium'\n",
      " 'Rep' 'Citation']\n"
     ]
    }
   ],
   "source": [
    "print(data.columns.values)"
   ]
  },
  {
   "cell_type": "code",
   "execution_count": 22,
   "metadata": {},
   "outputs": [
    {
     "data": {
      "text/html": [
       "<div>\n",
       "<style scoped>\n",
       "    .dataframe tbody tr th:only-of-type {\n",
       "        vertical-align: middle;\n",
       "    }\n",
       "\n",
       "    .dataframe tbody tr th {\n",
       "        vertical-align: top;\n",
       "    }\n",
       "\n",
       "    .dataframe thead th {\n",
       "        text-align: right;\n",
       "    }\n",
       "</style>\n",
       "<table border=\"1\" class=\"dataframe\">\n",
       "  <thead>\n",
       "    <tr style=\"text-align: right;\">\n",
       "      <th></th>\n",
       "      <th>Time</th>\n",
       "      <th>Time at which measurement was taken.</th>\n",
       "    </tr>\n",
       "  </thead>\n",
       "  <tbody>\n",
       "    <tr>\n",
       "      <th>0</th>\n",
       "      <td>PopBio</td>\n",
       "      <td>Population or biomass measurement.</td>\n",
       "    </tr>\n",
       "    <tr>\n",
       "      <th>1</th>\n",
       "      <td>Temp</td>\n",
       "      <td>Temperature at which the microbe was grown (de...</td>\n",
       "    </tr>\n",
       "    <tr>\n",
       "      <th>2</th>\n",
       "      <td>Time_units</td>\n",
       "      <td>Units time is measured in.</td>\n",
       "    </tr>\n",
       "    <tr>\n",
       "      <th>3</th>\n",
       "      <td>PopBio_units</td>\n",
       "      <td>Units population or biomass are measured in.</td>\n",
       "    </tr>\n",
       "    <tr>\n",
       "      <th>4</th>\n",
       "      <td>Species</td>\n",
       "      <td>Species or strain used.</td>\n",
       "    </tr>\n",
       "    <tr>\n",
       "      <th>5</th>\n",
       "      <td>Medium</td>\n",
       "      <td>Medium the microbe was grown in.</td>\n",
       "    </tr>\n",
       "    <tr>\n",
       "      <th>6</th>\n",
       "      <td>Rep</td>\n",
       "      <td>Replicate within the experiment.</td>\n",
       "    </tr>\n",
       "    <tr>\n",
       "      <th>7</th>\n",
       "      <td>Citation</td>\n",
       "      <td>Citation for the paper in which the study was...</td>\n",
       "    </tr>\n",
       "  </tbody>\n",
       "</table>\n",
       "</div>"
      ],
      "text/plain": [
       "           Time               Time at which measurement was taken.\n",
       "0        PopBio                 Population or biomass measurement.\n",
       "1          Temp  Temperature at which the microbe was grown (de...\n",
       "2    Time_units                         Units time is measured in.\n",
       "3  PopBio_units       Units population or biomass are measured in.\n",
       "4       Species                            Species or strain used.\n",
       "5        Medium                   Medium the microbe was grown in.\n",
       "6           Rep                   Replicate within the experiment.\n",
       "7      Citation   Citation for the paper in which the study was..."
      ]
     },
     "execution_count": 22,
     "metadata": {},
     "output_type": "execute_result"
    }
   ],
   "source": [
    "pd.read_csv(\"../data/LogisticGrowthMetaData.csv\")"
   ]
  },
  {
   "cell_type": "code",
   "execution_count": 23,
   "metadata": {
    "scrolled": true
   },
   "outputs": [
    {
     "data": {
      "text/html": [
       "<div>\n",
       "<style scoped>\n",
       "    .dataframe tbody tr th:only-of-type {\n",
       "        vertical-align: middle;\n",
       "    }\n",
       "\n",
       "    .dataframe tbody tr th {\n",
       "        vertical-align: top;\n",
       "    }\n",
       "\n",
       "    .dataframe thead th {\n",
       "        text-align: right;\n",
       "    }\n",
       "</style>\n",
       "<table border=\"1\" class=\"dataframe\">\n",
       "  <thead>\n",
       "    <tr style=\"text-align: right;\">\n",
       "      <th></th>\n",
       "      <th>X</th>\n",
       "      <th>Time</th>\n",
       "      <th>PopBio</th>\n",
       "      <th>Temp</th>\n",
       "      <th>Time_units</th>\n",
       "      <th>PopBio_units</th>\n",
       "      <th>Species</th>\n",
       "      <th>Medium</th>\n",
       "      <th>Rep</th>\n",
       "      <th>Citation</th>\n",
       "    </tr>\n",
       "  </thead>\n",
       "  <tbody>\n",
       "    <tr>\n",
       "      <th>0</th>\n",
       "      <td>1</td>\n",
       "      <td>669.879518</td>\n",
       "      <td>0.283276</td>\n",
       "      <td>5</td>\n",
       "      <td>Hours</td>\n",
       "      <td>OD_595</td>\n",
       "      <td>Chryseobacterium.balustinum</td>\n",
       "      <td>TSB</td>\n",
       "      <td>1</td>\n",
       "      <td>Bae, Y.M., Zheng, L., Hyun, J.E., Jung, K.S., ...</td>\n",
       "    </tr>\n",
       "    <tr>\n",
       "      <th>1</th>\n",
       "      <td>2</td>\n",
       "      <td>646.987952</td>\n",
       "      <td>0.283342</td>\n",
       "      <td>5</td>\n",
       "      <td>Hours</td>\n",
       "      <td>OD_595</td>\n",
       "      <td>Chryseobacterium.balustinum</td>\n",
       "      <td>TSB</td>\n",
       "      <td>1</td>\n",
       "      <td>Bae, Y.M., Zheng, L., Hyun, J.E., Jung, K.S., ...</td>\n",
       "    </tr>\n",
       "    <tr>\n",
       "      <th>2</th>\n",
       "      <td>3</td>\n",
       "      <td>622.891566</td>\n",
       "      <td>0.285151</td>\n",
       "      <td>5</td>\n",
       "      <td>Hours</td>\n",
       "      <td>OD_595</td>\n",
       "      <td>Chryseobacterium.balustinum</td>\n",
       "      <td>TSB</td>\n",
       "      <td>1</td>\n",
       "      <td>Bae, Y.M., Zheng, L., Hyun, J.E., Jung, K.S., ...</td>\n",
       "    </tr>\n",
       "    <tr>\n",
       "      <th>3</th>\n",
       "      <td>4</td>\n",
       "      <td>597.590361</td>\n",
       "      <td>0.281746</td>\n",
       "      <td>5</td>\n",
       "      <td>Hours</td>\n",
       "      <td>OD_595</td>\n",
       "      <td>Chryseobacterium.balustinum</td>\n",
       "      <td>TSB</td>\n",
       "      <td>1</td>\n",
       "      <td>Bae, Y.M., Zheng, L., Hyun, J.E., Jung, K.S., ...</td>\n",
       "    </tr>\n",
       "    <tr>\n",
       "      <th>4</th>\n",
       "      <td>5</td>\n",
       "      <td>574.698795</td>\n",
       "      <td>0.273117</td>\n",
       "      <td>5</td>\n",
       "      <td>Hours</td>\n",
       "      <td>OD_595</td>\n",
       "      <td>Chryseobacterium.balustinum</td>\n",
       "      <td>TSB</td>\n",
       "      <td>1</td>\n",
       "      <td>Bae, Y.M., Zheng, L., Hyun, J.E., Jung, K.S., ...</td>\n",
       "    </tr>\n",
       "  </tbody>\n",
       "</table>\n",
       "</div>"
      ],
      "text/plain": [
       "   X        Time    PopBio  Temp Time_units PopBio_units  \\\n",
       "0  1  669.879518  0.283276     5      Hours       OD_595   \n",
       "1  2  646.987952  0.283342     5      Hours       OD_595   \n",
       "2  3  622.891566  0.285151     5      Hours       OD_595   \n",
       "3  4  597.590361  0.281746     5      Hours       OD_595   \n",
       "4  5  574.698795  0.273117     5      Hours       OD_595   \n",
       "\n",
       "                       Species Medium  Rep  \\\n",
       "0  Chryseobacterium.balustinum    TSB    1   \n",
       "1  Chryseobacterium.balustinum    TSB    1   \n",
       "2  Chryseobacterium.balustinum    TSB    1   \n",
       "3  Chryseobacterium.balustinum    TSB    1   \n",
       "4  Chryseobacterium.balustinum    TSB    1   \n",
       "\n",
       "                                            Citation  \n",
       "0  Bae, Y.M., Zheng, L., Hyun, J.E., Jung, K.S., ...  \n",
       "1  Bae, Y.M., Zheng, L., Hyun, J.E., Jung, K.S., ...  \n",
       "2  Bae, Y.M., Zheng, L., Hyun, J.E., Jung, K.S., ...  \n",
       "3  Bae, Y.M., Zheng, L., Hyun, J.E., Jung, K.S., ...  \n",
       "4  Bae, Y.M., Zheng, L., Hyun, J.E., Jung, K.S., ...  "
      ]
     },
     "execution_count": 23,
     "metadata": {},
     "output_type": "execute_result"
    }
   ],
   "source": [
    "data.head()"
   ]
  },
  {
   "cell_type": "code",
   "execution_count": 24,
   "metadata": {},
   "outputs": [
    {
     "name": "stdout",
     "output_type": "stream",
     "text": [
      "['OD_595' 'N' 'CFU' 'DryWeight']\n"
     ]
    }
   ],
   "source": [
    "print(data.PopBio_units.unique()) #units of the response variable "
   ]
  },
  {
   "cell_type": "code",
   "execution_count": 25,
   "metadata": {},
   "outputs": [
    {
     "name": "stdout",
     "output_type": "stream",
     "text": [
      "['Hours']\n"
     ]
    }
   ],
   "source": [
    "print(data.Time_units.unique()) #units of the independent variable "
   ]
  },
  {
   "cell_type": "markdown",
   "metadata": {},
   "source": [
    "Unlike the previous two datasets there are no ID coulmns, so you will have to  infer single growth curves by combining `Species`, `Medium`, `Temp` and `Citation` columns (each species-medium-citation combination is unique):"
   ]
  },
  {
   "cell_type": "code",
   "execution_count": 26,
   "metadata": {
    "scrolled": true
   },
   "outputs": [],
   "source": [
    "data.insert(0, \"ID\", data.Species + \"_\" + data.Temp.map(str) + \"_\" + data.Medium + \"_\" + data.Citation)"
   ]
  },
  {
   "cell_type": "markdown",
   "metadata": {},
   "source": [
    "Note that the `map()` method coverts temperature values to string (`str`) for concatenation."
   ]
  },
  {
   "cell_type": "code",
   "execution_count": 27,
   "metadata": {
    "scrolled": true
   },
   "outputs": [
    {
     "name": "stdout",
     "output_type": "stream",
     "text": [
      "['Chryseobacterium.balustinum_5_TSB_Bae, Y.M., Zheng, L., Hyun, J.E., Jung, K.S., Heu, S. and Lee, S.Y., 2014. Growth characteristics and biofilm formation of various spoilage bacteria isolated from fresh produce. Journal of food science, 79(10), pp.M2072-M2080.'\n",
      " 'Enterobacter.sp._5_TSB_Bae, Y.M., Zheng, L., Hyun, J.E., Jung, K.S., Heu, S. and Lee, S.Y., 2014. Growth characteristics and biofilm formation of various spoilage bacteria isolated from fresh produce. Journal of food science, 79(10), pp.M2072-M2080.'\n",
      " 'Pantoea.agglomerans.1_5_TSB_Bae, Y.M., Zheng, L., Hyun, J.E., Jung, K.S., Heu, S. and Lee, S.Y., 2014. Growth characteristics and biofilm formation of various spoilage bacteria isolated from fresh produce. Journal of food science, 79(10), pp.M2072-M2080.'\n",
      " 'Pantoea.agglomerans.2_5_TSB_Bae, Y.M., Zheng, L., Hyun, J.E., Jung, K.S., Heu, S. and Lee, S.Y., 2014. Growth characteristics and biofilm formation of various spoilage bacteria isolated from fresh produce. Journal of food science, 79(10), pp.M2072-M2080.'\n",
      " 'Bacillus.pumilus_5_TSB_Bae, Y.M., Zheng, L., Hyun, J.E., Jung, K.S., Heu, S. and Lee, S.Y., 2014. Growth characteristics and biofilm formation of various spoilage bacteria isolated from fresh produce. Journal of food science, 79(10), pp.M2072-M2080.'\n",
      " 'Clavibacter.michiganensis_5_TSB_Bae, Y.M., Zheng, L., Hyun, J.E., Jung, K.S., Heu, S. and Lee, S.Y., 2014. Growth characteristics and biofilm formation of various spoilage bacteria isolated from fresh produce. Journal of food science, 79(10), pp.M2072-M2080.'\n",
      " 'Pseudomonas.fluorescens.1_5_TSB_Bae, Y.M., Zheng, L., Hyun, J.E., Jung, K.S., Heu, S. and Lee, S.Y., 2014. Growth characteristics and biofilm formation of various spoilage bacteria isolated from fresh produce. Journal of food science, 79(10), pp.M2072-M2080.'\n",
      " 'Pseudomonas.fluorescens.2_5_TSB_Bae, Y.M., Zheng, L., Hyun, J.E., Jung, K.S., Heu, S. and Lee, S.Y., 2014. Growth characteristics and biofilm formation of various spoilage bacteria isolated from fresh produce. Journal of food science, 79(10), pp.M2072-M2080.'\n",
      " 'Acinetobacter.clacoaceticus.1_5_TSB_Bae, Y.M., Zheng, L., Hyun, J.E., Jung, K.S., Heu, S. and Lee, S.Y., 2014. Growth characteristics and biofilm formation of various spoilage bacteria isolated from fresh produce. Journal of food science, 79(10), pp.M2072-M2080.'\n",
      " 'Acinetobacter.clacoaceticus.2_5_TSB_Bae, Y.M., Zheng, L., Hyun, J.E., Jung, K.S., Heu, S. and Lee, S.Y., 2014. Growth characteristics and biofilm formation of various spoilage bacteria isolated from fresh produce. Journal of food science, 79(10), pp.M2072-M2080.'\n",
      " 'Stenotrophomonas.maltophilia.1_5_TSB_Bae, Y.M., Zheng, L., Hyun, J.E., Jung, K.S., Heu, S. and Lee, S.Y., 2014. Growth characteristics and biofilm formation of various spoilage bacteria isolated from fresh produce. Journal of food science, 79(10), pp.M2072-M2080.'\n",
      " 'Stenotrophomonas.maltophilia.2_5_TSB_Bae, Y.M., Zheng, L., Hyun, J.E., Jung, K.S., Heu, S. and Lee, S.Y., 2014. Growth characteristics and biofilm formation of various spoilage bacteria isolated from fresh produce. Journal of food science, 79(10), pp.M2072-M2080.'\n",
      " 'Klebsiella.pneumonia_5_TSB_Bae, Y.M., Zheng, L., Hyun, J.E., Jung, K.S., Heu, S. and Lee, S.Y., 2014. Growth characteristics and biofilm formation of various spoilage bacteria isolated from fresh produce. Journal of food science, 79(10), pp.M2072-M2080.'\n",
      " 'Dickeya.zeae_5_TSB_Bae, Y.M., Zheng, L., Hyun, J.E., Jung, K.S., Heu, S. and Lee, S.Y., 2014. Growth characteristics and biofilm formation of various spoilage bacteria isolated from fresh produce. Journal of food science, 79(10), pp.M2072-M2080.'\n",
      " 'Pectobacterium.carotovorum.subsp..Carotovorum.Pcc2_5_TSB_Bae, Y.M., Zheng, L., Hyun, J.E., Jung, K.S., Heu, S. and Lee, S.Y., 2014. Growth characteristics and biofilm formation of various spoilage bacteria isolated from fresh produce. Journal of food science, 79(10), pp.M2072-M2080.'\n",
      " 'Pantoea.agglomerans..RDA.R._5_TSB_Bae, Y.M., Zheng, L., Hyun, J.E., Jung, K.S., Heu, S. and Lee, S.Y., 2014. Growth characteristics and biofilm formation of various spoilage bacteria isolated from fresh produce. Journal of food science, 79(10), pp.M2072-M2080.'\n",
      " 'Dickeya.zeae..RDA.R._5_TSB_Bae, Y.M., Zheng, L., Hyun, J.E., Jung, K.S., Heu, S. and Lee, S.Y., 2014. Growth characteristics and biofilm formation of various spoilage bacteria isolated from fresh produce. Journal of food science, 79(10), pp.M2072-M2080.'\n",
      " 'Acinetobacter.clacoaceticus..RDA.R._5_TSB_Bae, Y.M., Zheng, L., Hyun, J.E., Jung, K.S., Heu, S. and Lee, S.Y., 2014. Growth characteristics and biofilm formation of various spoilage bacteria isolated from fresh produce. Journal of food science, 79(10), pp.M2072-M2080.'\n",
      " 'Stenotrophomonas.maltophilia..RDA.R._5_TSB_Bae, Y.M., Zheng, L., Hyun, J.E., Jung, K.S., Heu, S. and Lee, S.Y., 2014. Growth characteristics and biofilm formation of various spoilage bacteria isolated from fresh produce. Journal of food science, 79(10), pp.M2072-M2080.'\n",
      " 'Klebsiella.pneumonia..RDA.R._5_TSB_Bae, Y.M., Zheng, L., Hyun, J.E., Jung, K.S., Heu, S. and Lee, S.Y., 2014. Growth characteristics and biofilm formation of various spoilage bacteria isolated from fresh produce. Journal of food science, 79(10), pp.M2072-M2080.'\n",
      " 'Bacillus.pumilus..RDA.R._5_TSB_Bae, Y.M., Zheng, L., Hyun, J.E., Jung, K.S., Heu, S. and Lee, S.Y., 2014. Growth characteristics and biofilm formation of various spoilage bacteria isolated from fresh produce. Journal of food science, 79(10), pp.M2072-M2080.'\n",
      " 'Clavibacter.michiganensis..RDA.R._5_TSB_Bae, Y.M., Zheng, L., Hyun, J.E., Jung, K.S., Heu, S. and Lee, S.Y., 2014. Growth characteristics and biofilm formation of various spoilage bacteria isolated from fresh produce. Journal of food science, 79(10), pp.M2072-M2080.'\n",
      " 'Chryseobacterium.balustinum_15_TSB_Bae, Y.M., Zheng, L., Hyun, J.E., Jung, K.S., Heu, S. and Lee, S.Y., 2014. Growth characteristics and biofilm formation of various spoilage bacteria isolated from fresh produce. Journal of food science, 79(10), pp.M2072-M2080.'\n",
      " 'Enterobacter.sp._15_TSB_Bae, Y.M., Zheng, L., Hyun, J.E., Jung, K.S., Heu, S. and Lee, S.Y., 2014. Growth characteristics and biofilm formation of various spoilage bacteria isolated from fresh produce. Journal of food science, 79(10), pp.M2072-M2080.'\n",
      " 'Pantoea.agglomerans.1_15_TSB_Bae, Y.M., Zheng, L., Hyun, J.E., Jung, K.S., Heu, S. and Lee, S.Y., 2014. Growth characteristics and biofilm formation of various spoilage bacteria isolated from fresh produce. Journal of food science, 79(10), pp.M2072-M2080.'\n",
      " 'Pantoea.agglomerans.2_15_TSB_Bae, Y.M., Zheng, L., Hyun, J.E., Jung, K.S., Heu, S. and Lee, S.Y., 2014. Growth characteristics and biofilm formation of various spoilage bacteria isolated from fresh produce. Journal of food science, 79(10), pp.M2072-M2080.'\n",
      " 'Bacillus.pumilus_15_TSB_Bae, Y.M., Zheng, L., Hyun, J.E., Jung, K.S., Heu, S. and Lee, S.Y., 2014. Growth characteristics and biofilm formation of various spoilage bacteria isolated from fresh produce. Journal of food science, 79(10), pp.M2072-M2080.'\n",
      " 'Clavibacter.michiganensis_15_TSB_Bae, Y.M., Zheng, L., Hyun, J.E., Jung, K.S., Heu, S. and Lee, S.Y., 2014. Growth characteristics and biofilm formation of various spoilage bacteria isolated from fresh produce. Journal of food science, 79(10), pp.M2072-M2080.'\n",
      " 'Pseudomonas.fluorescens.1_15_TSB_Bae, Y.M., Zheng, L., Hyun, J.E., Jung, K.S., Heu, S. and Lee, S.Y., 2014. Growth characteristics and biofilm formation of various spoilage bacteria isolated from fresh produce. Journal of food science, 79(10), pp.M2072-M2080.'\n",
      " 'Pseudomonas.fluorescens.2_15_TSB_Bae, Y.M., Zheng, L., Hyun, J.E., Jung, K.S., Heu, S. and Lee, S.Y., 2014. Growth characteristics and biofilm formation of various spoilage bacteria isolated from fresh produce. Journal of food science, 79(10), pp.M2072-M2080.'\n",
      " 'Acinetobacter.clacoaceticus.1_15_TSB_Bae, Y.M., Zheng, L., Hyun, J.E., Jung, K.S., Heu, S. and Lee, S.Y., 2014. Growth characteristics and biofilm formation of various spoilage bacteria isolated from fresh produce. Journal of food science, 79(10), pp.M2072-M2080.'\n",
      " 'Acinetobacter.clacoaceticus.2_15_TSB_Bae, Y.M., Zheng, L., Hyun, J.E., Jung, K.S., Heu, S. and Lee, S.Y., 2014. Growth characteristics and biofilm formation of various spoilage bacteria isolated from fresh produce. Journal of food science, 79(10), pp.M2072-M2080.'\n",
      " 'Stenotrophomonas.maltophilia.1_15_TSB_Bae, Y.M., Zheng, L., Hyun, J.E., Jung, K.S., Heu, S. and Lee, S.Y., 2014. Growth characteristics and biofilm formation of various spoilage bacteria isolated from fresh produce. Journal of food science, 79(10), pp.M2072-M2080.'\n",
      " 'Stenotrophomonas.maltophilia.2_15_TSB_Bae, Y.M., Zheng, L., Hyun, J.E., Jung, K.S., Heu, S. and Lee, S.Y., 2014. Growth characteristics and biofilm formation of various spoilage bacteria isolated from fresh produce. Journal of food science, 79(10), pp.M2072-M2080.'\n",
      " 'Klebsiella.pneumonia_15_TSB_Bae, Y.M., Zheng, L., Hyun, J.E., Jung, K.S., Heu, S. and Lee, S.Y., 2014. Growth characteristics and biofilm formation of various spoilage bacteria isolated from fresh produce. Journal of food science, 79(10), pp.M2072-M2080.'\n",
      " 'Dickeya.zeae_15_TSB_Bae, Y.M., Zheng, L., Hyun, J.E., Jung, K.S., Heu, S. and Lee, S.Y., 2014. Growth characteristics and biofilm formation of various spoilage bacteria isolated from fresh produce. Journal of food science, 79(10), pp.M2072-M2080.'\n",
      " 'Pectobacterium.carotovorum.subsp..Carotovorum.Pcc2_15_TSB_Bae, Y.M., Zheng, L., Hyun, J.E., Jung, K.S., Heu, S. and Lee, S.Y., 2014. Growth characteristics and biofilm formation of various spoilage bacteria isolated from fresh produce. Journal of food science, 79(10), pp.M2072-M2080.'\n",
      " 'Pantoea.agglomerans..RDA.R._15_TSB_Bae, Y.M., Zheng, L., Hyun, J.E., Jung, K.S., Heu, S. and Lee, S.Y., 2014. Growth characteristics and biofilm formation of various spoilage bacteria isolated from fresh produce. Journal of food science, 79(10), pp.M2072-M2080.'\n",
      " 'Dickeya.zeae..RDA.R._15_TSB_Bae, Y.M., Zheng, L., Hyun, J.E., Jung, K.S., Heu, S. and Lee, S.Y., 2014. Growth characteristics and biofilm formation of various spoilage bacteria isolated from fresh produce. Journal of food science, 79(10), pp.M2072-M2080.'\n",
      " 'Acinetobacter.clacoaceticus..RDA.R._15_TSB_Bae, Y.M., Zheng, L., Hyun, J.E., Jung, K.S., Heu, S. and Lee, S.Y., 2014. Growth characteristics and biofilm formation of various spoilage bacteria isolated from fresh produce. Journal of food science, 79(10), pp.M2072-M2080.'\n",
      " 'Stenotrophomonas.maltophilia..RDA.R._15_TSB_Bae, Y.M., Zheng, L., Hyun, J.E., Jung, K.S., Heu, S. and Lee, S.Y., 2014. Growth characteristics and biofilm formation of various spoilage bacteria isolated from fresh produce. Journal of food science, 79(10), pp.M2072-M2080.'\n",
      " 'Klebsiella.pneumonia..RDA.R._15_TSB_Bae, Y.M., Zheng, L., Hyun, J.E., Jung, K.S., Heu, S. and Lee, S.Y., 2014. Growth characteristics and biofilm formation of various spoilage bacteria isolated from fresh produce. Journal of food science, 79(10), pp.M2072-M2080.'\n",
      " 'Bacillus.pumilus..RDA.R._15_TSB_Bae, Y.M., Zheng, L., Hyun, J.E., Jung, K.S., Heu, S. and Lee, S.Y., 2014. Growth characteristics and biofilm formation of various spoilage bacteria isolated from fresh produce. Journal of food science, 79(10), pp.M2072-M2080.'\n",
      " 'Clavibacter.michiganensis..RDA.R._15_TSB_Bae, Y.M., Zheng, L., Hyun, J.E., Jung, K.S., Heu, S. and Lee, S.Y., 2014. Growth characteristics and biofilm formation of various spoilage bacteria isolated from fresh produce. Journal of food science, 79(10), pp.M2072-M2080.'\n",
      " 'Chryseobacterium.balustinum_25_TSB_Bae, Y.M., Zheng, L., Hyun, J.E., Jung, K.S., Heu, S. and Lee, S.Y., 2014. Growth characteristics and biofilm formation of various spoilage bacteria isolated from fresh produce. Journal of food science, 79(10), pp.M2072-M2080.'\n",
      " 'Enterobacter.sp._25_TSB_Bae, Y.M., Zheng, L., Hyun, J.E., Jung, K.S., Heu, S. and Lee, S.Y., 2014. Growth characteristics and biofilm formation of various spoilage bacteria isolated from fresh produce. Journal of food science, 79(10), pp.M2072-M2080.'\n",
      " 'Pantoea.agglomerans.1_25_TSB_Bae, Y.M., Zheng, L., Hyun, J.E., Jung, K.S., Heu, S. and Lee, S.Y., 2014. Growth characteristics and biofilm formation of various spoilage bacteria isolated from fresh produce. Journal of food science, 79(10), pp.M2072-M2080.'\n",
      " 'Pantoea.agglomerans.2_25_TSB_Bae, Y.M., Zheng, L., Hyun, J.E., Jung, K.S., Heu, S. and Lee, S.Y., 2014. Growth characteristics and biofilm formation of various spoilage bacteria isolated from fresh produce. Journal of food science, 79(10), pp.M2072-M2080.'\n",
      " 'Bacillus.pumilus_25_TSB_Bae, Y.M., Zheng, L., Hyun, J.E., Jung, K.S., Heu, S. and Lee, S.Y., 2014. Growth characteristics and biofilm formation of various spoilage bacteria isolated from fresh produce. Journal of food science, 79(10), pp.M2072-M2080.'\n",
      " 'Clavibacter.michiganensis_25_TSB_Bae, Y.M., Zheng, L., Hyun, J.E., Jung, K.S., Heu, S. and Lee, S.Y., 2014. Growth characteristics and biofilm formation of various spoilage bacteria isolated from fresh produce. Journal of food science, 79(10), pp.M2072-M2080.'\n",
      " 'Pseudomonas.fluorescens.1_25_TSB_Bae, Y.M., Zheng, L., Hyun, J.E., Jung, K.S., Heu, S. and Lee, S.Y., 2014. Growth characteristics and biofilm formation of various spoilage bacteria isolated from fresh produce. Journal of food science, 79(10), pp.M2072-M2080.'\n",
      " 'Pseudomonas.fluorescens.2_25_TSB_Bae, Y.M., Zheng, L., Hyun, J.E., Jung, K.S., Heu, S. and Lee, S.Y., 2014. Growth characteristics and biofilm formation of various spoilage bacteria isolated from fresh produce. Journal of food science, 79(10), pp.M2072-M2080.'\n",
      " 'Acinetobacter.clacoaceticus.1_25_TSB_Bae, Y.M., Zheng, L., Hyun, J.E., Jung, K.S., Heu, S. and Lee, S.Y., 2014. Growth characteristics and biofilm formation of various spoilage bacteria isolated from fresh produce. Journal of food science, 79(10), pp.M2072-M2080.'\n",
      " 'Acinetobacter.clacoaceticus.2_25_TSB_Bae, Y.M., Zheng, L., Hyun, J.E., Jung, K.S., Heu, S. and Lee, S.Y., 2014. Growth characteristics and biofilm formation of various spoilage bacteria isolated from fresh produce. Journal of food science, 79(10), pp.M2072-M2080.'\n",
      " 'Stenotrophomonas.maltophilia.1_25_TSB_Bae, Y.M., Zheng, L., Hyun, J.E., Jung, K.S., Heu, S. and Lee, S.Y., 2014. Growth characteristics and biofilm formation of various spoilage bacteria isolated from fresh produce. Journal of food science, 79(10), pp.M2072-M2080.'\n",
      " 'Stenotrophomonas.maltophilia.2_25_TSB_Bae, Y.M., Zheng, L., Hyun, J.E., Jung, K.S., Heu, S. and Lee, S.Y., 2014. Growth characteristics and biofilm formation of various spoilage bacteria isolated from fresh produce. Journal of food science, 79(10), pp.M2072-M2080.'\n",
      " 'Klebsiella.pneumonia_25_TSB_Bae, Y.M., Zheng, L., Hyun, J.E., Jung, K.S., Heu, S. and Lee, S.Y., 2014. Growth characteristics and biofilm formation of various spoilage bacteria isolated from fresh produce. Journal of food science, 79(10), pp.M2072-M2080.'\n",
      " 'Dickeya.zeae_25_TSB_Bae, Y.M., Zheng, L., Hyun, J.E., Jung, K.S., Heu, S. and Lee, S.Y., 2014. Growth characteristics and biofilm formation of various spoilage bacteria isolated from fresh produce. Journal of food science, 79(10), pp.M2072-M2080.'\n",
      " 'Pectobacterium.carotovorum.subsp..Carotovorum.Pcc2_25_TSB_Bae, Y.M., Zheng, L., Hyun, J.E., Jung, K.S., Heu, S. and Lee, S.Y., 2014. Growth characteristics and biofilm formation of various spoilage bacteria isolated from fresh produce. Journal of food science, 79(10), pp.M2072-M2080.'\n",
      " 'Pantoea.agglomerans..RDA.R._25_TSB_Bae, Y.M., Zheng, L., Hyun, J.E., Jung, K.S., Heu, S. and Lee, S.Y., 2014. Growth characteristics and biofilm formation of various spoilage bacteria isolated from fresh produce. Journal of food science, 79(10), pp.M2072-M2080.'\n",
      " 'Dickeya.zeae..RDA.R._25_TSB_Bae, Y.M., Zheng, L., Hyun, J.E., Jung, K.S., Heu, S. and Lee, S.Y., 2014. Growth characteristics and biofilm formation of various spoilage bacteria isolated from fresh produce. Journal of food science, 79(10), pp.M2072-M2080.'\n",
      " 'Acinetobacter.clacoaceticus..RDA.R._25_TSB_Bae, Y.M., Zheng, L., Hyun, J.E., Jung, K.S., Heu, S. and Lee, S.Y., 2014. Growth characteristics and biofilm formation of various spoilage bacteria isolated from fresh produce. Journal of food science, 79(10), pp.M2072-M2080.'\n",
      " 'Stenotrophomonas.maltophilia..RDA.R._25_TSB_Bae, Y.M., Zheng, L., Hyun, J.E., Jung, K.S., Heu, S. and Lee, S.Y., 2014. Growth characteristics and biofilm formation of various spoilage bacteria isolated from fresh produce. Journal of food science, 79(10), pp.M2072-M2080.'\n",
      " 'Klebsiella.pneumonia..RDA.R._25_TSB_Bae, Y.M., Zheng, L., Hyun, J.E., Jung, K.S., Heu, S. and Lee, S.Y., 2014. Growth characteristics and biofilm formation of various spoilage bacteria isolated from fresh produce. Journal of food science, 79(10), pp.M2072-M2080.'\n",
      " 'Bacillus.pumilus..RDA.R._25_TSB_Bae, Y.M., Zheng, L., Hyun, J.E., Jung, K.S., Heu, S. and Lee, S.Y., 2014. Growth characteristics and biofilm formation of various spoilage bacteria isolated from fresh produce. Journal of food science, 79(10), pp.M2072-M2080.'\n",
      " 'Clavibacter.michiganensis..RDA.R._25_TSB_Bae, Y.M., Zheng, L., Hyun, J.E., Jung, K.S., Heu, S. and Lee, S.Y., 2014. Growth characteristics and biofilm formation of various spoilage bacteria isolated from fresh produce. Journal of food science, 79(10), pp.M2072-M2080.'\n",
      " 'Chryseobacterium.balustinum_35_TSB_Bae, Y.M., Zheng, L., Hyun, J.E., Jung, K.S., Heu, S. and Lee, S.Y., 2014. Growth characteristics and biofilm formation of various spoilage bacteria isolated from fresh produce. Journal of food science, 79(10), pp.M2072-M2080.'\n",
      " 'Enterobacter.sp._35_TSB_Bae, Y.M., Zheng, L., Hyun, J.E., Jung, K.S., Heu, S. and Lee, S.Y., 2014. Growth characteristics and biofilm formation of various spoilage bacteria isolated from fresh produce. Journal of food science, 79(10), pp.M2072-M2080.'\n",
      " 'Pantoea.agglomerans.1_35_TSB_Bae, Y.M., Zheng, L., Hyun, J.E., Jung, K.S., Heu, S. and Lee, S.Y., 2014. Growth characteristics and biofilm formation of various spoilage bacteria isolated from fresh produce. Journal of food science, 79(10), pp.M2072-M2080.'\n",
      " 'Pantoea.agglomerans.2_35_TSB_Bae, Y.M., Zheng, L., Hyun, J.E., Jung, K.S., Heu, S. and Lee, S.Y., 2014. Growth characteristics and biofilm formation of various spoilage bacteria isolated from fresh produce. Journal of food science, 79(10), pp.M2072-M2080.'\n",
      " 'Bacillus.pumilus_35_TSB_Bae, Y.M., Zheng, L., Hyun, J.E., Jung, K.S., Heu, S. and Lee, S.Y., 2014. Growth characteristics and biofilm formation of various spoilage bacteria isolated from fresh produce. Journal of food science, 79(10), pp.M2072-M2080.'\n",
      " 'Clavibacter.michiganensis_35_TSB_Bae, Y.M., Zheng, L., Hyun, J.E., Jung, K.S., Heu, S. and Lee, S.Y., 2014. Growth characteristics and biofilm formation of various spoilage bacteria isolated from fresh produce. Journal of food science, 79(10), pp.M2072-M2080.'\n",
      " 'Pseudomonas.fluorescens.1_35_TSB_Bae, Y.M., Zheng, L., Hyun, J.E., Jung, K.S., Heu, S. and Lee, S.Y., 2014. Growth characteristics and biofilm formation of various spoilage bacteria isolated from fresh produce. Journal of food science, 79(10), pp.M2072-M2080.'\n",
      " 'Pseudomonas.fluorescens.2_35_TSB_Bae, Y.M., Zheng, L., Hyun, J.E., Jung, K.S., Heu, S. and Lee, S.Y., 2014. Growth characteristics and biofilm formation of various spoilage bacteria isolated from fresh produce. Journal of food science, 79(10), pp.M2072-M2080.'\n",
      " 'Acinetobacter.clacoaceticus.1_35_TSB_Bae, Y.M., Zheng, L., Hyun, J.E., Jung, K.S., Heu, S. and Lee, S.Y., 2014. Growth characteristics and biofilm formation of various spoilage bacteria isolated from fresh produce. Journal of food science, 79(10), pp.M2072-M2080.'\n",
      " 'Acinetobacter.clacoaceticus.2_35_TSB_Bae, Y.M., Zheng, L., Hyun, J.E., Jung, K.S., Heu, S. and Lee, S.Y., 2014. Growth characteristics and biofilm formation of various spoilage bacteria isolated from fresh produce. Journal of food science, 79(10), pp.M2072-M2080.'\n",
      " 'Stenotrophomonas.maltophilia.1_35_TSB_Bae, Y.M., Zheng, L., Hyun, J.E., Jung, K.S., Heu, S. and Lee, S.Y., 2014. Growth characteristics and biofilm formation of various spoilage bacteria isolated from fresh produce. Journal of food science, 79(10), pp.M2072-M2080.'\n",
      " 'Stenotrophomonas.maltophilia.2_35_TSB_Bae, Y.M., Zheng, L., Hyun, J.E., Jung, K.S., Heu, S. and Lee, S.Y., 2014. Growth characteristics and biofilm formation of various spoilage bacteria isolated from fresh produce. Journal of food science, 79(10), pp.M2072-M2080.'\n",
      " 'Klebsiella.pneumonia_35_TSB_Bae, Y.M., Zheng, L., Hyun, J.E., Jung, K.S., Heu, S. and Lee, S.Y., 2014. Growth characteristics and biofilm formation of various spoilage bacteria isolated from fresh produce. Journal of food science, 79(10), pp.M2072-M2080.'\n",
      " 'Dickeya.zeae_35_TSB_Bae, Y.M., Zheng, L., Hyun, J.E., Jung, K.S., Heu, S. and Lee, S.Y., 2014. Growth characteristics and biofilm formation of various spoilage bacteria isolated from fresh produce. Journal of food science, 79(10), pp.M2072-M2080.'\n",
      " 'Pectobacterium.carotovorum.subsp..Carotovorum.Pcc2_35_TSB_Bae, Y.M., Zheng, L., Hyun, J.E., Jung, K.S., Heu, S. and Lee, S.Y., 2014. Growth characteristics and biofilm formation of various spoilage bacteria isolated from fresh produce. Journal of food science, 79(10), pp.M2072-M2080.'\n",
      " 'Pantoea.agglomerans..RDA.R._35_TSB_Bae, Y.M., Zheng, L., Hyun, J.E., Jung, K.S., Heu, S. and Lee, S.Y., 2014. Growth characteristics and biofilm formation of various spoilage bacteria isolated from fresh produce. Journal of food science, 79(10), pp.M2072-M2080.'\n",
      " 'Dickeya.zeae..RDA.R._35_TSB_Bae, Y.M., Zheng, L., Hyun, J.E., Jung, K.S., Heu, S. and Lee, S.Y., 2014. Growth characteristics and biofilm formation of various spoilage bacteria isolated from fresh produce. Journal of food science, 79(10), pp.M2072-M2080.'\n",
      " 'Acinetobacter.clacoaceticus..RDA.R._35_TSB_Bae, Y.M., Zheng, L., Hyun, J.E., Jung, K.S., Heu, S. and Lee, S.Y., 2014. Growth characteristics and biofilm formation of various spoilage bacteria isolated from fresh produce. Journal of food science, 79(10), pp.M2072-M2080.'\n",
      " 'Stenotrophomonas.maltophilia..RDA.R._35_TSB_Bae, Y.M., Zheng, L., Hyun, J.E., Jung, K.S., Heu, S. and Lee, S.Y., 2014. Growth characteristics and biofilm formation of various spoilage bacteria isolated from fresh produce. Journal of food science, 79(10), pp.M2072-M2080.'\n",
      " 'Klebsiella.pneumonia..RDA.R._35_TSB_Bae, Y.M., Zheng, L., Hyun, J.E., Jung, K.S., Heu, S. and Lee, S.Y., 2014. Growth characteristics and biofilm formation of various spoilage bacteria isolated from fresh produce. Journal of food science, 79(10), pp.M2072-M2080.'\n",
      " 'Bacillus.pumilus..RDA.R._35_TSB_Bae, Y.M., Zheng, L., Hyun, J.E., Jung, K.S., Heu, S. and Lee, S.Y., 2014. Growth characteristics and biofilm formation of various spoilage bacteria isolated from fresh produce. Journal of food science, 79(10), pp.M2072-M2080.'\n",
      " 'Clavibacter.michiganensis..RDA.R._35_TSB_Bae, Y.M., Zheng, L., Hyun, J.E., Jung, K.S., Heu, S. and Lee, S.Y., 2014. Growth characteristics and biofilm formation of various spoilage bacteria isolated from fresh produce. Journal of food science, 79(10), pp.M2072-M2080.'\n",
      " 'Tetraselmis tetrahele_5_ESAW_Bernhardt, J.R., Sunday, J.M. and O’Connor, M.I., 2018. Metabolic theory and the temperature-size rule explain the temperature dependence of population carrying capacity. The American naturalist, 192(6), pp.687-697.'\n",
      " 'Tetraselmis tetrahele_8_ESAW_Bernhardt, J.R., Sunday, J.M. and O’Connor, M.I., 2018. Metabolic theory and the temperature-size rule explain the temperature dependence of population carrying capacity. The American naturalist, 192(6), pp.687-697.'\n",
      " 'Tetraselmis tetrahele_16_ESAW_Bernhardt, J.R., Sunday, J.M. and O’Connor, M.I., 2018. Metabolic theory and the temperature-size rule explain the temperature dependence of population carrying capacity. The American naturalist, 192(6), pp.687-697.'\n",
      " 'Tetraselmis tetrahele_25_ESAW_Bernhardt, J.R., Sunday, J.M. and O’Connor, M.I., 2018. Metabolic theory and the temperature-size rule explain the temperature dependence of population carrying capacity. The American naturalist, 192(6), pp.687-697.'\n",
      " 'Tetraselmis tetrahele_32_ESAW_Bernhardt, J.R., Sunday, J.M. and O’Connor, M.I., 2018. Metabolic theory and the temperature-size rule explain the temperature dependence of population carrying capacity. The American naturalist, 192(6), pp.687-697.'\n",
      " 'Staphylococcus spp._2_Raw Chicken Breast_Galarz, L.A., Fonseca, G.G. and Prentice, C., 2016. Predicting bacterial growth in raw, salted, and cooked chicken breast fillets during storage. Food Science and Technology International, 22(6), pp.461-474.'\n",
      " 'Staphylococcus spp._4_Raw Chicken Breast_Galarz, L.A., Fonseca, G.G. and Prentice, C., 2016. Predicting bacterial growth in raw, salted, and cooked chicken breast fillets during storage. Food Science and Technology International, 22(6), pp.461-474.'\n",
      " 'Staphylococcus spp._7_Raw Chicken Breast_Galarz, L.A., Fonseca, G.G. and Prentice, C., 2016. Predicting bacterial growth in raw, salted, and cooked chicken breast fillets during storage. Food Science and Technology International, 22(6), pp.461-474.'\n",
      " 'Staphylococcus spp._10_Raw Chicken Breast_Galarz, L.A., Fonseca, G.G. and Prentice, C., 2016. Predicting bacterial growth in raw, salted, and cooked chicken breast fillets during storage. Food Science and Technology International, 22(6), pp.461-474.'\n",
      " 'Staphylococcus spp._15_Raw Chicken Breast_Galarz, L.A., Fonseca, G.G. and Prentice, C., 2016. Predicting bacterial growth in raw, salted, and cooked chicken breast fillets during storage. Food Science and Technology International, 22(6), pp.461-474.'\n",
      " 'Staphylococcus spp._20_Raw Chicken Breast_Galarz, L.A., Fonseca, G.G. and Prentice, C., 2016. Predicting bacterial growth in raw, salted, and cooked chicken breast fillets during storage. Food Science and Technology International, 22(6), pp.461-474.'\n",
      " 'Staphylococcus spp._2_Salted Chicken Breast_Galarz, L.A., Fonseca, G.G. and Prentice, C., 2016. Predicting bacterial growth in raw, salted, and cooked chicken breast fillets during storage. Food Science and Technology International, 22(6), pp.461-474.'\n",
      " 'Staphylococcus spp._4_Salted Chicken Breast_Galarz, L.A., Fonseca, G.G. and Prentice, C., 2016. Predicting bacterial growth in raw, salted, and cooked chicken breast fillets during storage. Food Science and Technology International, 22(6), pp.461-474.'\n",
      " 'Staphylococcus spp._7_Salted Chicken Breast_Galarz, L.A., Fonseca, G.G. and Prentice, C., 2016. Predicting bacterial growth in raw, salted, and cooked chicken breast fillets during storage. Food Science and Technology International, 22(6), pp.461-474.'\n",
      " 'Staphylococcus spp._10_Salted Chicken Breast_Galarz, L.A., Fonseca, G.G. and Prentice, C., 2016. Predicting bacterial growth in raw, salted, and cooked chicken breast fillets during storage. Food Science and Technology International, 22(6), pp.461-474.'\n",
      " 'Staphylococcus spp._15_Salted Chicken Breast_Galarz, L.A., Fonseca, G.G. and Prentice, C., 2016. Predicting bacterial growth in raw, salted, and cooked chicken breast fillets during storage. Food Science and Technology International, 22(6), pp.461-474.'\n",
      " 'Staphylococcus spp._20_Salted Chicken Breast_Galarz, L.A., Fonseca, G.G. and Prentice, C., 2016. Predicting bacterial growth in raw, salted, and cooked chicken breast fillets during storage. Food Science and Technology International, 22(6), pp.461-474.'\n",
      " 'Staphylococcus spp._2_Cooked Chicken Breast_Galarz, L.A., Fonseca, G.G. and Prentice, C., 2016. Predicting bacterial growth in raw, salted, and cooked chicken breast fillets during storage. Food Science and Technology International, 22(6), pp.461-474.'\n",
      " 'Staphylococcus spp._4_Cooked Chicken Breast_Galarz, L.A., Fonseca, G.G. and Prentice, C., 2016. Predicting bacterial growth in raw, salted, and cooked chicken breast fillets during storage. Food Science and Technology International, 22(6), pp.461-474.'\n",
      " 'Staphylococcus spp._7_Cooked Chicken Breast_Galarz, L.A., Fonseca, G.G. and Prentice, C., 2016. Predicting bacterial growth in raw, salted, and cooked chicken breast fillets during storage. Food Science and Technology International, 22(6), pp.461-474.'\n",
      " 'Staphylococcus spp._10_Cooked Chicken Breast_Galarz, L.A., Fonseca, G.G. and Prentice, C., 2016. Predicting bacterial growth in raw, salted, and cooked chicken breast fillets during storage. Food Science and Technology International, 22(6), pp.461-474.'\n",
      " 'Staphylococcus spp._15_Cooked Chicken Breast_Galarz, L.A., Fonseca, G.G. and Prentice, C., 2016. Predicting bacterial growth in raw, salted, and cooked chicken breast fillets during storage. Food Science and Technology International, 22(6), pp.461-474.'\n",
      " 'Staphylococcus spp._20_Cooked Chicken Breast_Galarz, L.A., Fonseca, G.G. and Prentice, C., 2016. Predicting bacterial growth in raw, salted, and cooked chicken breast fillets during storage. Food Science and Technology International, 22(6), pp.461-474.'\n",
      " 'Pseudomonas spp._2_Raw Chicken Breast_Galarz, L.A., Fonseca, G.G. and Prentice, C., 2016. Predicting bacterial growth in raw, salted, and cooked chicken breast fillets during storage. Food Science and Technology International, 22(6), pp.461-474.'\n",
      " 'Pseudomonas spp._4_Raw Chicken Breast_Galarz, L.A., Fonseca, G.G. and Prentice, C., 2016. Predicting bacterial growth in raw, salted, and cooked chicken breast fillets during storage. Food Science and Technology International, 22(6), pp.461-474.'\n",
      " 'Pseudomonas spp._7_Raw Chicken Breast_Galarz, L.A., Fonseca, G.G. and Prentice, C., 2016. Predicting bacterial growth in raw, salted, and cooked chicken breast fillets during storage. Food Science and Technology International, 22(6), pp.461-474.'\n",
      " 'Pseudomonas spp._10_Raw Chicken Breast_Galarz, L.A., Fonseca, G.G. and Prentice, C., 2016. Predicting bacterial growth in raw, salted, and cooked chicken breast fillets during storage. Food Science and Technology International, 22(6), pp.461-474.'\n",
      " 'Pseudomonas spp._15_Raw Chicken Breast_Galarz, L.A., Fonseca, G.G. and Prentice, C., 2016. Predicting bacterial growth in raw, salted, and cooked chicken breast fillets during storage. Food Science and Technology International, 22(6), pp.461-474.'\n",
      " 'Pseudomonas spp._20_Raw Chicken Breast_Galarz, L.A., Fonseca, G.G. and Prentice, C., 2016. Predicting bacterial growth in raw, salted, and cooked chicken breast fillets during storage. Food Science and Technology International, 22(6), pp.461-474.'\n",
      " 'Pseudomonas spp._2_Salted Chicken Breast_Galarz, L.A., Fonseca, G.G. and Prentice, C., 2016. Predicting bacterial growth in raw, salted, and cooked chicken breast fillets during storage. Food Science and Technology International, 22(6), pp.461-474.'\n",
      " 'Pseudomonas spp._4_Salted Chicken Breast_Galarz, L.A., Fonseca, G.G. and Prentice, C., 2016. Predicting bacterial growth in raw, salted, and cooked chicken breast fillets during storage. Food Science and Technology International, 22(6), pp.461-474.'\n",
      " 'Pseudomonas spp._7_Salted Chicken Breast_Galarz, L.A., Fonseca, G.G. and Prentice, C., 2016. Predicting bacterial growth in raw, salted, and cooked chicken breast fillets during storage. Food Science and Technology International, 22(6), pp.461-474.'\n",
      " 'Pseudomonas spp._10_Salted Chicken Breast_Galarz, L.A., Fonseca, G.G. and Prentice, C., 2016. Predicting bacterial growth in raw, salted, and cooked chicken breast fillets during storage. Food Science and Technology International, 22(6), pp.461-474.'\n",
      " 'Pseudomonas spp._15_Salted Chicken Breast_Galarz, L.A., Fonseca, G.G. and Prentice, C., 2016. Predicting bacterial growth in raw, salted, and cooked chicken breast fillets during storage. Food Science and Technology International, 22(6), pp.461-474.'\n",
      " 'Pseudomonas spp._20_Salted Chicken Breast_Galarz, L.A., Fonseca, G.G. and Prentice, C., 2016. Predicting bacterial growth in raw, salted, and cooked chicken breast fillets during storage. Food Science and Technology International, 22(6), pp.461-474.'\n",
      " 'Pseudomonas spp._2_Cooked Chicken Breast_Galarz, L.A., Fonseca, G.G. and Prentice, C., 2016. Predicting bacterial growth in raw, salted, and cooked chicken breast fillets during storage. Food Science and Technology International, 22(6), pp.461-474.'\n",
      " 'Pseudomonas spp._4_Cooked Chicken Breast_Galarz, L.A., Fonseca, G.G. and Prentice, C., 2016. Predicting bacterial growth in raw, salted, and cooked chicken breast fillets during storage. Food Science and Technology International, 22(6), pp.461-474.'\n",
      " 'Pseudomonas spp._7_Cooked Chicken Breast_Galarz, L.A., Fonseca, G.G. and Prentice, C., 2016. Predicting bacterial growth in raw, salted, and cooked chicken breast fillets during storage. Food Science and Technology International, 22(6), pp.461-474.'\n",
      " 'Pseudomonas spp._10_Cooked Chicken Breast_Galarz, L.A., Fonseca, G.G. and Prentice, C., 2016. Predicting bacterial growth in raw, salted, and cooked chicken breast fillets during storage. Food Science and Technology International, 22(6), pp.461-474.'\n",
      " 'Pseudomonas spp._15_Cooked Chicken Breast_Galarz, L.A., Fonseca, G.G. and Prentice, C., 2016. Predicting bacterial growth in raw, salted, and cooked chicken breast fillets during storage. Food Science and Technology International, 22(6), pp.461-474.'\n",
      " 'Pseudomonas spp._20_Cooked Chicken Breast_Galarz, L.A., Fonseca, G.G. and Prentice, C., 2016. Predicting bacterial growth in raw, salted, and cooked chicken breast fillets during storage. Food Science and Technology International, 22(6), pp.461-474.'\n",
      " 'Aerobic Psychotropic._2_Raw Chicken Breast_Galarz, L.A., Fonseca, G.G. and Prentice, C., 2016. Predicting bacterial growth in raw, salted, and cooked chicken breast fillets during storage. Food Science and Technology International, 22(6), pp.461-474.'\n",
      " 'Aerobic Psychotropic._4_Raw Chicken Breast_Galarz, L.A., Fonseca, G.G. and Prentice, C., 2016. Predicting bacterial growth in raw, salted, and cooked chicken breast fillets during storage. Food Science and Technology International, 22(6), pp.461-474.'\n",
      " 'Aerobic Psychotropic._7_Raw Chicken Breast_Galarz, L.A., Fonseca, G.G. and Prentice, C., 2016. Predicting bacterial growth in raw, salted, and cooked chicken breast fillets during storage. Food Science and Technology International, 22(6), pp.461-474.'\n",
      " 'Aerobic Psychotropic._10_Raw Chicken Breast_Galarz, L.A., Fonseca, G.G. and Prentice, C., 2016. Predicting bacterial growth in raw, salted, and cooked chicken breast fillets during storage. Food Science and Technology International, 22(6), pp.461-474.'\n",
      " 'Aerobic Psychotropic._15_Raw Chicken Breast_Galarz, L.A., Fonseca, G.G. and Prentice, C., 2016. Predicting bacterial growth in raw, salted, and cooked chicken breast fillets during storage. Food Science and Technology International, 22(6), pp.461-474.'\n",
      " 'Aerobic Psychotropic._20_Raw Chicken Breast_Galarz, L.A., Fonseca, G.G. and Prentice, C., 2016. Predicting bacterial growth in raw, salted, and cooked chicken breast fillets during storage. Food Science and Technology International, 22(6), pp.461-474.'\n",
      " 'Aerobic Psychotropic._2_Salted Chicken Breast_Galarz, L.A., Fonseca, G.G. and Prentice, C., 2016. Predicting bacterial growth in raw, salted, and cooked chicken breast fillets during storage. Food Science and Technology International, 22(6), pp.461-474.'\n",
      " 'Aerobic Psychotropic._4_Salted Chicken Breast_Galarz, L.A., Fonseca, G.G. and Prentice, C., 2016. Predicting bacterial growth in raw, salted, and cooked chicken breast fillets during storage. Food Science and Technology International, 22(6), pp.461-474.'\n",
      " 'Aerobic Psychotropic._7_Salted Chicken Breast_Galarz, L.A., Fonseca, G.G. and Prentice, C., 2016. Predicting bacterial growth in raw, salted, and cooked chicken breast fillets during storage. Food Science and Technology International, 22(6), pp.461-474.'\n",
      " 'Aerobic Psychotropic._10_Salted Chicken Breast_Galarz, L.A., Fonseca, G.G. and Prentice, C., 2016. Predicting bacterial growth in raw, salted, and cooked chicken breast fillets during storage. Food Science and Technology International, 22(6), pp.461-474.'\n",
      " 'Aerobic Psychotropic._15_Salted Chicken Breast_Galarz, L.A., Fonseca, G.G. and Prentice, C., 2016. Predicting bacterial growth in raw, salted, and cooked chicken breast fillets during storage. Food Science and Technology International, 22(6), pp.461-474.'\n",
      " 'Aerobic Psychotropic._20_Salted Chicken Breast_Galarz, L.A., Fonseca, G.G. and Prentice, C., 2016. Predicting bacterial growth in raw, salted, and cooked chicken breast fillets during storage. Food Science and Technology International, 22(6), pp.461-474.'\n",
      " 'Aerobic Psychotropic._2_Cooked Chicken Breast_Galarz, L.A., Fonseca, G.G. and Prentice, C., 2016. Predicting bacterial growth in raw, salted, and cooked chicken breast fillets during storage. Food Science and Technology International, 22(6), pp.461-474.'\n",
      " 'Aerobic Psychotropic._4_Cooked Chicken Breast_Galarz, L.A., Fonseca, G.G. and Prentice, C., 2016. Predicting bacterial growth in raw, salted, and cooked chicken breast fillets during storage. Food Science and Technology International, 22(6), pp.461-474.'\n",
      " 'Aerobic Psychotropic._7_Cooked Chicken Breast_Galarz, L.A., Fonseca, G.G. and Prentice, C., 2016. Predicting bacterial growth in raw, salted, and cooked chicken breast fillets during storage. Food Science and Technology International, 22(6), pp.461-474.'\n",
      " 'Aerobic Psychotropic._10_Cooked Chicken Breast_Galarz, L.A., Fonseca, G.G. and Prentice, C., 2016. Predicting bacterial growth in raw, salted, and cooked chicken breast fillets during storage. Food Science and Technology International, 22(6), pp.461-474.'\n",
      " 'Aerobic Psychotropic._15_Cooked Chicken Breast_Galarz, L.A., Fonseca, G.G. and Prentice, C., 2016. Predicting bacterial growth in raw, salted, and cooked chicken breast fillets during storage. Food Science and Technology International, 22(6), pp.461-474.'\n",
      " 'Aerobic Psychotropic._20_Cooked Chicken Breast_Galarz, L.A., Fonseca, G.G. and Prentice, C., 2016. Predicting bacterial growth in raw, salted, and cooked chicken breast fillets during storage. Food Science and Technology International, 22(6), pp.461-474.'\n",
      " 'Aerobic Mesophilic._2_Raw Chicken Breast_Galarz, L.A., Fonseca, G.G. and Prentice, C., 2016. Predicting bacterial growth in raw, salted, and cooked chicken breast fillets during storage. Food Science and Technology International, 22(6), pp.461-474.'\n",
      " 'Aerobic Mesophilic._7_Raw Chicken Breast_Galarz, L.A., Fonseca, G.G. and Prentice, C., 2016. Predicting bacterial growth in raw, salted, and cooked chicken breast fillets during storage. Food Science and Technology International, 22(6), pp.461-474.'\n",
      " 'Aerobic Mesophilic._4_Raw Chicken Breast_Galarz, L.A., Fonseca, G.G. and Prentice, C., 2016. Predicting bacterial growth in raw, salted, and cooked chicken breast fillets during storage. Food Science and Technology International, 22(6), pp.461-474.'\n",
      " 'Aerobic Mesophilic._10_Raw Chicken Breast_Galarz, L.A., Fonseca, G.G. and Prentice, C., 2016. Predicting bacterial growth in raw, salted, and cooked chicken breast fillets during storage. Food Science and Technology International, 22(6), pp.461-474.'\n",
      " 'Aerobic Mesophilic._15_Raw Chicken Breast_Galarz, L.A., Fonseca, G.G. and Prentice, C., 2016. Predicting bacterial growth in raw, salted, and cooked chicken breast fillets during storage. Food Science and Technology International, 22(6), pp.461-474.'\n",
      " 'Aerobic Mesophilic._20_Raw Chicken Breast_Galarz, L.A., Fonseca, G.G. and Prentice, C., 2016. Predicting bacterial growth in raw, salted, and cooked chicken breast fillets during storage. Food Science and Technology International, 22(6), pp.461-474.'\n",
      " 'Aerobic Mesophilic._2_Salted Chicken Breast_Galarz, L.A., Fonseca, G.G. and Prentice, C., 2016. Predicting bacterial growth in raw, salted, and cooked chicken breast fillets during storage. Food Science and Technology International, 22(6), pp.461-474.'\n",
      " 'Aerobic Mesophilic._4_Salted Chicken Breast_Galarz, L.A., Fonseca, G.G. and Prentice, C., 2016. Predicting bacterial growth in raw, salted, and cooked chicken breast fillets during storage. Food Science and Technology International, 22(6), pp.461-474.'\n",
      " 'Aerobic Mesophilic._7_Salted Chicken Breast_Galarz, L.A., Fonseca, G.G. and Prentice, C., 2016. Predicting bacterial growth in raw, salted, and cooked chicken breast fillets during storage. Food Science and Technology International, 22(6), pp.461-474.'\n",
      " 'Aerobic Mesophilic._10_Salted Chicken Breast_Galarz, L.A., Fonseca, G.G. and Prentice, C., 2016. Predicting bacterial growth in raw, salted, and cooked chicken breast fillets during storage. Food Science and Technology International, 22(6), pp.461-474.'\n",
      " 'Aerobic Mesophilic._15_Salted Chicken Breast_Galarz, L.A., Fonseca, G.G. and Prentice, C., 2016. Predicting bacterial growth in raw, salted, and cooked chicken breast fillets during storage. Food Science and Technology International, 22(6), pp.461-474.'\n",
      " 'Aerobic Mesophilic._20_Salted Chicken Breast_Galarz, L.A., Fonseca, G.G. and Prentice, C., 2016. Predicting bacterial growth in raw, salted, and cooked chicken breast fillets during storage. Food Science and Technology International, 22(6), pp.461-474.'\n",
      " 'Aerobic Mesophilic._2_Cooked Chicken Breast_Galarz, L.A., Fonseca, G.G. and Prentice, C., 2016. Predicting bacterial growth in raw, salted, and cooked chicken breast fillets during storage. Food Science and Technology International, 22(6), pp.461-474.'\n",
      " 'Aerobic Mesophilic._4_Cooked Chicken Breast_Galarz, L.A., Fonseca, G.G. and Prentice, C., 2016. Predicting bacterial growth in raw, salted, and cooked chicken breast fillets during storage. Food Science and Technology International, 22(6), pp.461-474.'\n",
      " 'Aerobic Mesophilic._7_Cooked Chicken Breast_Galarz, L.A., Fonseca, G.G. and Prentice, C., 2016. Predicting bacterial growth in raw, salted, and cooked chicken breast fillets during storage. Food Science and Technology International, 22(6), pp.461-474.'\n",
      " 'Aerobic Mesophilic._10_Cooked Chicken Breast_Galarz, L.A., Fonseca, G.G. and Prentice, C., 2016. Predicting bacterial growth in raw, salted, and cooked chicken breast fillets during storage. Food Science and Technology International, 22(6), pp.461-474.'\n",
      " 'Aerobic Mesophilic._15_Cooked Chicken Breast_Galarz, L.A., Fonseca, G.G. and Prentice, C., 2016. Predicting bacterial growth in raw, salted, and cooked chicken breast fillets during storage. Food Science and Technology International, 22(6), pp.461-474.'\n",
      " 'Aerobic Mesophilic._20_Cooked Chicken Breast_Galarz, L.A., Fonseca, G.G. and Prentice, C., 2016. Predicting bacterial growth in raw, salted, and cooked chicken breast fillets during storage. Food Science and Technology International, 22(6), pp.461-474.'\n",
      " 'Spoilage_8_Vacuum Beef Striploins_Gill, C.O. and DeLacy, K.M., 1991. Growth of Escherichia coli and Salmonella typhimurium on high-pH beef packed under vacuum or carbon dioxide. International journal of food microbiology, 13(1), pp.21-30.'\n",
      " 'Escherichia coli_8_Vacuum Beef Striploins_Gill, C.O. and DeLacy, K.M., 1991. Growth of Escherichia coli and Salmonella typhimurium on high-pH beef packed under vacuum or carbon dioxide. International journal of food microbiology, 13(1), pp.21-30.'\n",
      " 'Salmonella Typhimurium_8_Vacuum Beef Striploins_Gill, C.O. and DeLacy, K.M., 1991. Growth of Escherichia coli and Salmonella typhimurium on high-pH beef packed under vacuum or carbon dioxide. International journal of food microbiology, 13(1), pp.21-30.'\n",
      " 'Spoilage_10_Vacuum Beef Striploins_Gill, C.O. and DeLacy, K.M., 1991. Growth of Escherichia coli and Salmonella typhimurium on high-pH beef packed under vacuum or carbon dioxide. International journal of food microbiology, 13(1), pp.21-30.'\n",
      " 'Escherichia coli_10_Vacuum Beef Striploins_Gill, C.O. and DeLacy, K.M., 1991. Growth of Escherichia coli and Salmonella typhimurium on high-pH beef packed under vacuum or carbon dioxide. International journal of food microbiology, 13(1), pp.21-30.'\n",
      " 'Salmonella Typhimurium_10_Vacuum Beef Striploins_Gill, C.O. and DeLacy, K.M., 1991. Growth of Escherichia coli and Salmonella typhimurium on high-pH beef packed under vacuum or carbon dioxide. International journal of food microbiology, 13(1), pp.21-30.'\n",
      " 'Spoilage_10_C02 Beef Striploins_Gill, C.O. and DeLacy, K.M., 1991. Growth of Escherichia coli and Salmonella typhimurium on high-pH beef packed under vacuum or carbon dioxide. International journal of food microbiology, 13(1), pp.21-30.'\n",
      " 'Escherichia coli_10_C02 Beef Striploins_Gill, C.O. and DeLacy, K.M., 1991. Growth of Escherichia coli and Salmonella typhimurium on high-pH beef packed under vacuum or carbon dioxide. International journal of food microbiology, 13(1), pp.21-30.'\n",
      " 'Spoilage_12_Vacuum Beef Striploins_Gill, C.O. and DeLacy, K.M., 1991. Growth of Escherichia coli and Salmonella typhimurium on high-pH beef packed under vacuum or carbon dioxide. International journal of food microbiology, 13(1), pp.21-30.'\n",
      " 'Escherichia coli_12_Vacuum Beef Striploins_Gill, C.O. and DeLacy, K.M., 1991. Growth of Escherichia coli and Salmonella typhimurium on high-pH beef packed under vacuum or carbon dioxide. International journal of food microbiology, 13(1), pp.21-30.'\n",
      " 'Salmonella Typhimurium_12_Vacuum Beef Striploins_Gill, C.O. and DeLacy, K.M., 1991. Growth of Escherichia coli and Salmonella typhimurium on high-pH beef packed under vacuum or carbon dioxide. International journal of food microbiology, 13(1), pp.21-30.'\n",
      " 'Spoilage_12_C02 Beef Striploins_Gill, C.O. and DeLacy, K.M., 1991. Growth of Escherichia coli and Salmonella typhimurium on high-pH beef packed under vacuum or carbon dioxide. International journal of food microbiology, 13(1), pp.21-30.'\n",
      " 'Escherichia coli_12_C02 Beef Striploins_Gill, C.O. and DeLacy, K.M., 1991. Growth of Escherichia coli and Salmonella typhimurium on high-pH beef packed under vacuum or carbon dioxide. International journal of food microbiology, 13(1), pp.21-30.'\n",
      " 'Salmonella Typhimurium_12_C02 Beef Striploins_Gill, C.O. and DeLacy, K.M., 1991. Growth of Escherichia coli and Salmonella typhimurium on high-pH beef packed under vacuum or carbon dioxide. International journal of food microbiology, 13(1), pp.21-30.'\n",
      " 'Spoilage_15_Vacuum Beef Striploins_Gill, C.O. and DeLacy, K.M., 1991. Growth of Escherichia coli and Salmonella typhimurium on high-pH beef packed under vacuum or carbon dioxide. International journal of food microbiology, 13(1), pp.21-30.'\n",
      " 'Escherichia coli_15_Vacuum Beef Striploins_Gill, C.O. and DeLacy, K.M., 1991. Growth of Escherichia coli and Salmonella typhimurium on high-pH beef packed under vacuum or carbon dioxide. International journal of food microbiology, 13(1), pp.21-30.'\n",
      " 'Salmonella Typhimurium_15_Vacuum Beef Striploins_Gill, C.O. and DeLacy, K.M., 1991. Growth of Escherichia coli and Salmonella typhimurium on high-pH beef packed under vacuum or carbon dioxide. International journal of food microbiology, 13(1), pp.21-30.'\n",
      " 'Spoilage_15_C02 Beef Striploins_Gill, C.O. and DeLacy, K.M., 1991. Growth of Escherichia coli and Salmonella typhimurium on high-pH beef packed under vacuum or carbon dioxide. International journal of food microbiology, 13(1), pp.21-30.'\n",
      " 'Escherichia coli_15_C02 Beef Striploins_Gill, C.O. and DeLacy, K.M., 1991. Growth of Escherichia coli and Salmonella typhimurium on high-pH beef packed under vacuum or carbon dioxide. International journal of food microbiology, 13(1), pp.21-30.'\n",
      " 'Salmonella Typhimurium_15_C02 Beef Striploins_Gill, C.O. and DeLacy, K.M., 1991. Growth of Escherichia coli and Salmonella typhimurium on high-pH beef packed under vacuum or carbon dioxide. International journal of food microbiology, 13(1), pp.21-30.'\n",
      " 'Spoilage_20_Vacuum Beef Striploins_Gill, C.O. and DeLacy, K.M., 1991. Growth of Escherichia coli and Salmonella typhimurium on high-pH beef packed under vacuum or carbon dioxide. International journal of food microbiology, 13(1), pp.21-30.'\n",
      " 'Escherichia coli_20_Vacuum Beef Striploins_Gill, C.O. and DeLacy, K.M., 1991. Growth of Escherichia coli and Salmonella typhimurium on high-pH beef packed under vacuum or carbon dioxide. International journal of food microbiology, 13(1), pp.21-30.'\n",
      " 'Salmonella Typhimurium_20_Vacuum Beef Striploins_Gill, C.O. and DeLacy, K.M., 1991. Growth of Escherichia coli and Salmonella typhimurium on high-pH beef packed under vacuum or carbon dioxide. International journal of food microbiology, 13(1), pp.21-30.'\n",
      " 'Spoilage_20_C02 Beef Striploins_Gill, C.O. and DeLacy, K.M., 1991. Growth of Escherichia coli and Salmonella typhimurium on high-pH beef packed under vacuum or carbon dioxide. International journal of food microbiology, 13(1), pp.21-30.'\n",
      " 'Escherichia coli_20_C02 Beef Striploins_Gill, C.O. and DeLacy, K.M., 1991. Growth of Escherichia coli and Salmonella typhimurium on high-pH beef packed under vacuum or carbon dioxide. International journal of food microbiology, 13(1), pp.21-30.'\n",
      " 'Salmonella Typhimurium_20_C02 Beef Striploins_Gill, C.O. and DeLacy, K.M., 1991. Growth of Escherichia coli and Salmonella typhimurium on high-pH beef packed under vacuum or carbon dioxide. International journal of food microbiology, 13(1), pp.21-30.'\n",
      " 'Spoilage_30_Vacuum Beef Striploins_Gill, C.O. and DeLacy, K.M., 1991. Growth of Escherichia coli and Salmonella typhimurium on high-pH beef packed under vacuum or carbon dioxide. International journal of food microbiology, 13(1), pp.21-30.'\n",
      " 'Escherichia coli_30_Vacuum Beef Striploins_Gill, C.O. and DeLacy, K.M., 1991. Growth of Escherichia coli and Salmonella typhimurium on high-pH beef packed under vacuum or carbon dioxide. International journal of food microbiology, 13(1), pp.21-30.'\n",
      " 'Salmonella Typhimurium_30_Vacuum Beef Striploins_Gill, C.O. and DeLacy, K.M., 1991. Growth of Escherichia coli and Salmonella typhimurium on high-pH beef packed under vacuum or carbon dioxide. International journal of food microbiology, 13(1), pp.21-30.'\n",
      " 'Spoilage_30_C02 Beef Striploins_Gill, C.O. and DeLacy, K.M., 1991. Growth of Escherichia coli and Salmonella typhimurium on high-pH beef packed under vacuum or carbon dioxide. International journal of food microbiology, 13(1), pp.21-30.'\n",
      " 'Escherichia coli_30_C02 Beef Striploins_Gill, C.O. and DeLacy, K.M., 1991. Growth of Escherichia coli and Salmonella typhimurium on high-pH beef packed under vacuum or carbon dioxide. International journal of food microbiology, 13(1), pp.21-30.'\n",
      " 'Salmonella Typhimurium_30_C02 Beef Striploins_Gill, C.O. and DeLacy, K.M., 1991. Growth of Escherichia coli and Salmonella typhimurium on high-pH beef packed under vacuum or carbon dioxide. International journal of food microbiology, 13(1), pp.21-30.'\n",
      " 'Serratia marcescens_6_Pasteurised Skim Milk_Phillips, J.D. and Griffiths, M.W., 1987. The relation between temperature and growth of bacteria in dairy products. Food Microbiology, 4(2), pp.173-185.'\n",
      " 'Serratia marcescens_6_UHT Skim Milk_Phillips, J.D. and Griffiths, M.W., 1987. The relation between temperature and growth of bacteria in dairy products. Food Microbiology, 4(2), pp.173-185.'\n",
      " 'Serratia marcescens_10_Pasteurised Skim Milk_Phillips, J.D. and Griffiths, M.W., 1987. The relation between temperature and growth of bacteria in dairy products. Food Microbiology, 4(2), pp.173-185.'\n",
      " 'Serratia marcescens_10_UHT Skim Milk_Phillips, J.D. and Griffiths, M.W., 1987. The relation between temperature and growth of bacteria in dairy products. Food Microbiology, 4(2), pp.173-185.'\n",
      " 'Serratia marcescens_15_Pasteurised Skim Milk_Phillips, J.D. and Griffiths, M.W., 1987. The relation between temperature and growth of bacteria in dairy products. Food Microbiology, 4(2), pp.173-185.'\n",
      " 'Serratia marcescens_15_UHT Skim Milk_Phillips, J.D. and Griffiths, M.W., 1987. The relation between temperature and growth of bacteria in dairy products. Food Microbiology, 4(2), pp.173-185.'\n",
      " 'Serratia marcescens_6_Pasteurised Full-fat Milk_Phillips, J.D. and Griffiths, M.W., 1987. The relation between temperature and growth of bacteria in dairy products. Food Microbiology, 4(2), pp.173-185.'\n",
      " 'Serratia marcescens_6_UHT Full-fat Milk_Phillips, J.D. and Griffiths, M.W., 1987. The relation between temperature and growth of bacteria in dairy products. Food Microbiology, 4(2), pp.173-185.'\n",
      " 'Serratia marcescens_10_Pasteurised Full-fat Milk_Phillips, J.D. and Griffiths, M.W., 1987. The relation between temperature and growth of bacteria in dairy products. Food Microbiology, 4(2), pp.173-185.'\n",
      " 'Serratia marcescens_10_UHT Full-fat Milk_Phillips, J.D. and Griffiths, M.W., 1987. The relation between temperature and growth of bacteria in dairy products. Food Microbiology, 4(2), pp.173-185.'\n",
      " 'Serratia marcescens_15_Pasteurised Full-fat Milk_Phillips, J.D. and Griffiths, M.W., 1987. The relation between temperature and growth of bacteria in dairy products. Food Microbiology, 4(2), pp.173-185.'\n",
      " 'Serratia marcescens_15_UHT Full-fat Milk_Phillips, J.D. and Griffiths, M.W., 1987. The relation between temperature and growth of bacteria in dairy products. Food Microbiology, 4(2), pp.173-185.'\n",
      " 'Serratia marcescens_6_Pasteurised Double Cream_Phillips, J.D. and Griffiths, M.W., 1987. The relation between temperature and growth of bacteria in dairy products. Food Microbiology, 4(2), pp.173-185.'\n",
      " 'Serratia marcescens_6_UHT Double Cream_Phillips, J.D. and Griffiths, M.W., 1987. The relation between temperature and growth of bacteria in dairy products. Food Microbiology, 4(2), pp.173-185.'\n",
      " 'Serratia marcescens_10_Pasteurised Double Cream_Phillips, J.D. and Griffiths, M.W., 1987. The relation between temperature and growth of bacteria in dairy products. Food Microbiology, 4(2), pp.173-185.'\n",
      " 'Serratia marcescens_10_UHT Double Cream_Phillips, J.D. and Griffiths, M.W., 1987. The relation between temperature and growth of bacteria in dairy products. Food Microbiology, 4(2), pp.173-185.'\n",
      " 'Serratia marcescens_15_Pasteurised Double Cream_Phillips, J.D. and Griffiths, M.W., 1987. The relation between temperature and growth of bacteria in dairy products. Food Microbiology, 4(2), pp.173-185.'\n",
      " 'Serratia marcescens_15_UHT Double Cream_Phillips, J.D. and Griffiths, M.W., 1987. The relation between temperature and growth of bacteria in dairy products. Food Microbiology, 4(2), pp.173-185.'\n",
      " 'Arthrobacter sp. 77_0_TGE agar_Roth, N.G. and Wheaton, R.B., 1962. Continuity of psychrophilic and mesophilic growth characteristics in the genus Arthrobacter. Journal of bacteriology, 83(3), pp.551-555.'\n",
      " 'Arthrobacter sp. 77_7_TGE agar_Roth, N.G. and Wheaton, R.B., 1962. Continuity of psychrophilic and mesophilic growth characteristics in the genus Arthrobacter. Journal of bacteriology, 83(3), pp.551-555.'\n",
      " 'Arthrobacter sp. 77_20_TGE agar_Roth, N.G. and Wheaton, R.B., 1962. Continuity of psychrophilic and mesophilic growth characteristics in the genus Arthrobacter. Journal of bacteriology, 83(3), pp.551-555.'\n",
      " 'Arthrobacter sp. 77_30_TGE agar_Roth, N.G. and Wheaton, R.B., 1962. Continuity of psychrophilic and mesophilic growth characteristics in the genus Arthrobacter. Journal of bacteriology, 83(3), pp.551-555.'\n",
      " 'Arthrobacter sp. 77_37_TGE agar_Roth, N.G. and Wheaton, R.B., 1962. Continuity of psychrophilic and mesophilic growth characteristics in the genus Arthrobacter. Journal of bacteriology, 83(3), pp.551-555.'\n",
      " 'Arthrobacter sp. 88_0_TGE agar_Roth, N.G. and Wheaton, R.B., 1962. Continuity of psychrophilic and mesophilic growth characteristics in the genus Arthrobacter. Journal of bacteriology, 83(3), pp.551-555.'\n",
      " 'Arthrobacter sp. 88_7_TGE agar_Roth, N.G. and Wheaton, R.B., 1962. Continuity of psychrophilic and mesophilic growth characteristics in the genus Arthrobacter. Journal of bacteriology, 83(3), pp.551-555.'\n",
      " 'Arthrobacter sp. 88_20_TGE agar_Roth, N.G. and Wheaton, R.B., 1962. Continuity of psychrophilic and mesophilic growth characteristics in the genus Arthrobacter. Journal of bacteriology, 83(3), pp.551-555.'\n",
      " 'Arthrobacter sp. 88_30_TGE agar_Roth, N.G. and Wheaton, R.B., 1962. Continuity of psychrophilic and mesophilic growth characteristics in the genus Arthrobacter. Journal of bacteriology, 83(3), pp.551-555.'\n",
      " 'Arthrobacter sp. 88_37_TGE agar_Roth, N.G. and Wheaton, R.B., 1962. Continuity of psychrophilic and mesophilic growth characteristics in the genus Arthrobacter. Journal of bacteriology, 83(3), pp.551-555.'\n",
      " 'Arthrobacter sp. 62_0_TGE agar_Roth, N.G. and Wheaton, R.B., 1962. Continuity of psychrophilic and mesophilic growth characteristics in the genus Arthrobacter. Journal of bacteriology, 83(3), pp.551-555.'\n",
      " 'Arthrobacter sp. 62_7_TGE agar_Roth, N.G. and Wheaton, R.B., 1962. Continuity of psychrophilic and mesophilic growth characteristics in the genus Arthrobacter. Journal of bacteriology, 83(3), pp.551-555.'\n",
      " 'Arthrobacter sp. 62_20_TGE agar_Roth, N.G. and Wheaton, R.B., 1962. Continuity of psychrophilic and mesophilic growth characteristics in the genus Arthrobacter. Journal of bacteriology, 83(3), pp.551-555.'\n",
      " 'Arthrobacter sp. 62_30_TGE agar_Roth, N.G. and Wheaton, R.B., 1962. Continuity of psychrophilic and mesophilic growth characteristics in the genus Arthrobacter. Journal of bacteriology, 83(3), pp.551-555.'\n",
      " 'Arthrobacter sp. 62_37_TGE agar_Roth, N.G. and Wheaton, R.B., 1962. Continuity of psychrophilic and mesophilic growth characteristics in the genus Arthrobacter. Journal of bacteriology, 83(3), pp.551-555.'\n",
      " 'Arthrobacter aurescens_0_TGE agar_Roth, N.G. and Wheaton, R.B., 1962. Continuity of psychrophilic and mesophilic growth characteristics in the genus Arthrobacter. Journal of bacteriology, 83(3), pp.551-555.'\n",
      " 'Arthrobacter aurescens_7_TGE agar_Roth, N.G. and Wheaton, R.B., 1962. Continuity of psychrophilic and mesophilic growth characteristics in the genus Arthrobacter. Journal of bacteriology, 83(3), pp.551-555.'\n",
      " 'Arthrobacter aurescens_20_TGE agar_Roth, N.G. and Wheaton, R.B., 1962. Continuity of psychrophilic and mesophilic growth characteristics in the genus Arthrobacter. Journal of bacteriology, 83(3), pp.551-555.'\n",
      " 'Arthrobacter aurescens_30_TGE agar_Roth, N.G. and Wheaton, R.B., 1962. Continuity of psychrophilic and mesophilic growth characteristics in the genus Arthrobacter. Journal of bacteriology, 83(3), pp.551-555.'\n",
      " 'Arthrobacter aurescens_37_TGE agar_Roth, N.G. and Wheaton, R.B., 1962. Continuity of psychrophilic and mesophilic growth characteristics in the genus Arthrobacter. Journal of bacteriology, 83(3), pp.551-555.'\n",
      " 'Arthrobacter citreus_0_TGE agar_Roth, N.G. and Wheaton, R.B., 1962. Continuity of psychrophilic and mesophilic growth characteristics in the genus Arthrobacter. Journal of bacteriology, 83(3), pp.551-555.'\n",
      " 'Arthrobacter citreus_7_TGE agar_Roth, N.G. and Wheaton, R.B., 1962. Continuity of psychrophilic and mesophilic growth characteristics in the genus Arthrobacter. Journal of bacteriology, 83(3), pp.551-555.'\n",
      " 'Arthrobacter citreus_20_TGE agar_Roth, N.G. and Wheaton, R.B., 1962. Continuity of psychrophilic and mesophilic growth characteristics in the genus Arthrobacter. Journal of bacteriology, 83(3), pp.551-555.'\n",
      " 'Arthrobacter citreus_30_TGE agar_Roth, N.G. and Wheaton, R.B., 1962. Continuity of psychrophilic and mesophilic growth characteristics in the genus Arthrobacter. Journal of bacteriology, 83(3), pp.551-555.'\n",
      " 'Arthrobacter citreus_37_TGE agar_Roth, N.G. and Wheaton, R.B., 1962. Continuity of psychrophilic and mesophilic growth characteristics in the genus Arthrobacter. Journal of bacteriology, 83(3), pp.551-555.'\n",
      " 'Arthrobacter globiformis_0_TGE agar_Roth, N.G. and Wheaton, R.B., 1962. Continuity of psychrophilic and mesophilic growth characteristics in the genus Arthrobacter. Journal of bacteriology, 83(3), pp.551-555.'\n",
      " 'Arthrobacter globiformis_7_TGE agar_Roth, N.G. and Wheaton, R.B., 1962. Continuity of psychrophilic and mesophilic growth characteristics in the genus Arthrobacter. Journal of bacteriology, 83(3), pp.551-555.'\n",
      " 'Arthrobacter globiformis_20_TGE agar_Roth, N.G. and Wheaton, R.B., 1962. Continuity of psychrophilic and mesophilic growth characteristics in the genus Arthrobacter. Journal of bacteriology, 83(3), pp.551-555.'\n",
      " 'Arthrobacter globiformis_30_TGE agar_Roth, N.G. and Wheaton, R.B., 1962. Continuity of psychrophilic and mesophilic growth characteristics in the genus Arthrobacter. Journal of bacteriology, 83(3), pp.551-555.'\n",
      " 'Arthrobacter globiformis_37_TGE agar_Roth, N.G. and Wheaton, R.B., 1962. Continuity of psychrophilic and mesophilic growth characteristics in the genus Arthrobacter. Journal of bacteriology, 83(3), pp.551-555.'\n",
      " 'Arthrobacter simplex_0_TGE agar_Roth, N.G. and Wheaton, R.B., 1962. Continuity of psychrophilic and mesophilic growth characteristics in the genus Arthrobacter. Journal of bacteriology, 83(3), pp.551-555.'\n",
      " 'Arthrobacter simplex_7_TGE agar_Roth, N.G. and Wheaton, R.B., 1962. Continuity of psychrophilic and mesophilic growth characteristics in the genus Arthrobacter. Journal of bacteriology, 83(3), pp.551-555.'\n",
      " 'Arthrobacter simplex_20_TGE agar_Roth, N.G. and Wheaton, R.B., 1962. Continuity of psychrophilic and mesophilic growth characteristics in the genus Arthrobacter. Journal of bacteriology, 83(3), pp.551-555.'\n",
      " 'Arthrobacter simplex_30_TGE agar_Roth, N.G. and Wheaton, R.B., 1962. Continuity of psychrophilic and mesophilic growth characteristics in the genus Arthrobacter. Journal of bacteriology, 83(3), pp.551-555.'\n",
      " 'Arthrobacter simplex_37_TGE agar_Roth, N.G. and Wheaton, R.B., 1962. Continuity of psychrophilic and mesophilic growth characteristics in the genus Arthrobacter. Journal of bacteriology, 83(3), pp.551-555.'\n",
      " 'Lactobacillus plantarum_8_MRS broth_Silva, A.P.R.D., Longhi, D.A., Dalcanton, F. and Aragão, G.M.F.D., 2018. Modelling the growth of lactic acid bacteria at different temperatures. Brazilian Archives of Biology and Technology, 61.'\n",
      " 'Lactobacillus plantarum_12_MRS broth_Silva, A.P.R.D., Longhi, D.A., Dalcanton, F. and Aragão, G.M.F.D., 2018. Modelling the growth of lactic acid bacteria at different temperatures. Brazilian Archives of Biology and Technology, 61.'\n",
      " 'Lactobacillus plantarum_16_MRS broth_Silva, A.P.R.D., Longhi, D.A., Dalcanton, F. and Aragão, G.M.F.D., 2018. Modelling the growth of lactic acid bacteria at different temperatures. Brazilian Archives of Biology and Technology, 61.'\n",
      " 'Lactobacillus plantarum_20_MRS broth_Silva, A.P.R.D., Longhi, D.A., Dalcanton, F. and Aragão, G.M.F.D., 2018. Modelling the growth of lactic acid bacteria at different temperatures. Brazilian Archives of Biology and Technology, 61.'\n",
      " 'Lactobacillus plantarum_30_MRS broth_Silva, A.P.R.D., Longhi, D.A., Dalcanton, F. and Aragão, G.M.F.D., 2018. Modelling the growth of lactic acid bacteria at different temperatures. Brazilian Archives of Biology and Technology, 61.'\n",
      " 'Weissella viridescens_4_MRS broth_Silva, A.P.R.D., Longhi, D.A., Dalcanton, F. and Aragão, G.M.F.D., 2018. Modelling the growth of lactic acid bacteria at different temperatures. Brazilian Archives of Biology and Technology, 61.'\n",
      " 'Weissella viridescens_8_MRS broth_Silva, A.P.R.D., Longhi, D.A., Dalcanton, F. and Aragão, G.M.F.D., 2018. Modelling the growth of lactic acid bacteria at different temperatures. Brazilian Archives of Biology and Technology, 61.'\n",
      " 'Weissella viridescens_12_MRS broth_Silva, A.P.R.D., Longhi, D.A., Dalcanton, F. and Aragão, G.M.F.D., 2018. Modelling the growth of lactic acid bacteria at different temperatures. Brazilian Archives of Biology and Technology, 61.'\n",
      " 'Weissella viridescens_16_MRS broth_Silva, A.P.R.D., Longhi, D.A., Dalcanton, F. and Aragão, G.M.F.D., 2018. Modelling the growth of lactic acid bacteria at different temperatures. Brazilian Archives of Biology and Technology, 61.'\n",
      " 'Weissella viridescens_20_MRS broth_Silva, A.P.R.D., Longhi, D.A., Dalcanton, F. and Aragão, G.M.F.D., 2018. Modelling the growth of lactic acid bacteria at different temperatures. Brazilian Archives of Biology and Technology, 61.'\n",
      " 'Weissella viridescens_30_MRS broth_Silva, A.P.R.D., Longhi, D.A., Dalcanton, F. and Aragão, G.M.F.D., 2018. Modelling the growth of lactic acid bacteria at different temperatures. Brazilian Archives of Biology and Technology, 61.'\n",
      " 'Lactobacillus sakei_4_MRS broth_Silva, A.P.R.D., Longhi, D.A., Dalcanton, F. and Aragão, G.M.F.D., 2018. Modelling the growth of lactic acid bacteria at different temperatures. Brazilian Archives of Biology and Technology, 61.'\n",
      " 'Lactobacillus sakei_8_MRS broth_Silva, A.P.R.D., Longhi, D.A., Dalcanton, F. and Aragão, G.M.F.D., 2018. Modelling the growth of lactic acid bacteria at different temperatures. Brazilian Archives of Biology and Technology, 61.'\n",
      " 'Lactobacillus sakei_12_MRS broth_Silva, A.P.R.D., Longhi, D.A., Dalcanton, F. and Aragão, G.M.F.D., 2018. Modelling the growth of lactic acid bacteria at different temperatures. Brazilian Archives of Biology and Technology, 61.'\n",
      " 'Lactobacillus sakei_16_MRS broth_Silva, A.P.R.D., Longhi, D.A., Dalcanton, F. and Aragão, G.M.F.D., 2018. Modelling the growth of lactic acid bacteria at different temperatures. Brazilian Archives of Biology and Technology, 61.'\n",
      " 'Lactobacillus sakei_20_MRS broth_Silva, A.P.R.D., Longhi, D.A., Dalcanton, F. and Aragão, G.M.F.D., 2018. Modelling the growth of lactic acid bacteria at different temperatures. Brazilian Archives of Biology and Technology, 61.'\n",
      " 'Lactobacillus sakei_30_MRS broth_Silva, A.P.R.D., Longhi, D.A., Dalcanton, F. and Aragão, G.M.F.D., 2018. Modelling the growth of lactic acid bacteria at different temperatures. Brazilian Archives of Biology and Technology, 61.'\n",
      " 'Oscillatoria agardhii Strain 97_15_Z8_Sivonen, K., 1990. Effects of light, temperature, nitrate, orthophosphate, and bacteria on growth of and hepatotoxin production by Oscillatoria agardhii strains. Appl. Environ. Microbiol., 56(9), pp.2658-2666.'\n",
      " 'Oscillatoria agardhii Strain 97_20_Z8_Sivonen, K., 1990. Effects of light, temperature, nitrate, orthophosphate, and bacteria on growth of and hepatotoxin production by Oscillatoria agardhii strains. Appl. Environ. Microbiol., 56(9), pp.2658-2666.'\n",
      " 'Oscillatoria agardhii Strain 97_25_Z8_Sivonen, K., 1990. Effects of light, temperature, nitrate, orthophosphate, and bacteria on growth of and hepatotoxin production by Oscillatoria agardhii strains. Appl. Environ. Microbiol., 56(9), pp.2658-2666.'\n",
      " 'Oscillatoria agardhii Strain 97_30_Z8_Sivonen, K., 1990. Effects of light, temperature, nitrate, orthophosphate, and bacteria on growth of and hepatotoxin production by Oscillatoria agardhii strains. Appl. Environ. Microbiol., 56(9), pp.2658-2666.'\n",
      " 'Oscillatoria agardhii StrainCYA 128_15_Z8_Sivonen, K., 1990. Effects of light, temperature, nitrate, orthophosphate, and bacteria on growth of and hepatotoxin production by Oscillatoria agardhii strains. Appl. Environ. Microbiol., 56(9), pp.2658-2666.'\n",
      " 'Oscillatoria agardhii StrainCYA 128_20_Z8_Sivonen, K., 1990. Effects of light, temperature, nitrate, orthophosphate, and bacteria on growth of and hepatotoxin production by Oscillatoria agardhii strains. Appl. Environ. Microbiol., 56(9), pp.2658-2666.'\n",
      " 'Oscillatoria agardhii StrainCYA 128_25_Z8_Sivonen, K., 1990. Effects of light, temperature, nitrate, orthophosphate, and bacteria on growth of and hepatotoxin production by Oscillatoria agardhii strains. Appl. Environ. Microbiol., 56(9), pp.2658-2666.'\n",
      " 'Oscillatoria agardhii StrainCYA 128_30_Z8_Sivonen, K., 1990. Effects of light, temperature, nitrate, orthophosphate, and bacteria on growth of and hepatotoxin production by Oscillatoria agardhii strains. Appl. Environ. Microbiol., 56(9), pp.2658-2666.'\n",
      " 'Pseudomonas sp._15_APT Broth_Stannard, C.J., Williams, A.P. and Gibbs, P.A., 1985. Temperature/growth relationships for psychrotrophic food-spoilage bacteria. Food Microbiology, 2(2), pp.115-122.'\n",
      " 'Pseudomonas sp._12_APT Broth_Stannard, C.J., Williams, A.P. and Gibbs, P.A., 1985. Temperature/growth relationships for psychrotrophic food-spoilage bacteria. Food Microbiology, 2(2), pp.115-122.'\n",
      " 'Pseudomonas sp._8_APT Broth_Stannard, C.J., Williams, A.P. and Gibbs, P.A., 1985. Temperature/growth relationships for psychrotrophic food-spoilage bacteria. Food Microbiology, 2(2), pp.115-122.'\n",
      " 'Pseudomonas sp._6_APT Broth_Stannard, C.J., Williams, A.P. and Gibbs, P.A., 1985. Temperature/growth relationships for psychrotrophic food-spoilage bacteria. Food Microbiology, 2(2), pp.115-122.'\n",
      " 'Pseudomonas sp._4_APT Broth_Stannard, C.J., Williams, A.P. and Gibbs, P.A., 1985. Temperature/growth relationships for psychrotrophic food-spoilage bacteria. Food Microbiology, 2(2), pp.115-122.'\n",
      " 'Pseudomonas sp._2_APT Broth_Stannard, C.J., Williams, A.P. and Gibbs, P.A., 1985. Temperature/growth relationships for psychrotrophic food-spoilage bacteria. Food Microbiology, 2(2), pp.115-122.'\n",
      " \"Lactobaciulus plantarum_10_MRS_Zwietering, M.H., De Wit, J.C., Cuppers, H.G.A.M. and Van't Riet, K., 1994. Modeling of bacterial growth with shifts in temperature. Appl. Environ. Microbiol., 60(1), pp.204-213.\"\n",
      " \"Lactobaciulus plantarum_15_MRS_Zwietering, M.H., De Wit, J.C., Cuppers, H.G.A.M. and Van't Riet, K., 1994. Modeling of bacterial growth with shifts in temperature. Appl. Environ. Microbiol., 60(1), pp.204-213.\"\n",
      " \"Lactobaciulus plantarum_20_MRS_Zwietering, M.H., De Wit, J.C., Cuppers, H.G.A.M. and Van't Riet, K., 1994. Modeling of bacterial growth with shifts in temperature. Appl. Environ. Microbiol., 60(1), pp.204-213.\"\n",
      " \"Lactobaciulus plantarum_25_MRS_Zwietering, M.H., De Wit, J.C., Cuppers, H.G.A.M. and Van't Riet, K., 1994. Modeling of bacterial growth with shifts in temperature. Appl. Environ. Microbiol., 60(1), pp.204-213.\"]\n"
     ]
    }
   ],
   "source": [
    "print(data.ID.unique()) #units of the independent variable "
   ]
  },
  {
   "cell_type": "markdown",
   "metadata": {},
   "source": [
    "These are rather ungainly IDs, so you might want to replace them with numbers!"
   ]
  },
  {
   "cell_type": "code",
   "execution_count": 28,
   "metadata": {
    "scrolled": true
   },
   "outputs": [
    {
     "data": {
      "text/html": [
       "<div>\n",
       "<style scoped>\n",
       "    .dataframe tbody tr th:only-of-type {\n",
       "        vertical-align: middle;\n",
       "    }\n",
       "\n",
       "    .dataframe tbody tr th {\n",
       "        vertical-align: top;\n",
       "    }\n",
       "\n",
       "    .dataframe thead th {\n",
       "        text-align: right;\n",
       "    }\n",
       "</style>\n",
       "<table border=\"1\" class=\"dataframe\">\n",
       "  <thead>\n",
       "    <tr style=\"text-align: right;\">\n",
       "      <th></th>\n",
       "      <th>ID</th>\n",
       "      <th>X</th>\n",
       "      <th>Time</th>\n",
       "      <th>PopBio</th>\n",
       "      <th>Temp</th>\n",
       "      <th>Time_units</th>\n",
       "      <th>PopBio_units</th>\n",
       "      <th>Species</th>\n",
       "      <th>Medium</th>\n",
       "      <th>Rep</th>\n",
       "      <th>Citation</th>\n",
       "    </tr>\n",
       "  </thead>\n",
       "  <tbody>\n",
       "    <tr>\n",
       "      <th>0</th>\n",
       "      <td>Chryseobacterium.balustinum_5_TSB_Bae, Y.M., Z...</td>\n",
       "      <td>1</td>\n",
       "      <td>669.879518</td>\n",
       "      <td>0.283276</td>\n",
       "      <td>5</td>\n",
       "      <td>Hours</td>\n",
       "      <td>OD_595</td>\n",
       "      <td>Chryseobacterium.balustinum</td>\n",
       "      <td>TSB</td>\n",
       "      <td>1</td>\n",
       "      <td>Bae, Y.M., Zheng, L., Hyun, J.E., Jung, K.S., ...</td>\n",
       "    </tr>\n",
       "    <tr>\n",
       "      <th>1</th>\n",
       "      <td>Chryseobacterium.balustinum_5_TSB_Bae, Y.M., Z...</td>\n",
       "      <td>2</td>\n",
       "      <td>646.987952</td>\n",
       "      <td>0.283342</td>\n",
       "      <td>5</td>\n",
       "      <td>Hours</td>\n",
       "      <td>OD_595</td>\n",
       "      <td>Chryseobacterium.balustinum</td>\n",
       "      <td>TSB</td>\n",
       "      <td>1</td>\n",
       "      <td>Bae, Y.M., Zheng, L., Hyun, J.E., Jung, K.S., ...</td>\n",
       "    </tr>\n",
       "    <tr>\n",
       "      <th>2</th>\n",
       "      <td>Chryseobacterium.balustinum_5_TSB_Bae, Y.M., Z...</td>\n",
       "      <td>3</td>\n",
       "      <td>622.891566</td>\n",
       "      <td>0.285151</td>\n",
       "      <td>5</td>\n",
       "      <td>Hours</td>\n",
       "      <td>OD_595</td>\n",
       "      <td>Chryseobacterium.balustinum</td>\n",
       "      <td>TSB</td>\n",
       "      <td>1</td>\n",
       "      <td>Bae, Y.M., Zheng, L., Hyun, J.E., Jung, K.S., ...</td>\n",
       "    </tr>\n",
       "    <tr>\n",
       "      <th>3</th>\n",
       "      <td>Chryseobacterium.balustinum_5_TSB_Bae, Y.M., Z...</td>\n",
       "      <td>4</td>\n",
       "      <td>597.590361</td>\n",
       "      <td>0.281746</td>\n",
       "      <td>5</td>\n",
       "      <td>Hours</td>\n",
       "      <td>OD_595</td>\n",
       "      <td>Chryseobacterium.balustinum</td>\n",
       "      <td>TSB</td>\n",
       "      <td>1</td>\n",
       "      <td>Bae, Y.M., Zheng, L., Hyun, J.E., Jung, K.S., ...</td>\n",
       "    </tr>\n",
       "    <tr>\n",
       "      <th>4</th>\n",
       "      <td>Chryseobacterium.balustinum_5_TSB_Bae, Y.M., Z...</td>\n",
       "      <td>5</td>\n",
       "      <td>574.698795</td>\n",
       "      <td>0.273117</td>\n",
       "      <td>5</td>\n",
       "      <td>Hours</td>\n",
       "      <td>OD_595</td>\n",
       "      <td>Chryseobacterium.balustinum</td>\n",
       "      <td>TSB</td>\n",
       "      <td>1</td>\n",
       "      <td>Bae, Y.M., Zheng, L., Hyun, J.E., Jung, K.S., ...</td>\n",
       "    </tr>\n",
       "  </tbody>\n",
       "</table>\n",
       "</div>"
      ],
      "text/plain": [
       "                                                  ID  X        Time    PopBio  \\\n",
       "0  Chryseobacterium.balustinum_5_TSB_Bae, Y.M., Z...  1  669.879518  0.283276   \n",
       "1  Chryseobacterium.balustinum_5_TSB_Bae, Y.M., Z...  2  646.987952  0.283342   \n",
       "2  Chryseobacterium.balustinum_5_TSB_Bae, Y.M., Z...  3  622.891566  0.285151   \n",
       "3  Chryseobacterium.balustinum_5_TSB_Bae, Y.M., Z...  4  597.590361  0.281746   \n",
       "4  Chryseobacterium.balustinum_5_TSB_Bae, Y.M., Z...  5  574.698795  0.273117   \n",
       "\n",
       "   Temp Time_units PopBio_units                      Species Medium  Rep  \\\n",
       "0     5      Hours       OD_595  Chryseobacterium.balustinum    TSB    1   \n",
       "1     5      Hours       OD_595  Chryseobacterium.balustinum    TSB    1   \n",
       "2     5      Hours       OD_595  Chryseobacterium.balustinum    TSB    1   \n",
       "3     5      Hours       OD_595  Chryseobacterium.balustinum    TSB    1   \n",
       "4     5      Hours       OD_595  Chryseobacterium.balustinum    TSB    1   \n",
       "\n",
       "                                            Citation  \n",
       "0  Bae, Y.M., Zheng, L., Hyun, J.E., Jung, K.S., ...  \n",
       "1  Bae, Y.M., Zheng, L., Hyun, J.E., Jung, K.S., ...  \n",
       "2  Bae, Y.M., Zheng, L., Hyun, J.E., Jung, K.S., ...  \n",
       "3  Bae, Y.M., Zheng, L., Hyun, J.E., Jung, K.S., ...  \n",
       "4  Bae, Y.M., Zheng, L., Hyun, J.E., Jung, K.S., ...  "
      ]
     },
     "execution_count": 28,
     "metadata": {},
     "output_type": "execute_result"
    }
   ],
   "source": [
    "data_subset = data[data['ID']=='Chryseobacterium.balustinum_5_TSB_Bae, Y.M., Zheng, L., Hyun, J.E., Jung, K.S., Heu, S. and Lee, S.Y., 2014. Growth characteristics and biofilm formation of various spoilage bacteria isolated from fresh produce. Journal of food science, 79(10), pp.M2072-M2080.']\n",
    "data_subset.head()"
   ]
  },
  {
   "cell_type": "code",
   "execution_count": 29,
   "metadata": {},
   "outputs": [
    {
     "data": {
      "text/plain": [
       "<seaborn.axisgrid.FacetGrid at 0x7fd8ad27f220>"
      ]
     },
     "execution_count": 29,
     "metadata": {},
     "output_type": "execute_result"
    },
    {
     "data": {
      "image/png": "[encoded data removed]",
      "text/plain": [
       "<Figure size 360x360 with 1 Axes>"
      ]
     },
     "metadata": {
      "needs_background": "light"
     },
     "output_type": "display_data"
    }
   ],
   "source": [
    "sns.lmplot(\"Time\", \"PopBio\", data = data_subset, fit_reg = False) # will give warning - you can ignore it"
   ]
  },
  {
   "cell_type": "markdown",
   "metadata": {},
   "source": [
    "#### The Models\n",
    "\n",
    "Yet again, the simplest mathematical models you can use are the phenomenological quadratic and cubic polynomial models, that is eqns. 1 and 2 above (replace $x$ with Time). A Polynomial model may be able to capture decline in population size after some maximum value (the carrying capacity) has been reached (the \"death phase\" of population growth). For two mechanistic models of population growth (Logistic and Gompertz), have a look at the [Model Fitting Chapter](./20-ModelFitting-NLLS.ipynb).\n",
    "\n",
    "---\n",
    "\n",
    "![image](./graphics/Pop_Grow.svg)\n",
    "<small> <center> An example population growth curve dataset to which the modified Gompertz model (Zwietering et. al., 1990) has been fitted.\n",
    "</center></small>\n",
    "\n",
    "(See the [Model fitting in NLLS Chapter](./20-ModelFitting-NLLS.ipynb) for more information)\n",
    "\n",
    "---\n",
    "\n",
    "In addtion to the Gompertz model, two growth rate models that also include a lag phase are the Baranyi model (Baranyi, 1993), and the Buchanan model (or three-phase logistic model; Buchanan, 1997). Please see the Readings & Resources section below for the full references of these papers."
   ]
  },
  {
   "cell_type": "markdown",
   "metadata": {},
   "source": [
    "### Functional Responses\n",
    "\n",
    "#### The Question \n",
    "\n",
    "*How well do different mathematical models, e.g., based upon foraging theory (mechanistic) principles  vs. phenomenological ones, fit to functional responses data across species?*\n",
    "\n",
    "In ecological parlance, a functional response is the relationship between a consumer's (e.g., predator) biomass consumption rate and abundance of the target resource (e.g., prey). Functional responses arise from fundamental biological and physical constraints on consumer-resource interactions (e.g., Holling 1959, Pawar et al, 2012), and determine the rate of biomass flow between species in ecosystems across the full scale of sizes, from the smallest (e.g., microbes) to the largest (e.g., blue whales). Functional responses also play a key sole in determining the stability (responses to perturbations) of the food webs that underpin ecosystems.\n",
    "\n",
    "#### The Data\n",
    "\n",
    "The dataset is called `CRat.csv`. It contains measurements of rates of consumption of a single resource (e.g., prey, plants) species' by a consumer species (e.g., predators, grazers). These data were collected through lab and field experiments across the world. The field names are defined in a file called `BiotraitsTemplateDescription.pdf`, also in the `data` directory. The two main fields of interest are `N_TraitValue` (The number of resources consumed per consumer per unit time), and `ResDensity` (the resource abundance). Individual functional response curves can be identified by `ID` values --- each `ID` corresponds to one curve. Or you can reconstruct them as unique combinations of `Citation` (where the functional response dataset came from), `ConTaxa` (consumer species ID), `ResTaxa` (resource species ID).\n",
    "\n",
    "Let's have a look at the data:"
   ]
  },
  {
   "cell_type": "code",
   "execution_count": 12,
   "metadata": {},
   "outputs": [
    {
     "name": "stdout",
     "output_type": "stream",
     "text": [
      "Loaded 68 columns.\n"
     ]
    }
   ],
   "source": [
    "data = pd.read_csv(\"../data/CRat.csv\")\n",
    "print(\"Loaded {} columns.\".format(len(data.columns.values)))"
   ]
  },
  {
   "cell_type": "code",
   "execution_count": 13,
   "metadata": {
    "scrolled": true
   },
   "outputs": [
    {
     "data": {
      "text/html": [
       "<div>\n",
       "<style scoped>\n",
       "    .dataframe tbody tr th:only-of-type {\n",
       "        vertical-align: middle;\n",
       "    }\n",
       "\n",
       "    .dataframe tbody tr th {\n",
       "        vertical-align: top;\n",
       "    }\n",
       "\n",
       "    .dataframe thead th {\n",
       "        text-align: right;\n",
       "    }\n",
       "</style>\n",
       "<table border=\"1\" class=\"dataframe\">\n",
       "  <thead>\n",
       "    <tr style=\"text-align: right;\">\n",
       "      <th></th>\n",
       "      <th>ID</th>\n",
       "      <th>DataType</th>\n",
       "      <th>ORIGINAL_TraitID</th>\n",
       "      <th>ORIGINAL_TraitDefinition</th>\n",
       "      <th>TraitValue</th>\n",
       "      <th>TraitUnit</th>\n",
       "      <th>N_TraitValue</th>\n",
       "      <th>ConTaxa</th>\n",
       "      <th>ResTaxa</th>\n",
       "      <th>ConTaxaStage</th>\n",
       "      <th>...</th>\n",
       "      <th>ConSizType</th>\n",
       "      <th>CON_ORIGINAL_value</th>\n",
       "      <th>CON_ORIGINAL_unit</th>\n",
       "      <th>Con_Siz_reference</th>\n",
       "      <th>ResSizType</th>\n",
       "      <th>RES_ORIGINAL_value</th>\n",
       "      <th>RES_ORIGINAL_unit</th>\n",
       "      <th>Res_Siz_reference</th>\n",
       "      <th>Citation</th>\n",
       "      <th>FigureTable</th>\n",
       "    </tr>\n",
       "  </thead>\n",
       "  <tbody>\n",
       "    <tr>\n",
       "      <th>0</th>\n",
       "      <td>39835</td>\n",
       "      <td>new</td>\n",
       "      <td>Resource Consumption Rate</td>\n",
       "      <td>The number of resource consumed per number of ...</td>\n",
       "      <td>8.67993</td>\n",
       "      <td>Individual/(Individual*120 mins)</td>\n",
       "      <td>0.001206</td>\n",
       "      <td>Cyclops bicuspidatus Claus 1857</td>\n",
       "      <td>Panagrolaimus spp.</td>\n",
       "      <td>Cyclops bicuspidatus Claus 1857 [adult]</td>\n",
       "      <td>...</td>\n",
       "      <td>dry mass</td>\n",
       "      <td>6.23E-009</td>\n",
       "      <td>kilogram</td>\n",
       "      <td>original</td>\n",
       "      <td>dry mass</td>\n",
       "      <td>6.000000e-11</td>\n",
       "      <td>kilogram</td>\n",
       "      <td>original</td>\n",
       "      <td>[91] Muschiol D. et al. Predator-prey relation...</td>\n",
       "      <td>Fig 1</td>\n",
       "    </tr>\n",
       "    <tr>\n",
       "      <th>1</th>\n",
       "      <td>39835</td>\n",
       "      <td>new</td>\n",
       "      <td>Resource Consumption Rate</td>\n",
       "      <td>The number of resource consumed per number of ...</td>\n",
       "      <td>7.66727</td>\n",
       "      <td>Individual/(Individual*120 mins)</td>\n",
       "      <td>0.001065</td>\n",
       "      <td>Cyclops bicuspidatus Claus 1857</td>\n",
       "      <td>Panagrolaimus spp.</td>\n",
       "      <td>Cyclops bicuspidatus Claus 1857 [adult]</td>\n",
       "      <td>...</td>\n",
       "      <td>dry mass</td>\n",
       "      <td>6.23E-009</td>\n",
       "      <td>kilogram</td>\n",
       "      <td>original</td>\n",
       "      <td>dry mass</td>\n",
       "      <td>6.000000e-11</td>\n",
       "      <td>kilogram</td>\n",
       "      <td>original</td>\n",
       "      <td>[91] Muschiol D. et al. Predator-prey relation...</td>\n",
       "      <td>Fig 1</td>\n",
       "    </tr>\n",
       "    <tr>\n",
       "      <th>2</th>\n",
       "      <td>39835</td>\n",
       "      <td>new</td>\n",
       "      <td>Resource Consumption Rate</td>\n",
       "      <td>The number of resource consumed per number of ...</td>\n",
       "      <td>8.67993</td>\n",
       "      <td>Individual/(Individual*120 mins)</td>\n",
       "      <td>0.001206</td>\n",
       "      <td>Cyclops bicuspidatus Claus 1857</td>\n",
       "      <td>Panagrolaimus spp.</td>\n",
       "      <td>Cyclops bicuspidatus Claus 1857 [adult]</td>\n",
       "      <td>...</td>\n",
       "      <td>dry mass</td>\n",
       "      <td>6.23E-009</td>\n",
       "      <td>kilogram</td>\n",
       "      <td>original</td>\n",
       "      <td>dry mass</td>\n",
       "      <td>6.000000e-11</td>\n",
       "      <td>kilogram</td>\n",
       "      <td>original</td>\n",
       "      <td>[91] Muschiol D. et al. Predator-prey relation...</td>\n",
       "      <td>Fig 1</td>\n",
       "    </tr>\n",
       "    <tr>\n",
       "      <th>3</th>\n",
       "      <td>39835</td>\n",
       "      <td>new</td>\n",
       "      <td>Resource Consumption Rate</td>\n",
       "      <td>The number of resource consumed per number of ...</td>\n",
       "      <td>18.44480</td>\n",
       "      <td>Individual/(Individual*120 mins)</td>\n",
       "      <td>0.002562</td>\n",
       "      <td>Cyclops bicuspidatus Claus 1857</td>\n",
       "      <td>Panagrolaimus spp.</td>\n",
       "      <td>Cyclops bicuspidatus Claus 1857 [adult]</td>\n",
       "      <td>...</td>\n",
       "      <td>dry mass</td>\n",
       "      <td>6.23E-009</td>\n",
       "      <td>kilogram</td>\n",
       "      <td>original</td>\n",
       "      <td>dry mass</td>\n",
       "      <td>6.000000e-11</td>\n",
       "      <td>kilogram</td>\n",
       "      <td>original</td>\n",
       "      <td>[91] Muschiol D. et al. Predator-prey relation...</td>\n",
       "      <td>Fig 1</td>\n",
       "    </tr>\n",
       "    <tr>\n",
       "      <th>4</th>\n",
       "      <td>39835</td>\n",
       "      <td>new</td>\n",
       "      <td>Resource Consumption Rate</td>\n",
       "      <td>The number of resource consumed per number of ...</td>\n",
       "      <td>17.35990</td>\n",
       "      <td>Individual/(Individual*120 mins)</td>\n",
       "      <td>0.002411</td>\n",
       "      <td>Cyclops bicuspidatus Claus 1857</td>\n",
       "      <td>Panagrolaimus spp.</td>\n",
       "      <td>Cyclops bicuspidatus Claus 1857 [adult]</td>\n",
       "      <td>...</td>\n",
       "      <td>dry mass</td>\n",
       "      <td>6.23E-009</td>\n",
       "      <td>kilogram</td>\n",
       "      <td>original</td>\n",
       "      <td>dry mass</td>\n",
       "      <td>6.000000e-11</td>\n",
       "      <td>kilogram</td>\n",
       "      <td>original</td>\n",
       "      <td>[91] Muschiol D. et al. Predator-prey relation...</td>\n",
       "      <td>Fig 1</td>\n",
       "    </tr>\n",
       "  </tbody>\n",
       "</table>\n",
       "<p>5 rows × 68 columns</p>\n",
       "</div>"
      ],
      "text/plain": [
       "      ID DataType           ORIGINAL_TraitID  \\\n",
       "0  39835      new  Resource Consumption Rate   \n",
       "1  39835      new  Resource Consumption Rate   \n",
       "2  39835      new  Resource Consumption Rate   \n",
       "3  39835      new  Resource Consumption Rate   \n",
       "4  39835      new  Resource Consumption Rate   \n",
       "\n",
       "                            ORIGINAL_TraitDefinition  TraitValue  \\\n",
       "0  The number of resource consumed per number of ...     8.67993   \n",
       "1  The number of resource consumed per number of ...     7.66727   \n",
       "2  The number of resource consumed per number of ...     8.67993   \n",
       "3  The number of resource consumed per number of ...    18.44480   \n",
       "4  The number of resource consumed per number of ...    17.35990   \n",
       "\n",
       "                          TraitUnit  N_TraitValue  \\\n",
       "0  Individual/(Individual*120 mins)      0.001206   \n",
       "1  Individual/(Individual*120 mins)      0.001065   \n",
       "2  Individual/(Individual*120 mins)      0.001206   \n",
       "3  Individual/(Individual*120 mins)      0.002562   \n",
       "4  Individual/(Individual*120 mins)      0.002411   \n",
       "\n",
       "                           ConTaxa             ResTaxa  \\\n",
       "0  Cyclops bicuspidatus Claus 1857  Panagrolaimus spp.   \n",
       "1  Cyclops bicuspidatus Claus 1857  Panagrolaimus spp.   \n",
       "2  Cyclops bicuspidatus Claus 1857  Panagrolaimus spp.   \n",
       "3  Cyclops bicuspidatus Claus 1857  Panagrolaimus spp.   \n",
       "4  Cyclops bicuspidatus Claus 1857  Panagrolaimus spp.   \n",
       "\n",
       "                              ConTaxaStage  ... ConSizType CON_ORIGINAL_value  \\\n",
       "0  Cyclops bicuspidatus Claus 1857 [adult]  ...   dry mass          6.23E-009   \n",
       "1  Cyclops bicuspidatus Claus 1857 [adult]  ...   dry mass          6.23E-009   \n",
       "2  Cyclops bicuspidatus Claus 1857 [adult]  ...   dry mass          6.23E-009   \n",
       "3  Cyclops bicuspidatus Claus 1857 [adult]  ...   dry mass          6.23E-009   \n",
       "4  Cyclops bicuspidatus Claus 1857 [adult]  ...   dry mass          6.23E-009   \n",
       "\n",
       "  CON_ORIGINAL_unit Con_Siz_reference ResSizType  RES_ORIGINAL_value  \\\n",
       "0          kilogram          original   dry mass        6.000000e-11   \n",
       "1          kilogram          original   dry mass        6.000000e-11   \n",
       "2          kilogram          original   dry mass        6.000000e-11   \n",
       "3          kilogram          original   dry mass        6.000000e-11   \n",
       "4          kilogram          original   dry mass        6.000000e-11   \n",
       "\n",
       "   RES_ORIGINAL_unit Res_Siz_reference  \\\n",
       "0           kilogram          original   \n",
       "1           kilogram          original   \n",
       "2           kilogram          original   \n",
       "3           kilogram          original   \n",
       "4           kilogram          original   \n",
       "\n",
       "                                            Citation FigureTable  \n",
       "0  [91] Muschiol D. et al. Predator-prey relation...       Fig 1  \n",
       "1  [91] Muschiol D. et al. Predator-prey relation...       Fig 1  \n",
       "2  [91] Muschiol D. et al. Predator-prey relation...       Fig 1  \n",
       "3  [91] Muschiol D. et al. Predator-prey relation...       Fig 1  \n",
       "4  [91] Muschiol D. et al. Predator-prey relation...       Fig 1  \n",
       "\n",
       "[5 rows x 68 columns]"
      ]
     },
     "execution_count": 13,
     "metadata": {},
     "output_type": "execute_result"
    }
   ],
   "source": [
    "data.head()"
   ]
  },
  {
   "cell_type": "code",
   "execution_count": 14,
   "metadata": {
    "scrolled": true
   },
   "outputs": [
    {
     "name": "stdout",
     "output_type": "stream",
     "text": [
      "['ID' 'DataType' 'ORIGINAL_TraitID' 'ORIGINAL_TraitDefinition'\n",
      " 'TraitValue' 'TraitUnit' 'N_TraitValue' 'ConTaxa' 'ResTaxa'\n",
      " 'ConTaxaStage' 'ResTaxaStage' 'Con_ForagingMovement'\n",
      " 'Con_RESDetectionDimensionality' 'Res_ForagingMovement'\n",
      " 'Res_CONDetectionDimensionality' 'CON_MASS_value' 'RES_MASS_value'\n",
      " 'ResArenaSize_SI_UNIT' 'ResDensity_SI_VALUE' 'ResDensityUnit'\n",
      " 'ResDensity' 'ResArenaSize_SI_VALUE' 'ConTemp' 'ResTemp' 'ResReplaceRate'\n",
      " 'ResReplaceUnit' 'ResReplace' 'TraitSIValue' 'TraitSIUnit' 'N_TraitID'\n",
      " 'N_TraitConversion' 'N_CONVERTED' 'N_TraitUnit' 'Original_ErrorValue'\n",
      " 'Original_ErrorValueUnit' 'Replicates' 'ConTaxon' 'ConStage' 'ConCommon'\n",
      " 'Con_MovementDimensionality' 'Con_Thermy' 'Res_MovementDimensionality'\n",
      " 'ResTaxon' 'ResStage' 'ResCommon' 'Res_Thermy' 'Habitat' 'LabField'\n",
      " 'ObservationtimeSI' 'ObservationtimeSIUnits' 'ConStarvationTimeSI'\n",
      " 'ConStarvationTimeSIUnits' 'ConArenaSiz_VALUE' 'ConArenaSize_UNIT'\n",
      " 'ConDensity' 'ConDensityUnit' 'ConDensity_SI_VALUE' 'ConDensityConst'\n",
      " 'ConSizType' 'CON_ORIGINAL_value' 'CON_ORIGINAL_unit' 'Con_Siz_reference'\n",
      " 'ResSizType' 'RES_ORIGINAL_value' 'RES_ORIGINAL_unit' 'Res_Siz_reference'\n",
      " 'Citation' 'FigureTable']\n"
     ]
    }
   ],
   "source": [
    "print(data.columns.values)"
   ]
  },
  {
   "cell_type": "code",
   "execution_count": 15,
   "metadata": {},
   "outputs": [
    {
     "name": "stdout",
     "output_type": "stream",
     "text": [
      "['Individual/(Individual*120 mins)' 'Individual/(Individual*90 mins)'\n",
      " 'individual / (individual * second)'\n",
      " 'individual / (5 individual * 24 hrs)'\n",
      " 'individual / (1 individual * 3 hrs)'\n",
      " 'individual / (1 individual * 5 hrs)'\n",
      " 'individual / (1 individual * 8 hrs)'\n",
      " 'individual / (1 individual * 6 hrs)'\n",
      " 'individual / (1 individual * 24 hrs)'\n",
      " 'individual / (1 individual *12 hrs)'\n",
      " 'individual / (1 individual *24 hrs)'\n",
      " 'individual / (1 individual *2 hrs)'\n",
      " 'milligram (body mass - dry) / (sqrt (gram (body mass - wet)) * 1 minute)'\n",
      " 'individual / (1 individual *3 hrs)'\n",
      " 'cubic micrometer (yeast cell wet volume) / (gram (body mass - wet) * 1 hour)'\n",
      " 'individual / (1 individual *30 mins)' 'individual / (1 individual *day)'\n",
      " 'individual / (1 individual * hr)'\n",
      " 'gram (biomass - dry) / (individual * 1 minute)'\n",
      " 'Individual/(Individual*1 mins)' 'Individual/(Individual*1 hr)'\n",
      " 'Individual/(Individual*1 day)'\n",
      " 'gram (biomass - wet) / (individual * 3 hrs)'\n",
      " 'Individual/(Individual * 1 hr)' 'Individual/(Individual*7 days)'\n",
      " 'gram (biomass - wet) / (individual * 22.5 minutes)'\n",
      " 'Individual/(Individual * 8 hr)' 'Individual/(Individual * day)'\n",
      " 'Individual/(Individual * 106 days)'\n",
      " 'milligram (biomass - dry) / (individual * 1 hr)'\n",
      " 'Individual/(Individual * 12 hrs)' 'Individual/(Individual * 1 day)'\n",
      " 'Individual/(Individual * 2 day)' 'Individual/(Individual * 3 day)'\n",
      " 'Individual/(Individual * 15 mins)'\n",
      " 'microgram (Carbon) / (individual * 1 hr)'\n",
      " 'cubic micrometer (cell wet biovolume) / (gram (body mass - wet) * 1 hour)'\n",
      " 'Individual/(Individual * 3 mins)' 'Individual/(Individual*1 d)'\n",
      " 'nanogram (chlorophyll a weight) / (milligram (body mass - dry) * 1 hour) '\n",
      " 'Individuals / (milligram (body mass - dry) * 1 hour) '\n",
      " 'individual / (1 individual * 1 day)'\n",
      " 'individual / (1 individual * 1 hour)'\n",
      " 'individual / (1 individual * 15 minutes)'\n",
      " 'individual / (1 individual * 4 hour)'\n",
      " 'nanogram (Carbon) / (individual * 1 hr)'\n",
      " 'individual / (1 individual * 1 minute)'\n",
      " 'individual / (1 individual * 1 second)'\n",
      " 'Individual/(Individual*20 mins)' 'Individual/(Individual * second)'\n",
      " 'Individual/(Individual*1 hour)' 'Individual/(Individual*111 day)'\n",
      " 'Individual/(Individual*15 min)' 'Individual/(Individual*1 min)'\n",
      " 'Individual/(Individual*12 hour)' 'Individual/(Individual*168 hour)'\n",
      " 'Individual/(Individual*12 day)' 'individual / (1 individual * 24 hour)'\n",
      " 'individual / (1 individual * 6 hour)'\n",
      " 'individual / (1 individual * 3 hour)'\n",
      " 'individual / (1 individual * 1 hr)'\n",
      " 'individual / (1 individual * 15 hrs)'\n",
      " 'individual / (1 individual *5 mins)']\n"
     ]
    }
   ],
   "source": [
    "print(data.TraitUnit.unique()) #units of the response variable "
   ]
  },
  {
   "cell_type": "code",
   "execution_count": 16,
   "metadata": {},
   "outputs": [
    {
     "name": "stdout",
     "output_type": "stream",
     "text": [
      "['Individuals per arena' 'g (body - dry) per square meter'\n",
      " 'cubic micrometer (yeast wet cell biovolume) per milliliter'\n",
      " 'Individuals per liter' 'Individuals per cubic centimeter'\n",
      " 'kg (body - dry) per hectare' 'Individuals per square meter'\n",
      " 'Individuals per microliter' 'g (body - wet) per square meter'\n",
      " 'individuals per arena' 'individuals per square km'\n",
      " 'mg (body - dry) per square cm' 'individuals per Liter'\n",
      " 'mg (Carbon) per liter'\n",
      " 'cubic micrometer (wet cell biovolume) per milliliter'\n",
      " 'individuals per .15 ha' 'microgram (Carbon) per liter'\n",
      " 'Individuals per ml' 'microgram (chlorophyll a weight) per liter'\n",
      " 'Individuals per milliliter' 'Individuals per 1 ha'\n",
      " 'Individuals per cubic meter' 'Individuals per 100 ha'\n",
      " 'individual per milliliter (1)' 'individual per arena (1)'\n",
      " 'individual per liter (1)']\n"
     ]
    }
   ],
   "source": [
    "print(data.ResDensityUnit.unique()) #units of the independent variable "
   ]
  },
  {
   "cell_type": "code",
   "execution_count": 17,
   "metadata": {
    "scrolled": true
   },
   "outputs": [
    {
     "name": "stdout",
     "output_type": "stream",
     "text": [
      "[39835 39836 39837 39838 39839 39840 39841 39842 39843 39844 39845 39846\n",
      " 39847 39848 39849 39850 39851 39852 39853 39854 39855 39856 39857 39858\n",
      " 39859 39860 39861 39862 39863 39864 39865 39866 39867 39868 39869 39870\n",
      " 39871 39873 39874 39875 39876 39877 39878 39879 39880 39881 39882 39883\n",
      " 39884 39885 39886 39887 39888 39889 39890 39891 39892 39893 39894 39895\n",
      " 39896 39897 39898 39899 39900 39901 39902 39903 39904 39905 39906 39907\n",
      " 39908 39909 39910 39911 39912 39913 39914 39915 39916 39917 39918 39919\n",
      " 39920 39921 39922 39923 39924 39925 39926 39927 39928 39929 39931 39932\n",
      " 39933 39934 39935 39936 39937 39938 39939 39940 39941 39942 39943 39944\n",
      " 39945 39946 39947 39948 39949 39950 39951 39952 39953 39954 39955 39956\n",
      " 39957 39958 39959 39960 39961 39962 39963 39964 39965 39966 39967 39968\n",
      " 39969 39970 39971 39972 39973 39974 39975 39976 39977 39978 39979 39980\n",
      " 39981 39982 39983 39984 39985 39986 39987 39988 39989 39990 39991 39992\n",
      " 39993 39994 39995 39996 39997 39998 39999 40000 40001 40002 40003 40004\n",
      " 40005 40006 40007 40008 40009 40010 40011 40012 40013 40014 40015 40016\n",
      " 40017 40018 40019 40020 40021 40022 40023 40024 40025 40026 40027 40028\n",
      " 40029 40030 40031 40032 40033 40034 40035 40036 40037 40038 40039 40042\n",
      " 40043 40044 40045 40046 40047 40048 40049 40050 40051 40052 40053 40054\n",
      " 40055 40056 40057 40058 40059 40060 40061 40062 40063 40064 40065 40066\n",
      " 40067 40068 40069 40070 40071 40072 40073 40074 40075 40076 40077 40078\n",
      " 40079 40080 40081 40082 40083 40084 40085 40086 40087 40088 40089 40090\n",
      " 40091 40092 40093 40094 40095 40096 40097 40098 40099 40100 40101 40102\n",
      " 40103 40104 40105 40106 40107 40108 40109 40110 40111 40112   351   814\n",
      "    71   445     3     2   450   140    79   713   708   920   721   687\n",
      "   691     6   695 40114 40115 40116 40117 40118 40119 40120 40121 40122\n",
      " 40123 40124 40125 40126 40127 40128 40129 40130]\n"
     ]
    }
   ],
   "source": [
    "print(data.ID.unique()) #units of the independent variable "
   ]
  },
  {
   "cell_type": "code",
   "execution_count": 18,
   "metadata": {
    "scrolled": true
   },
   "outputs": [
    {
     "data": {
      "text/html": [
       "<div>\n",
       "<style scoped>\n",
       "    .dataframe tbody tr th:only-of-type {\n",
       "        vertical-align: middle;\n",
       "    }\n",
       "\n",
       "    .dataframe tbody tr th {\n",
       "        vertical-align: top;\n",
       "    }\n",
       "\n",
       "    .dataframe thead th {\n",
       "        text-align: right;\n",
       "    }\n",
       "</style>\n",
       "<table border=\"1\" class=\"dataframe\">\n",
       "  <thead>\n",
       "    <tr style=\"text-align: right;\">\n",
       "      <th></th>\n",
       "      <th>ID</th>\n",
       "      <th>DataType</th>\n",
       "      <th>ORIGINAL_TraitID</th>\n",
       "      <th>ORIGINAL_TraitDefinition</th>\n",
       "      <th>TraitValue</th>\n",
       "      <th>TraitUnit</th>\n",
       "      <th>N_TraitValue</th>\n",
       "      <th>ConTaxa</th>\n",
       "      <th>ResTaxa</th>\n",
       "      <th>ConTaxaStage</th>\n",
       "      <th>...</th>\n",
       "      <th>ConSizType</th>\n",
       "      <th>CON_ORIGINAL_value</th>\n",
       "      <th>CON_ORIGINAL_unit</th>\n",
       "      <th>Con_Siz_reference</th>\n",
       "      <th>ResSizType</th>\n",
       "      <th>RES_ORIGINAL_value</th>\n",
       "      <th>RES_ORIGINAL_unit</th>\n",
       "      <th>Res_Siz_reference</th>\n",
       "      <th>Citation</th>\n",
       "      <th>FigureTable</th>\n",
       "    </tr>\n",
       "  </thead>\n",
       "  <tbody>\n",
       "    <tr>\n",
       "      <th>1552</th>\n",
       "      <td>39982</td>\n",
       "      <td>new</td>\n",
       "      <td>Resource Consumption Rate</td>\n",
       "      <td>The number of resource consumed per number of ...</td>\n",
       "      <td>15.3020</td>\n",
       "      <td>Individual/(Individual * 1 hr)</td>\n",
       "      <td>0.004251</td>\n",
       "      <td>Mediomastus fragile Rasmussen 1973</td>\n",
       "      <td>Isochrysis galbana Parke</td>\n",
       "      <td>Mediomastus fragile Rasmussen 1973 [larva]</td>\n",
       "      <td>...</td>\n",
       "      <td>body volume</td>\n",
       "      <td>2500000</td>\n",
       "      <td>cubic micrometer</td>\n",
       "      <td>original</td>\n",
       "      <td>cell diameter</td>\n",
       "      <td>4.56</td>\n",
       "      <td>micrometer</td>\n",
       "      <td>original</td>\n",
       "      <td>Hansen B. 1993. ASPECTS OF FEEDING GROWTH AND ...</td>\n",
       "      <td>Fig 6</td>\n",
       "    </tr>\n",
       "    <tr>\n",
       "      <th>1553</th>\n",
       "      <td>39982</td>\n",
       "      <td>new</td>\n",
       "      <td>Resource Consumption Rate</td>\n",
       "      <td>The number of resource consumed per number of ...</td>\n",
       "      <td>17.6631</td>\n",
       "      <td>Individual/(Individual * 1 hr)</td>\n",
       "      <td>0.004906</td>\n",
       "      <td>Mediomastus fragile Rasmussen 1973</td>\n",
       "      <td>Isochrysis galbana Parke</td>\n",
       "      <td>Mediomastus fragile Rasmussen 1973 [larva]</td>\n",
       "      <td>...</td>\n",
       "      <td>body volume</td>\n",
       "      <td>2500000</td>\n",
       "      <td>cubic micrometer</td>\n",
       "      <td>original</td>\n",
       "      <td>cell diameter</td>\n",
       "      <td>4.56</td>\n",
       "      <td>micrometer</td>\n",
       "      <td>original</td>\n",
       "      <td>Hansen B. 1993. ASPECTS OF FEEDING GROWTH AND ...</td>\n",
       "      <td>Fig 6</td>\n",
       "    </tr>\n",
       "    <tr>\n",
       "      <th>1554</th>\n",
       "      <td>39982</td>\n",
       "      <td>new</td>\n",
       "      <td>Resource Consumption Rate</td>\n",
       "      <td>The number of resource consumed per number of ...</td>\n",
       "      <td>50.1713</td>\n",
       "      <td>Individual/(Individual * 1 hr)</td>\n",
       "      <td>0.013936</td>\n",
       "      <td>Mediomastus fragile Rasmussen 1973</td>\n",
       "      <td>Isochrysis galbana Parke</td>\n",
       "      <td>Mediomastus fragile Rasmussen 1973 [larva]</td>\n",
       "      <td>...</td>\n",
       "      <td>body volume</td>\n",
       "      <td>2500000</td>\n",
       "      <td>cubic micrometer</td>\n",
       "      <td>original</td>\n",
       "      <td>cell diameter</td>\n",
       "      <td>4.56</td>\n",
       "      <td>micrometer</td>\n",
       "      <td>original</td>\n",
       "      <td>Hansen B. 1993. ASPECTS OF FEEDING GROWTH AND ...</td>\n",
       "      <td>Fig 6</td>\n",
       "    </tr>\n",
       "    <tr>\n",
       "      <th>1555</th>\n",
       "      <td>39982</td>\n",
       "      <td>new</td>\n",
       "      <td>Resource Consumption Rate</td>\n",
       "      <td>The number of resource consumed per number of ...</td>\n",
       "      <td>47.9275</td>\n",
       "      <td>Individual/(Individual * 1 hr)</td>\n",
       "      <td>0.013313</td>\n",
       "      <td>Mediomastus fragile Rasmussen 1973</td>\n",
       "      <td>Isochrysis galbana Parke</td>\n",
       "      <td>Mediomastus fragile Rasmussen 1973 [larva]</td>\n",
       "      <td>...</td>\n",
       "      <td>body volume</td>\n",
       "      <td>2500000</td>\n",
       "      <td>cubic micrometer</td>\n",
       "      <td>original</td>\n",
       "      <td>cell diameter</td>\n",
       "      <td>4.56</td>\n",
       "      <td>micrometer</td>\n",
       "      <td>original</td>\n",
       "      <td>Hansen B. 1993. ASPECTS OF FEEDING GROWTH AND ...</td>\n",
       "      <td>Fig 6</td>\n",
       "    </tr>\n",
       "    <tr>\n",
       "      <th>1556</th>\n",
       "      <td>39982</td>\n",
       "      <td>new</td>\n",
       "      <td>Resource Consumption Rate</td>\n",
       "      <td>The number of resource consumed per number of ...</td>\n",
       "      <td>78.3936</td>\n",
       "      <td>Individual/(Individual * 1 hr)</td>\n",
       "      <td>0.021776</td>\n",
       "      <td>Mediomastus fragile Rasmussen 1973</td>\n",
       "      <td>Isochrysis galbana Parke</td>\n",
       "      <td>Mediomastus fragile Rasmussen 1973 [larva]</td>\n",
       "      <td>...</td>\n",
       "      <td>body volume</td>\n",
       "      <td>2500000</td>\n",
       "      <td>cubic micrometer</td>\n",
       "      <td>original</td>\n",
       "      <td>cell diameter</td>\n",
       "      <td>4.56</td>\n",
       "      <td>micrometer</td>\n",
       "      <td>original</td>\n",
       "      <td>Hansen B. 1993. ASPECTS OF FEEDING GROWTH AND ...</td>\n",
       "      <td>Fig 6</td>\n",
       "    </tr>\n",
       "  </tbody>\n",
       "</table>\n",
       "<p>5 rows × 68 columns</p>\n",
       "</div>"
      ],
      "text/plain": [
       "         ID DataType           ORIGINAL_TraitID  \\\n",
       "1552  39982      new  Resource Consumption Rate   \n",
       "1553  39982      new  Resource Consumption Rate   \n",
       "1554  39982      new  Resource Consumption Rate   \n",
       "1555  39982      new  Resource Consumption Rate   \n",
       "1556  39982      new  Resource Consumption Rate   \n",
       "\n",
       "                               ORIGINAL_TraitDefinition  TraitValue  \\\n",
       "1552  The number of resource consumed per number of ...     15.3020   \n",
       "1553  The number of resource consumed per number of ...     17.6631   \n",
       "1554  The number of resource consumed per number of ...     50.1713   \n",
       "1555  The number of resource consumed per number of ...     47.9275   \n",
       "1556  The number of resource consumed per number of ...     78.3936   \n",
       "\n",
       "                           TraitUnit  N_TraitValue  \\\n",
       "1552  Individual/(Individual * 1 hr)      0.004251   \n",
       "1553  Individual/(Individual * 1 hr)      0.004906   \n",
       "1554  Individual/(Individual * 1 hr)      0.013936   \n",
       "1555  Individual/(Individual * 1 hr)      0.013313   \n",
       "1556  Individual/(Individual * 1 hr)      0.021776   \n",
       "\n",
       "                                 ConTaxa                   ResTaxa  \\\n",
       "1552  Mediomastus fragile Rasmussen 1973  Isochrysis galbana Parke   \n",
       "1553  Mediomastus fragile Rasmussen 1973  Isochrysis galbana Parke   \n",
       "1554  Mediomastus fragile Rasmussen 1973  Isochrysis galbana Parke   \n",
       "1555  Mediomastus fragile Rasmussen 1973  Isochrysis galbana Parke   \n",
       "1556  Mediomastus fragile Rasmussen 1973  Isochrysis galbana Parke   \n",
       "\n",
       "                                    ConTaxaStage  ...   ConSizType  \\\n",
       "1552  Mediomastus fragile Rasmussen 1973 [larva]  ...  body volume   \n",
       "1553  Mediomastus fragile Rasmussen 1973 [larva]  ...  body volume   \n",
       "1554  Mediomastus fragile Rasmussen 1973 [larva]  ...  body volume   \n",
       "1555  Mediomastus fragile Rasmussen 1973 [larva]  ...  body volume   \n",
       "1556  Mediomastus fragile Rasmussen 1973 [larva]  ...  body volume   \n",
       "\n",
       "     CON_ORIGINAL_value CON_ORIGINAL_unit Con_Siz_reference     ResSizType  \\\n",
       "1552            2500000  cubic micrometer          original  cell diameter   \n",
       "1553            2500000  cubic micrometer          original  cell diameter   \n",
       "1554            2500000  cubic micrometer          original  cell diameter   \n",
       "1555            2500000  cubic micrometer          original  cell diameter   \n",
       "1556            2500000  cubic micrometer          original  cell diameter   \n",
       "\n",
       "      RES_ORIGINAL_value  RES_ORIGINAL_unit Res_Siz_reference  \\\n",
       "1552                4.56         micrometer          original   \n",
       "1553                4.56         micrometer          original   \n",
       "1554                4.56         micrometer          original   \n",
       "1555                4.56         micrometer          original   \n",
       "1556                4.56         micrometer          original   \n",
       "\n",
       "                                               Citation FigureTable  \n",
       "1552  Hansen B. 1993. ASPECTS OF FEEDING GROWTH AND ...       Fig 6  \n",
       "1553  Hansen B. 1993. ASPECTS OF FEEDING GROWTH AND ...       Fig 6  \n",
       "1554  Hansen B. 1993. ASPECTS OF FEEDING GROWTH AND ...       Fig 6  \n",
       "1555  Hansen B. 1993. ASPECTS OF FEEDING GROWTH AND ...       Fig 6  \n",
       "1556  Hansen B. 1993. ASPECTS OF FEEDING GROWTH AND ...       Fig 6  \n",
       "\n",
       "[5 rows x 68 columns]"
      ]
     },
     "execution_count": 18,
     "metadata": {},
     "output_type": "execute_result"
    }
   ],
   "source": [
    "data_subset = data[data['ID']==39982]\n",
    "data_subset.head()"
   ]
  },
  {
   "cell_type": "code",
   "execution_count": 19,
   "metadata": {},
   "outputs": [
    {
     "data": {
      "text/plain": [
       "<seaborn.axisgrid.FacetGrid at 0x7fd8af5963d0>"
      ]
     },
     "execution_count": 19,
     "metadata": {},
     "output_type": "execute_result"
    },
    {
     "data": {
      "image/png": "[encoded data removed]",
      "text/plain": [
       "<Figure size 360x360 with 1 Axes>"
      ]
     },
     "metadata": {
      "needs_background": "light"
     },
     "output_type": "display_data"
    }
   ],
   "source": [
    "sns.lmplot(\"ResDensity\", \"N_TraitValue\", data=data_subset, fit_reg=False)"
   ]
  },
  {
   "cell_type": "markdown",
   "metadata": {},
   "source": [
    "(Miniproject-FR-Models)=\n",
    "#### The Models\n",
    "\n",
    "*All the following parameters and variables are in SI units*.\n",
    "\n",
    "The fundamental measure of interest (the response variable) is consumption rate ($c$). This is expressed in terms of biomass quantity or number of individuals of resource consumed *per unit time per unit consumer* (so units of Mass (or Individuals) / Time). \n",
    "\n",
    "Again, the simplest mathematical models you can use are the phenomenological quadratic and cubic polynomial models, that is eqns. {eq}`eq:quad` and {eq}`eq:cubic` (replace $x$ with resource abundance).\n",
    "\n",
    "Then, there is the more mechanistic Holling Type II model (Holling, 1959):\n",
    "\n",
    "$$\n",
    "      c = \\frac{a x_R}{1 + h a x_R}\n",
    "$$(eq:FR_II)\n",
    "\n",
    "Here, $x_R$ is resource density (Mass / Area or Volume), $a$ is consumer's search rate (Area or Volume / Time ), and  $h$ is handling time of the consumer for that resource (time taken to overpower and ingest it). \n",
    "\n",
    "Below is an example FR curve from the dataset you have been given with the Type II model fitted to it.  \n",
    "\n",
    "---\n",
    "![image](./graphics/3_FR.svg)\n",
    "<small>  <center> Example of the a Type II model (eqn. {eq}`eq:FR_II`) fitted to a functional response of a consumer on a resource. \n",
    "</center> </small>\n",
    "\n",
    "---\n",
    "\n",
    "There is also the less-mechanistic \"generalized\" functional response model:  \n",
    "\n",
    "$$\n",
    "      c = \\frac{a x_R^{q + 1}}{1 + h a x_R^{q + 1}}\n",
    "$$(eq:FR_gen)\n",
    "\t   \n",
    "Where everything is same as eqn. {eq}`eq:FR_II`, but the additional parameter $q$ (dimensionless) is a shape parameter that allows the shape of the response to be more flexible/variable, from \"Type I\" to \"Type III\". This model is less mechanistic because it includes a phenomenological parameter $q$ which does not have a formal biological meaning. \n",
    "\n",
    "```{note}\n",
    "Note that if $q=0$, eqn {eq}`eq:FR_gen` becomes same as the Type II model (eqn. {eq}`eq:FR_II`). \n",
    "```\n",
    "---\n",
    "![image](./graphics/FR.svg)\n",
    "<small> <center> The range of functional responses captured by the generalized functional response model (eqn. {eq}`eq:FR_gen`). \n",
    "</center>\n",
    "</small>\n",
    "\n",
    "---\n",
    "\n",
    "There are not too many other models for functional responses, though you can and should try looking for them in the literature. One more mechanistic model that defines parameters of the Type II functional response in terms of body size of predator and prey can be found in  Pawar et al (2012)."
   ]
  },
  {
   "cell_type": "markdown",
   "metadata": {},
   "source": [
    "### Thermal Performance Curves\n",
    "\n",
    "#### The Question \n",
    "\n",
    "*How well do different mathematical models, e.g., based upon biochemical (mechanistic) principles  vs. phenomenological ones, fit to the thermal responses of metabolic traits?*\n",
    "\n",
    "This is currently a \"hot\" (no pun intended!) topic in biology. On the *ecological side*, because the temperature-dependence of metabolic rate sets the rate of intrinsic $r_\\text{max}$ (papers by Savage et al., Brown et al.) as well as interactions between species, it has a strong effect on population dynamics. In this context, note that 99.9% of life on earth is ectothermic! On the *evolutionary side*, the temperature-dependence of fitness and species interactions also means that warmer environments may have stronger rates of evolution. This may be compounded by the fact that mutation rates may also increase with temperature (papers by Gillooly et al.).\n",
    "\n",
    "#### The Data\n",
    "\n",
    "The dataset is called `ThermRespData.csv`. It contains a subset of the full \"BioTraits\" database. This subset contains hundreds of \"thermal responses\" for growth, respiration and photosynthesis rates in plants and bacteria (both aquatic and terrestrial). These data were collected through lab experiments across the world, and compiled by various people over the years. The field names are defined in a file called `BiotraitsTemplateDescription.pdf`, also in the `data` directory. The two main fields of interest are `OriginalTraitValue` (the trait values responding to temperature), and `ConTemp` (the temperature). Individual thermal response curves can be identified by `ID` values --- each `ID` corresponds to one thermal performance curve.\n",
    "\n",
    "Let's have a look at the data:"
   ]
  },
  {
   "cell_type": "code",
   "execution_count": 3,
   "metadata": {
    "scrolled": true
   },
   "outputs": [
    {
     "name": "stdout",
     "output_type": "stream",
     "text": [
      "Loaded 78 columns.\n"
     ]
    },
    {
     "name": "stderr",
     "output_type": "stream",
     "text": [
      "/usr/local/lib/python3.8/dist-packages/IPython/core/interactiveshell.py:3071: DtypeWarning: Columns (8,9,37,41,44,55,58,59,63,71) have mixed types. Specify dtype option on import or set low_memory=False.\n",
      "  has_raised = await self.run_ast_nodes(code_ast.body, cell_name,\n"
     ]
    }
   ],
   "source": [
    "data = pd.read_csv(\"../data/ThermRespData.csv\")\n",
    "print(\"Loaded {} columns.\".format(len(data.columns.values)))"
   ]
  },
  {
   "cell_type": "code",
   "execution_count": 4,
   "metadata": {
    "scrolled": true
   },
   "outputs": [
    {
     "data": {
      "text/html": [
       "<div>\n",
       "<style scoped>\n",
       "    .dataframe tbody tr th:only-of-type {\n",
       "        vertical-align: middle;\n",
       "    }\n",
       "\n",
       "    .dataframe tbody tr th {\n",
       "        vertical-align: top;\n",
       "    }\n",
       "\n",
       "    .dataframe thead th {\n",
       "        text-align: right;\n",
       "    }\n",
       "</style>\n",
       "<table border=\"1\" class=\"dataframe\">\n",
       "  <thead>\n",
       "    <tr style=\"text-align: right;\">\n",
       "      <th></th>\n",
       "      <th>Input</th>\n",
       "      <th>ID</th>\n",
       "      <th>OrignalTraitName</th>\n",
       "      <th>OriginalTraitDef</th>\n",
       "      <th>StandardisedTraitName</th>\n",
       "      <th>StandardisedTraitDef</th>\n",
       "      <th>OriginalTraitValue</th>\n",
       "      <th>OriginalTraitUnit</th>\n",
       "      <th>OriginalErrorPos</th>\n",
       "      <th>OriginalErrorNeg</th>\n",
       "      <th>...</th>\n",
       "      <th>AcclimVarTempUnit</th>\n",
       "      <th>AcclimVarTempDur</th>\n",
       "      <th>AcclimVarTempDurUnit</th>\n",
       "      <th>LabGrowthTemp</th>\n",
       "      <th>LabGrowthTempUnit</th>\n",
       "      <th>LabGrowthDur</th>\n",
       "      <th>LabGrowthDurUnit</th>\n",
       "      <th>Citation</th>\n",
       "      <th>FigureTable</th>\n",
       "      <th>Notes</th>\n",
       "    </tr>\n",
       "  </thead>\n",
       "  <tbody>\n",
       "    <tr>\n",
       "      <th>0</th>\n",
       "      <td>Richard</td>\n",
       "      <td>1</td>\n",
       "      <td>photosynthetic co2 assimilation</td>\n",
       "      <td>NaN</td>\n",
       "      <td>net photosynthesis rate</td>\n",
       "      <td>NaN</td>\n",
       "      <td>9.876141</td>\n",
       "      <td>micromol m^-2 s^-1</td>\n",
       "      <td>NaN</td>\n",
       "      <td>NaN</td>\n",
       "      <td>...</td>\n",
       "      <td>NaN</td>\n",
       "      <td>NaN</td>\n",
       "      <td>NaN</td>\n",
       "      <td>19</td>\n",
       "      <td>Celsius</td>\n",
       "      <td>NaN</td>\n",
       "      <td>NaN</td>\n",
       "      <td>Sharkey, T. D., &amp; Loreto, F. (1993). Water str...</td>\n",
       "      <td>3</td>\n",
       "      <td>leaves 2 weeks past full extension</td>\n",
       "    </tr>\n",
       "    <tr>\n",
       "      <th>1</th>\n",
       "      <td>Richard</td>\n",
       "      <td>1</td>\n",
       "      <td>photosynthetic co2 assimilation</td>\n",
       "      <td>NaN</td>\n",
       "      <td>net photosynthesis rate</td>\n",
       "      <td>NaN</td>\n",
       "      <td>11.743801</td>\n",
       "      <td>micromol m^-2 s^-1</td>\n",
       "      <td>NaN</td>\n",
       "      <td>NaN</td>\n",
       "      <td>...</td>\n",
       "      <td>NaN</td>\n",
       "      <td>NaN</td>\n",
       "      <td>NaN</td>\n",
       "      <td>19</td>\n",
       "      <td>Celsius</td>\n",
       "      <td>NaN</td>\n",
       "      <td>NaN</td>\n",
       "      <td>Sharkey, T. D., &amp; Loreto, F. (1993). Water str...</td>\n",
       "      <td>3</td>\n",
       "      <td>leaves 2 weeks past full extension</td>\n",
       "    </tr>\n",
       "    <tr>\n",
       "      <th>2</th>\n",
       "      <td>Richard</td>\n",
       "      <td>1</td>\n",
       "      <td>photosynthetic co2 assimilation</td>\n",
       "      <td>NaN</td>\n",
       "      <td>net photosynthesis rate</td>\n",
       "      <td>NaN</td>\n",
       "      <td>10.582731</td>\n",
       "      <td>micromol m^-2 s^-1</td>\n",
       "      <td>NaN</td>\n",
       "      <td>NaN</td>\n",
       "      <td>...</td>\n",
       "      <td>NaN</td>\n",
       "      <td>NaN</td>\n",
       "      <td>NaN</td>\n",
       "      <td>19</td>\n",
       "      <td>Celsius</td>\n",
       "      <td>NaN</td>\n",
       "      <td>NaN</td>\n",
       "      <td>Sharkey, T. D., &amp; Loreto, F. (1993). Water str...</td>\n",
       "      <td>3</td>\n",
       "      <td>leaves 2 weeks past full extension</td>\n",
       "    </tr>\n",
       "    <tr>\n",
       "      <th>3</th>\n",
       "      <td>Richard</td>\n",
       "      <td>1</td>\n",
       "      <td>photosynthetic co2 assimilation</td>\n",
       "      <td>NaN</td>\n",
       "      <td>net photosynthesis rate</td>\n",
       "      <td>NaN</td>\n",
       "      <td>6.508309</td>\n",
       "      <td>micromol m^-2 s^-1</td>\n",
       "      <td>NaN</td>\n",
       "      <td>NaN</td>\n",
       "      <td>...</td>\n",
       "      <td>NaN</td>\n",
       "      <td>NaN</td>\n",
       "      <td>NaN</td>\n",
       "      <td>19</td>\n",
       "      <td>Celsius</td>\n",
       "      <td>NaN</td>\n",
       "      <td>NaN</td>\n",
       "      <td>Sharkey, T. D., &amp; Loreto, F. (1993). Water str...</td>\n",
       "      <td>3</td>\n",
       "      <td>leaves 2 weeks past full extension</td>\n",
       "    </tr>\n",
       "    <tr>\n",
       "      <th>4</th>\n",
       "      <td>Richard</td>\n",
       "      <td>1</td>\n",
       "      <td>photosynthetic co2 assimilation</td>\n",
       "      <td>NaN</td>\n",
       "      <td>net photosynthesis rate</td>\n",
       "      <td>NaN</td>\n",
       "      <td>2.664421</td>\n",
       "      <td>micromol m^-2 s^-1</td>\n",
       "      <td>NaN</td>\n",
       "      <td>NaN</td>\n",
       "      <td>...</td>\n",
       "      <td>NaN</td>\n",
       "      <td>NaN</td>\n",
       "      <td>NaN</td>\n",
       "      <td>19</td>\n",
       "      <td>Celsius</td>\n",
       "      <td>NaN</td>\n",
       "      <td>NaN</td>\n",
       "      <td>Sharkey, T. D., &amp; Loreto, F. (1993). Water str...</td>\n",
       "      <td>3</td>\n",
       "      <td>leaves 2 weeks past full extension</td>\n",
       "    </tr>\n",
       "  </tbody>\n",
       "</table>\n",
       "<p>5 rows × 78 columns</p>\n",
       "</div>"
      ],
      "text/plain": [
       "     Input  ID                 OrignalTraitName  OriginalTraitDef  \\\n",
       "0  Richard   1  photosynthetic co2 assimilation               NaN   \n",
       "1  Richard   1  photosynthetic co2 assimilation               NaN   \n",
       "2  Richard   1  photosynthetic co2 assimilation               NaN   \n",
       "3  Richard   1  photosynthetic co2 assimilation               NaN   \n",
       "4  Richard   1  photosynthetic co2 assimilation               NaN   \n",
       "\n",
       "     StandardisedTraitName  StandardisedTraitDef  OriginalTraitValue  \\\n",
       "0  net photosynthesis rate                   NaN            9.876141   \n",
       "1  net photosynthesis rate                   NaN           11.743801   \n",
       "2  net photosynthesis rate                   NaN           10.582731   \n",
       "3  net photosynthesis rate                   NaN            6.508309   \n",
       "4  net photosynthesis rate                   NaN            2.664421   \n",
       "\n",
       "    OriginalTraitUnit OriginalErrorPos OriginalErrorNeg  ...  \\\n",
       "0  micromol m^-2 s^-1              NaN              NaN  ...   \n",
       "1  micromol m^-2 s^-1              NaN              NaN  ...   \n",
       "2  micromol m^-2 s^-1              NaN              NaN  ...   \n",
       "3  micromol m^-2 s^-1              NaN              NaN  ...   \n",
       "4  micromol m^-2 s^-1              NaN              NaN  ...   \n",
       "\n",
       "  AcclimVarTempUnit  AcclimVarTempDur AcclimVarTempDurUnit  LabGrowthTemp  \\\n",
       "0               NaN               NaN                  NaN             19   \n",
       "1               NaN               NaN                  NaN             19   \n",
       "2               NaN               NaN                  NaN             19   \n",
       "3               NaN               NaN                  NaN             19   \n",
       "4               NaN               NaN                  NaN             19   \n",
       "\n",
       "   LabGrowthTempUnit  LabGrowthDur LabGrowthDurUnit  \\\n",
       "0            Celsius           NaN              NaN   \n",
       "1            Celsius           NaN              NaN   \n",
       "2            Celsius           NaN              NaN   \n",
       "3            Celsius           NaN              NaN   \n",
       "4            Celsius           NaN              NaN   \n",
       "\n",
       "                                            Citation  FigureTable  \\\n",
       "0  Sharkey, T. D., & Loreto, F. (1993). Water str...            3   \n",
       "1  Sharkey, T. D., & Loreto, F. (1993). Water str...            3   \n",
       "2  Sharkey, T. D., & Loreto, F. (1993). Water str...            3   \n",
       "3  Sharkey, T. D., & Loreto, F. (1993). Water str...            3   \n",
       "4  Sharkey, T. D., & Loreto, F. (1993). Water str...            3   \n",
       "\n",
       "                                Notes  \n",
       "0  leaves 2 weeks past full extension  \n",
       "1  leaves 2 weeks past full extension  \n",
       "2  leaves 2 weeks past full extension  \n",
       "3  leaves 2 weeks past full extension  \n",
       "4  leaves 2 weeks past full extension  \n",
       "\n",
       "[5 rows x 78 columns]"
      ]
     },
     "execution_count": 4,
     "metadata": {},
     "output_type": "execute_result"
    }
   ],
   "source": [
    "data.head()"
   ]
  },
  {
   "cell_type": "code",
   "execution_count": 5,
   "metadata": {
    "scrolled": true
   },
   "outputs": [
    {
     "name": "stdout",
     "output_type": "stream",
     "text": [
      "['Input' 'ID' 'OrignalTraitName' 'OriginalTraitDef'\n",
      " 'StandardisedTraitName' 'StandardisedTraitDef' 'OriginalTraitValue'\n",
      " 'OriginalTraitUnit' 'OriginalErrorPos' 'OriginalErrorNeg'\n",
      " 'OriginalErrorUnit' 'StandardisedTraitValue' 'StandardisedTraitUnit'\n",
      " 'StandardisedErrorPos' 'StandardisedErrorNeg' 'StandardisedErrorUnit'\n",
      " 'Replicates' 'Consumer' 'ConCommon' 'Habitat' 'Location' 'LocationType'\n",
      " 'LocationDate' 'CoordinateType' 'Latitude' 'Longitude' 'ConThermy'\n",
      " 'ConStage' 'ConSize' 'ConSizeUnit' 'ConSizeType' 'ConDenValue'\n",
      " 'ConDenUnit' 'ConTemp' 'ConTempUnit' 'ConTempMethod' 'Labfield' 'Labtemp'\n",
      " 'Labtempunit' 'Labtime' 'Labtimeunit' 'ArenaValue' 'ArenaUnit'\n",
      " 'AmbientTemp' 'AmbientTempUnit' 'AmbientLight' 'AmbientLightUnit'\n",
      " 'Resource' 'ResCommon' 'ResStage' 'ResThermy' 'ResTemp' 'ResTempMethod'\n",
      " 'ResSize' 'ResSizeUnit' 'ResDenValue' 'ResDenUnit' 'ResRepValue'\n",
      " 'ResRepUnit' 'ObsTimeValue' 'ObsTimeUnit' 'EquilibTimeValue'\n",
      " 'EquilibTimeUnit' 'AcclimFixTemp' 'AcclimFixTempUnit' 'AcclimFixTempDur'\n",
      " 'AcclimFixTempDurUnit' 'AcclimVarTemp' 'AcclimVarTempUnit'\n",
      " 'AcclimVarTempDur' 'AcclimVarTempDurUnit' 'LabGrowthTemp'\n",
      " 'LabGrowthTempUnit' 'LabGrowthDur' 'LabGrowthDurUnit' 'Citation'\n",
      " 'FigureTable' 'Notes']\n"
     ]
    }
   ],
   "source": [
    "print(data.columns.values)"
   ]
  },
  {
   "cell_type": "code",
   "execution_count": 6,
   "metadata": {},
   "outputs": [
    {
     "name": "stdout",
     "output_type": "stream",
     "text": [
      "['micromol m^-2 s^-1' 'mg o2 (10 minutes^-1)' 'micromol o2 dm^-2 min^-1'\n",
      " 'mg co2 dm^-2 h^-1' 'micromol co2 mg(Chl)^-1 h^-1' 'micro (day^-1)'\n",
      " '% of maximum' 'mg co2 g(FW)^-1 h^-1' 'ng co2 cm^-2 s^-1' 'gh^-1 m^-2'\n",
      " 'nmol g^-1 s^-1' 'mg co2 g^-1 h^-1' 'nmol co2 cm^-2 s^-1'\n",
      " 'micromol co2 m^-2 s^-1' 'micromol o2 mg(Chl)^-1 h^-1'\n",
      " 'micromol co2 kg^-1 s^-1' 'mg co2 g(DW)^-1 h^-1'\n",
      " 'micromol o2 g(DW)^-1 min^-1' 'mg C g(DW)^-1 h^-1' 'mg o2 g(DW)^-2 h^-1'\n",
      " 'microg co2 m^-2 s^-1' 'micromol o2 g^-1 h^-1'\n",
      " 'microg co2 g(DW)^-1 min^-1' 'microl o2 g(DW)^-1 (10 minutes)^-1'\n",
      " 'mg co2 m^-2 s^-1' 'micromol o2 mg(Chl)^-1 min^-1'\n",
      " 'mg o2 10^-9 cells hour^-1' 'mmol e^- [mg chl a]^-1 h^-1'\n",
      " 'microg o2 mg(Chl)^-1 min^-1' 'dpm 14C per 10^3 cells' 'mmol kg^-1 h^-1'\n",
      " 'microg C cm^-2 h^-1' 'g co2 m^-2 h^-1' 'microl co2 m^-2 s^-1'\n",
      " 'nmol cm^-2 s^-1' 'micromol co2 g(FW)^-1 h^-1' '?'\n",
      " 'micromol mg(Chl a)^-1 h^-1' 'micromol g(DW)^-1 h^-1' 'g o2 cm^-2 h^-1'\n",
      " 'microg o2 cm^-2 h^-1' '%' 'micromol o2 mg(Chl a)^-1 h^-1'\n",
      " 'micromol co2 g^-1 min^-1' 'cpm (microg protein)^-1'\n",
      " 'microg o2 g(DW)^-1 min^-1' 'microl o2 mg(DW)^-1 h^-1'\n",
      " 'fmol C cell^-1 min^-1' 'microl o2 mg(Chl)^-1 h^-1'\n",
      " 'microl o2 g(DW)^-1 h^-1' 'mm^3 o2 cm^-2 h^-1' 'nmol o2 g(DW)^-1 s^-1'\n",
      " 'micromol o2 g(DW)^-1 h^-1' 'microg co2 dm^-2 (both sides) min^-1'\n",
      " 'mg o2 g^-1 h^-1' 'mg c g(DW)^-1' 'microl o2 g(FW)^-1 h^-1'\n",
      " 'microW mg^-1' 'nmol g(DW)^-1 s^-1' 'nmol co2 g(DW)^-1 s^-1'\n",
      " 'micromol g^-1 h^-1' 'microl o2 g(FW)^-1 min^-1' 'nmol co2 g^-1 s^-1'\n",
      " 'micromol g^-1 s^-1' 'pgC cell^-1 h^-1' 'pg C pg(chl a)^-1 h^-1'\n",
      " 'micromol O2 g^-1 h^-1' 'micromol o2 g(FW)^-1 h^-1' nan\n",
      " 'mg o2 g(DW)^-1 h^-1' 'nmol CO2 cm^-2 s^-1' 'micromol o2 m^-2 s^-1'\n",
      " '% of max' 'micromol dm^-2 min^-1' 'microg C g^-1 h^-1'\n",
      " 'mg o2 dm^-2 h^-1' 'mg co2 h^-1 g^-1' 'g C g(Chl a)^-1 h^-1']\n"
     ]
    }
   ],
   "source": [
    "print(data.OriginalTraitUnit.unique()) #units of the response variable "
   ]
  },
  {
   "cell_type": "code",
   "execution_count": 7,
   "metadata": {},
   "outputs": [
    {
     "name": "stdout",
     "output_type": "stream",
     "text": [
      "['celsius' 'Celsius']\n"
     ]
    }
   ],
   "source": [
    "print(data.ConTempUnit.unique()) #units of the independent variable "
   ]
  },
  {
   "cell_type": "code",
   "execution_count": 8,
   "metadata": {
    "scrolled": true
   },
   "outputs": [
    {
     "name": "stdout",
     "output_type": "stream",
     "text": [
      "[  1   2   3   4   5   6   7   8   9  10  11  12  13  14  15  16  17  18\n",
      "  19  20  21  22  23  24  25  26  27  28  29  30  31  32  33  34  35  36\n",
      "  37  38  39  40  41  42  43  44  45  46  47  48  49  50  51  52  53  54\n",
      "  55  56  57  58  59  60  61  62  63  64  65  66  67  68  69  70  71  72\n",
      "  73  74  75  76  77  78  79  80  81  82  83  84  85  86  87  88  89  90\n",
      "  91  92  93  94  95  96  97  98  99 100 101 102 103 104 105 106 107 108\n",
      " 109 110 111 112 113 114 115 116 117 118 119 120 121 122 123 124 125 126\n",
      " 127 128 129 130 131 132 133 134 135 136 137 138 139 140 141 142 143 144\n",
      " 145 146 147 148 149 150 151 152 153 154 155 156 157 158 159 160 161 162\n",
      " 163 164 165 166 167 168 169 170 171 172 173 174 175 176 177 178 179 180\n",
      " 181 182 183 184 185 186 187 188 189 190 191 192 193 194 195 196 197 198\n",
      " 199 200 201 202 203 204 205 206 207 208 209 210 211 212 213 214 215 216\n",
      " 217 218 219 220 221 222 223 224 225 226 227 228 229 230 231 232 233 234\n",
      " 235 236 237 238 239 240 241 242 243 244 245 246 247 248 249 250 251 252\n",
      " 253 254 255 256 257 258 259 260 261 262 263 264 265 266 267 268 269 270\n",
      " 271 272 273 274 275 276 277 278 279 280 281 282 283 284 285 286 287 288\n",
      " 289 290 291 292 293 294 295 296 297 298 299 300 301 302 303 304 305 306\n",
      " 307 308 309 310 311 312 313 314 315 316 317 318 319 320 321 322 323 324\n",
      " 325 326 327 328 329 330 331 332 333 334 335 336 337 338 339 340 341 342\n",
      " 343 344 345 346 347 348 349 350 351 352 353 354 355 356 357 358 359 360\n",
      " 361 362 363 364 365 366 367 368 369 370 371 372 373 374 375 376 377 378\n",
      " 379 380 381 382 383 384 385 386 387 388 389 390 391 392 393 394 395 396\n",
      " 397 398 399 400 401 402 403 404 405 406 407 408 409 410 411 412 413 414\n",
      " 415 416 417 418 419 420 421 422 423 424 425 426 427 428 429 430 431 432\n",
      " 433 434 435 436 437 438 439 440 441 442 443 444 445 446 447 448 449 450\n",
      " 451 452 453 454 455 456 457 458 459 460 461 462 463 464 465 466 467 468\n",
      " 469 470 471 472 473 474 475 476 477 478 479 480 481 482 483 484 485 486\n",
      " 487 488 489 490 491 492 493 494 495 496 497 498 499 500 501 502 503 504\n",
      " 505 506 507 508 509 510 511 512 513 514 515 516 517 518 519 520 521 522\n",
      " 523 524 525 526 527 528 529 530 531 532 533 534 535 536 537 538 539 540\n",
      " 541 542 543 544 545 546 547 548 549 550 551 552 553 554 555 556 557 558\n",
      " 559 560 561 562 563 564 565 566 567 568 569 570 571 572 573 574 575 576\n",
      " 577 578 579 580 581 582 583 584 585 586 587 588 589 590 591 592 593 594\n",
      " 595 596 597 598 599 600 601 602 603 604 605 606 607 608 609 610 611 612\n",
      " 613 614 615 616 617 618 619 620 621 622 623 624 625 626 627 628 629 630\n",
      " 631 632 633 634 635 636 637 638 639 640 641 642 643 644 645 646 647 648\n",
      " 649 650 651 652 653 654 655 656 657 658 659 660 661 662 663 664 665 666\n",
      " 667 668 669 670 671 672 673 674 675 676 677 678 679 680 681 682 683 684\n",
      " 685 686 687 688 689 690 691 692 693 694 695 696 697 698 699 700 701 702\n",
      " 703 704 705 706 707 708 709 710 711 712 713 714 715 716 717 718 719 720\n",
      " 721 722 723 724 725 726 727 728 729 730 731 732 733 734 735 736 737 738\n",
      " 739 740 741 742 743 744 745 746 747 748 749 750 751 752 753 754 755 756\n",
      " 757 758 759 760 761 762 763 764 765 766 767 768 769 770 771 772 773 774\n",
      " 775 776 777 778 779 780 781 782 783 784 785 786 787 788 789 790 791 792\n",
      " 793 794 795 796 797 798 799 800 801 802 803 804 805 806 807 808 809 810\n",
      " 811 812 813 814 815 816 817 818 819 820 821 822 823 824 825 826 827 828\n",
      " 829 830 831 832 833 834 835 836 837 838 839 840 841 842 843 844 845 846\n",
      " 847 848 849 850 851 852 853 854 855 856 857 858 859 860 861 862 863 864\n",
      " 865 866 867 868 869 870 871 872 873 874 875 876 877 878 879 880 881 882\n",
      " 883 884 885 886 887 888 889 890 891 892 893 894 895 896 897 898 899 900\n",
      " 901 902 903]\n"
     ]
    }
   ],
   "source": [
    "print(data.ID.unique()) #units of the independent variable "
   ]
  },
  {
   "cell_type": "code",
   "execution_count": 9,
   "metadata": {
    "scrolled": true
   },
   "outputs": [
    {
     "data": {
      "text/html": [
       "<div>\n",
       "<style scoped>\n",
       "    .dataframe tbody tr th:only-of-type {\n",
       "        vertical-align: middle;\n",
       "    }\n",
       "\n",
       "    .dataframe tbody tr th {\n",
       "        vertical-align: top;\n",
       "    }\n",
       "\n",
       "    .dataframe thead th {\n",
       "        text-align: right;\n",
       "    }\n",
       "</style>\n",
       "<table border=\"1\" class=\"dataframe\">\n",
       "  <thead>\n",
       "    <tr style=\"text-align: right;\">\n",
       "      <th></th>\n",
       "      <th>Input</th>\n",
       "      <th>ID</th>\n",
       "      <th>OrignalTraitName</th>\n",
       "      <th>OriginalTraitDef</th>\n",
       "      <th>StandardisedTraitName</th>\n",
       "      <th>StandardisedTraitDef</th>\n",
       "      <th>OriginalTraitValue</th>\n",
       "      <th>OriginalTraitUnit</th>\n",
       "      <th>OriginalErrorPos</th>\n",
       "      <th>OriginalErrorNeg</th>\n",
       "      <th>...</th>\n",
       "      <th>AcclimVarTempUnit</th>\n",
       "      <th>AcclimVarTempDur</th>\n",
       "      <th>AcclimVarTempDurUnit</th>\n",
       "      <th>LabGrowthTemp</th>\n",
       "      <th>LabGrowthTempUnit</th>\n",
       "      <th>LabGrowthDur</th>\n",
       "      <th>LabGrowthDurUnit</th>\n",
       "      <th>Citation</th>\n",
       "      <th>FigureTable</th>\n",
       "      <th>Notes</th>\n",
       "    </tr>\n",
       "  </thead>\n",
       "  <tbody>\n",
       "    <tr>\n",
       "      <th>800</th>\n",
       "      <td>Richard</td>\n",
       "      <td>110</td>\n",
       "      <td>net photosynthesis</td>\n",
       "      <td>NaN</td>\n",
       "      <td>net photosynthesis rate</td>\n",
       "      <td>NaN</td>\n",
       "      <td>2.510253</td>\n",
       "      <td>mg co2 g^-1 h^-1</td>\n",
       "      <td>NaN</td>\n",
       "      <td>NaN</td>\n",
       "      <td>...</td>\n",
       "      <td>NaN</td>\n",
       "      <td>NaN</td>\n",
       "      <td>NaN</td>\n",
       "      <td>27.5,20</td>\n",
       "      <td>celsius</td>\n",
       "      <td>NaN</td>\n",
       "      <td>NaN</td>\n",
       "      <td>Harley, P. C., Tenhunen, J. D., Murray, K. J.,...</td>\n",
       "      <td>3</td>\n",
       "      <td>NaN</td>\n",
       "    </tr>\n",
       "    <tr>\n",
       "      <th>801</th>\n",
       "      <td>Richard</td>\n",
       "      <td>110</td>\n",
       "      <td>net photosynthesis</td>\n",
       "      <td>NaN</td>\n",
       "      <td>net photosynthesis rate</td>\n",
       "      <td>NaN</td>\n",
       "      <td>3.607141</td>\n",
       "      <td>mg co2 g^-1 h^-1</td>\n",
       "      <td>NaN</td>\n",
       "      <td>NaN</td>\n",
       "      <td>...</td>\n",
       "      <td>NaN</td>\n",
       "      <td>NaN</td>\n",
       "      <td>NaN</td>\n",
       "      <td>27.5,20</td>\n",
       "      <td>celsius</td>\n",
       "      <td>NaN</td>\n",
       "      <td>NaN</td>\n",
       "      <td>Harley, P. C., Tenhunen, J. D., Murray, K. J.,...</td>\n",
       "      <td>3</td>\n",
       "      <td>NaN</td>\n",
       "    </tr>\n",
       "    <tr>\n",
       "      <th>802</th>\n",
       "      <td>Richard</td>\n",
       "      <td>110</td>\n",
       "      <td>net photosynthesis</td>\n",
       "      <td>NaN</td>\n",
       "      <td>net photosynthesis rate</td>\n",
       "      <td>NaN</td>\n",
       "      <td>4.380516</td>\n",
       "      <td>mg co2 g^-1 h^-1</td>\n",
       "      <td>NaN</td>\n",
       "      <td>NaN</td>\n",
       "      <td>...</td>\n",
       "      <td>NaN</td>\n",
       "      <td>NaN</td>\n",
       "      <td>NaN</td>\n",
       "      <td>27.5,20</td>\n",
       "      <td>celsius</td>\n",
       "      <td>NaN</td>\n",
       "      <td>NaN</td>\n",
       "      <td>Harley, P. C., Tenhunen, J. D., Murray, K. J.,...</td>\n",
       "      <td>3</td>\n",
       "      <td>NaN</td>\n",
       "    </tr>\n",
       "    <tr>\n",
       "      <th>803</th>\n",
       "      <td>Richard</td>\n",
       "      <td>110</td>\n",
       "      <td>net photosynthesis</td>\n",
       "      <td>NaN</td>\n",
       "      <td>net photosynthesis rate</td>\n",
       "      <td>NaN</td>\n",
       "      <td>4.891680</td>\n",
       "      <td>mg co2 g^-1 h^-1</td>\n",
       "      <td>NaN</td>\n",
       "      <td>NaN</td>\n",
       "      <td>...</td>\n",
       "      <td>NaN</td>\n",
       "      <td>NaN</td>\n",
       "      <td>NaN</td>\n",
       "      <td>27.5,20</td>\n",
       "      <td>celsius</td>\n",
       "      <td>NaN</td>\n",
       "      <td>NaN</td>\n",
       "      <td>Harley, P. C., Tenhunen, J. D., Murray, K. J.,...</td>\n",
       "      <td>3</td>\n",
       "      <td>NaN</td>\n",
       "    </tr>\n",
       "    <tr>\n",
       "      <th>804</th>\n",
       "      <td>Richard</td>\n",
       "      <td>110</td>\n",
       "      <td>net photosynthesis</td>\n",
       "      <td>NaN</td>\n",
       "      <td>net photosynthesis rate</td>\n",
       "      <td>NaN</td>\n",
       "      <td>4.735478</td>\n",
       "      <td>mg co2 g^-1 h^-1</td>\n",
       "      <td>NaN</td>\n",
       "      <td>NaN</td>\n",
       "      <td>...</td>\n",
       "      <td>NaN</td>\n",
       "      <td>NaN</td>\n",
       "      <td>NaN</td>\n",
       "      <td>27.5,20</td>\n",
       "      <td>celsius</td>\n",
       "      <td>NaN</td>\n",
       "      <td>NaN</td>\n",
       "      <td>Harley, P. C., Tenhunen, J. D., Murray, K. J.,...</td>\n",
       "      <td>3</td>\n",
       "      <td>NaN</td>\n",
       "    </tr>\n",
       "  </tbody>\n",
       "</table>\n",
       "<p>5 rows × 78 columns</p>\n",
       "</div>"
      ],
      "text/plain": [
       "       Input   ID    OrignalTraitName  OriginalTraitDef  \\\n",
       "800  Richard  110  net photosynthesis               NaN   \n",
       "801  Richard  110  net photosynthesis               NaN   \n",
       "802  Richard  110  net photosynthesis               NaN   \n",
       "803  Richard  110  net photosynthesis               NaN   \n",
       "804  Richard  110  net photosynthesis               NaN   \n",
       "\n",
       "       StandardisedTraitName  StandardisedTraitDef  OriginalTraitValue  \\\n",
       "800  net photosynthesis rate                   NaN            2.510253   \n",
       "801  net photosynthesis rate                   NaN            3.607141   \n",
       "802  net photosynthesis rate                   NaN            4.380516   \n",
       "803  net photosynthesis rate                   NaN            4.891680   \n",
       "804  net photosynthesis rate                   NaN            4.735478   \n",
       "\n",
       "    OriginalTraitUnit OriginalErrorPos OriginalErrorNeg  ...  \\\n",
       "800  mg co2 g^-1 h^-1              NaN              NaN  ...   \n",
       "801  mg co2 g^-1 h^-1              NaN              NaN  ...   \n",
       "802  mg co2 g^-1 h^-1              NaN              NaN  ...   \n",
       "803  mg co2 g^-1 h^-1              NaN              NaN  ...   \n",
       "804  mg co2 g^-1 h^-1              NaN              NaN  ...   \n",
       "\n",
       "    AcclimVarTempUnit  AcclimVarTempDur AcclimVarTempDurUnit  LabGrowthTemp  \\\n",
       "800               NaN               NaN                  NaN        27.5,20   \n",
       "801               NaN               NaN                  NaN        27.5,20   \n",
       "802               NaN               NaN                  NaN        27.5,20   \n",
       "803               NaN               NaN                  NaN        27.5,20   \n",
       "804               NaN               NaN                  NaN        27.5,20   \n",
       "\n",
       "     LabGrowthTempUnit  LabGrowthDur LabGrowthDurUnit  \\\n",
       "800            celsius           NaN              NaN   \n",
       "801            celsius           NaN              NaN   \n",
       "802            celsius           NaN              NaN   \n",
       "803            celsius           NaN              NaN   \n",
       "804            celsius           NaN              NaN   \n",
       "\n",
       "                                              Citation  FigureTable Notes  \n",
       "800  Harley, P. C., Tenhunen, J. D., Murray, K. J.,...            3   NaN  \n",
       "801  Harley, P. C., Tenhunen, J. D., Murray, K. J.,...            3   NaN  \n",
       "802  Harley, P. C., Tenhunen, J. D., Murray, K. J.,...            3   NaN  \n",
       "803  Harley, P. C., Tenhunen, J. D., Murray, K. J.,...            3   NaN  \n",
       "804  Harley, P. C., Tenhunen, J. D., Murray, K. J.,...            3   NaN  \n",
       "\n",
       "[5 rows x 78 columns]"
      ]
     },
     "execution_count": 9,
     "metadata": {},
     "output_type": "execute_result"
    }
   ],
   "source": [
    "data_subset = data[data['ID']==110]\n",
    "data_subset.head()"
   ]
  },
  {
   "cell_type": "code",
   "execution_count": 11,
   "metadata": {},
   "outputs": [
    {
     "data": {
      "text/plain": [
       "<seaborn.axisgrid.FacetGrid at 0x7fd8af63a1f0>"
      ]
     },
     "execution_count": 11,
     "metadata": {},
     "output_type": "execute_result"
    },
    {
     "data": {
      "image/png": "[encoded data removed]",
      "text/plain": [
       "<Figure size 360x360 with 1 Axes>"
      ]
     },
     "metadata": {
      "needs_background": "light"
     },
     "output_type": "display_data"
    }
   ],
   "source": [
    "sns.lmplot(\"ConTemp\", \"OriginalTraitValue\", data=data_subset, fit_reg=False)"
   ]
  },
  {
   "cell_type": "markdown",
   "metadata": {},
   "source": [
    "(Miniproj-TPCs-Models)=\n",
    "#### The Models\n",
    "\n",
    "*All the following parameters and variables are in SI units*.\n",
    "\n",
    "There are multiple models that might best describe these data. The simplest are the general quadratic and cubic polynomial models:\n",
    "\n",
    "$$\n",
    "    B = B_0 + B_1 x + B_2 x^2\n",
    "$$(eq:quad)\n",
    "\n",
    "\n",
    "$$\n",
    "    B = B_0 + B_1 x + B_2 x^2 + B_3 x^3\n",
    "$$(eq:cubic)\n",
    "\n",
    "These are phenomenological models, with the parameters $B_0$, $B_1$, $B_2$ and $B_3$ lacking any mechanistic interpretation. $x$ is the independent variable (in this case Temperature, $T$) \n",
    "\n",
    "Another phenomenological model option is the Briere model:\n",
    "\n",
    "$$\n",
    "B = \\left\\{\n",
    "        \\begin{array}{ll}\n",
    "            0 & \\quad T \\leq T_0 \\\\\n",
    "            B_0 T (T-T_0) \\sqrt{T_m-T} & \\quad T_0 \\leq T \\leq T_m \\\\\n",
    "            0 & \\quad T \\geq T_m\n",
    "        \\end{array}\n",
    "    \\right.\n",
    "$$(eq:Briere1)\n",
    "\n",
    "Where $T$ is temperature, $T_0$ and $T_m$ are the minimum and maximum feasible temperatures for the trait (below or above which the traits goes to zero), and $B_0$ is a normalization constant.  Example R code for fitting this mdoel can be found [here](Model-Fitting-NLLS-TPCs).\n",
    "\n",
    "If you look at the original paper, you will find that Briere et al also propose a more general version of this equation (by adding a new parameter $m$ to replace the square root above):\n",
    "\n",
    "$$\n",
    "B = \\left\\{\n",
    "        \\begin{array}{ll}\n",
    "            0 & \\quad T \\leq T_0 \\\\\n",
    "            B_0 T (T-T_0) (T_m-T)^\\frac{1}{m} & \\quad T_0 \\leq T \\leq T_m \\\\\n",
    "            0 & \\quad T \\geq T_m\n",
    "        \\end{array}\n",
    "    \\right.\n",
    "$$\n",
    "\n",
    "\n",
    "In contrast, the Schoolfield model (Schoolfield et al 1981) is a mechanistic option that is based upon thermodynamics and enzyme kinetics:\n",
    "\n",
    "$$\n",
    "    B = \\frac{B_0 e^{\\frac{-E}{k} (\\frac{1}{T} - \\frac{1}{283.15})}}\n",
    "    { 1 + e^{\\frac{E_l}{k} (\\frac{1}{T_l} - \\frac{1}{T})} + \n",
    "    e^{\\frac{E_h}{k} (\\frac{1}{T_h} - \\frac{1}{T})}}\n",
    "$$(eq:schoolf)\n",
    "\n",
    "Here, $k$ is the Boltzmann constant ($8.617 \\times 10^{-5}$ eV $\\cdot$ K$^{-1}$), $B$ the value of the trait at a given temperature $T$ (K) (K = $^\\circ$C + 273.15), while $B_0$ is the trait value at 283.15 K (10$^\\circ$C) which stands for the value of the growth rate at low temperature and controls the vertical offset of the curve. $E_l$ is the enzyme's low-temperature de-activation energy (eV) which controls the behavior of the enzyme (and the curve) at very low temperatures, and $T_l$ is the at which the enzyme is 50% low-temperature deactivated. $E_h$ is the\n",
    "enzyme's high-temperature de-activation energy (eV) which controls the behavior of the enzyme (and the curve) at very high temperatures, and $T_h$ is the at which the enzyme is 50% high-temperature deactivated. $E$ is the activation energy (eV) which controls the rise of the curve up to the peak in the \"normal operating range\" for the enzyme (below the peak of the curve and above $T_h$).\n",
    "\n",
    "*Please also have a look at the Delong et al 2017 paper, which lists this and other mechanistic TPC models* (see [Readings & Resources](Miniproj-Readings)). You may choose additional models listed in that paper for comparison, if you want.\n",
    "\n",
    "---\n",
    "\n",
    "![image](./graphics/SchoolfEx.png)\n",
    "<small> <center>Example of the full Sharpe-Schoolfield model (Eqn. {eq}`eq:schoolf`) fitted to the thermal response curve of a metabolic trait $x$ with resource abundance. </center> </small>\n",
    "\n",
    "---\n",
    "\n",
    "In many cases, a simplified Schoolfield model would be more appropriate for thermal response data, because low temperature inactivation is weak, or is undetectable in the data because low-temperature measurements were not made.\n",
    "\n",
    "$$\n",
    "      B = \\frac{B_0 e^{\\frac{-E}{k} (\\frac{1}{T} - \\frac{1}{283.15})}}\n",
    "    { 1 +  e^{\\frac{E_h}{k} (\\frac{1}{T_h} - \\frac{1}{T})}}\n",
    "$$(eq:schoolfH)\n",
    "\n",
    "In other cases, a different simplified Schoolfield model would be more appropriate, because high temperature inactivation was not detectable in the data because measurements were not made at sufficiently high temperatures:\n",
    "\n",
    "$$\n",
    "      B = \\frac{B_0 e^{\\frac{-E}{k} (\\frac{1}{T} - \\frac{1}{283.15})}}\n",
    "    { 1 +  e^{\\frac{E_l}{k} (\\frac{1}{T_l} - \\frac{1}{T})}}\n",
    "$$(eq:schoolfL)\n",
    "\n",
    "Note that the cubic model (Eqn. {eq}`eq:cubic`) has the same number of parameters as the the reduced Schoolfield models (Eqn. {eq}`eq:schoolfH` & {eq}`eq:schoolfL`). Also, the temperature parameter ($T$) of the cubic model (Eqn. {eq}`eq:cubic`) is in $^\\circ$C, whereas the Temperature parameter in the Schoolfield model is in K."
   ]
  },
  {
   "cell_type": "markdown",
   "metadata": {},
   "source": [
    "## Additional models and questions you can tackle\n",
    "\n",
    "In all three options above, you may try to tackle fitting to additional models you find in the literature. Some Readings have been provided for each of the three data types below. \n",
    "\n",
    "You may choose to tackle some biological hypotheses or explore patterns by considering additional covariates. For example, \n",
    "\n",
    "*Do different taxa show different functional responses?*\n",
    "\n",
    "*Does temperature or taxon identity affect which population growth rate model fits best?*\n",
    "\n",
    "*Do different models fit different types of thermal performance curves (e.g., Photosynthesis vs Respiration)?* \n",
    "\n",
    "You may also choose to revisit the results of another paper that has done comparisons of the models you have chosen with your new dataset (but remember, that may well become too ambitious a project given the time you have)."
   ]
  },
  {
   "cell_type": "markdown",
   "metadata": {},
   "source": [
    "/home/cw422/Documents/CMEECourseWork/week7/sandbox/Appendix-MiniProj.ipynb(Miniproj-Readings)=\n",
    "## Readings & Resources\n",
    "\n",
    "Many of these papers are in pdf format in the Readings directory on TheMulQuaBio repository.\n",
    "\n",
    "### General\n",
    "\n",
    "* Levins, R. (1966) The strategy of model building in population biology. Am. Sci. 54, 421–431.\n",
    "\n",
    "* Johnson, J. B. & Omland, K. S. (2004) Model selection in ecology and evolution. Trends Ecol. Evol. 19, 101–108.\n",
    "\n",
    "* Motulsky, H. & Christopoulos A. (2004) Fitting models to biological data using linear and nonlinear regression: a practical guide to curve fitting. Oxford University Press, USA. \n",
    "\n",
    "* Bolker, B. M. et al. (2013) Strategies for fitting nonlinear ecological models in R, AD Model Builder, and BUGS. Methods Ecol. Evol. 4, 501–512.\n",
    "    \n",
    "\n",
    "### Functional responses\n",
    "\n",
    "* Holling, C. S. 1959. Some Characteristics of Simple Types of Predation and Parasitism. The Canadian Entomologist 91 (7): 385–98. https://doi.org/10.4039/Ent91385-7.\n",
    "\n",
    "* Holling, C S. 1966. The Functional Response of Invertebrate Predators to Prey Density. Mem. Entomol. Soc. Canada 48 (48): 1–86.\n",
    "\n",
    "* Aljetlawi, A. A., E. Sparrevik, and K. Leonardsson. 2004. Prey-predator size-dependent functional response: derivation and rescaling to the real world. J. Anim. Ecol. 73, 239–252.\n",
    "\n",
    "* Jeschke, J. M.,  M. Kopp & R. Tollrian. 2002. Predator functional responses: Discriminating between handling and digesting prey. Ecol. Monogr. 72, 95–112.\n",
    "\n",
    "* Pawar, S., A. I. Dell, and V. M. Savage. 2012. Dimensionality of Consumer Search Space Drives Trophic Interaction Strengths. Nature 486 (7404): 485–89. https://doi.org/10.1038/nature11131.\n",
    "\n",
    "* Pritchard, D. W., R. A. Paterson, H. C. Bovy, and D. Barrios-O'Neill. 2017. frair: an R package for fitting and comparing consumer functional responses. Methods Ecol. Evol. 8, 1528–1534.\n",
    "\n",
    "### Population Growth\n",
    "\n",
    "* Zwietering, M. H., I. Jongenburger, F. M. Rombouts, and K. Van't Riet. 1990. Modeling of the Bacterial Growth Curve. Applied and Environmental Microbiology 56 (6): 1875–81.\n",
    "\n",
    "* Buchanan, R. L., R. C. Whiting, and W. C. Damert. 1997. When Is Simple Good Enough: A Comparison of the Gompertz, Baranyi, and Three-Phase Linear Models for Fitting Bacterial Growth Curves. Food Microbiology 14 (4): 313–26. https://doi.org/10.1006/fmic.1997.0125.\n",
    "\n",
    "* Grijspeerdt, K. and P. Vanrolleghem. 1999. Estimating the parameters of the Baranyi model for bacterial growth. Food Microbiol. 16, 593–605.\n",
    "\n",
    "* Micha, P., and M. G. Corradini. 2011. Microbial Growth Curves: What the Models Tell Us and What They Cannot. Critical Reviews in Food Science and Nutrition. https://doi.org/10.1080/10408398.2011.570463.\n",
    "\n",
    "### Thermal Performance Curves\n",
    "\n",
    "* Schoolfield, R. M., P. J H Sharpe, and C. E. Magnuson. 1981. Non-Linear Regression of Biological Temperature-Dependent Rate Models Based on Absolute Reaction-Rate Theory. Journal of Theoretical Biology 88 (4): 719–31. https://doi.org/10.1016/0022-5193(81)90246-0.\n",
    "\n",
    "* Zwietering, M. H.,  J. T de Koos, B. E. Hasenack, J. C. de Witt,  and K. van't Riet. 1991. Modeling of bacterial growth as a function of temperature. Appl. Environ. Microbiol. 57, 1094–101.\n",
    "\n",
    "* Briere J. F., Pracros P., Le Roux A. Y., Pierre J. S. 1999. A novel rate model of temperature-dependent development for arthropods. Environ Entomol 28: 22–29.\n",
    "\n",
    "* Dell, A. I., S. Pawar, and V. M. Savage. 2011. Systematic Variation in the Temperature Dependence of Physiological and Ecological Traits. Proceedings of the National Academy of Sciences of the United States of America 108 (26): 10591–10596. https://doi.org/doi: 10.1073/pnas.1015178108.\n",
    "\n",
    "* DeLong, J. P., J. P. Gibert, T. M. Luhring, G. Bachman, B. Reed, A. Neyer, and K. L. Montooth. 2017. The Combined Effects of Reactant Kinetics and Enzyme Stability Explain the Temperature Dependence of Metabolic Rates. Ecology and Evolution 7 (11): 3940–50. https://doi.org/10.1002/ece3.2955."
   ]
  },
  {
   "cell_type": "markdown",
   "metadata": {},
   "source": [
    "$$\n",
    "    \\frac{dN}{dt} = rN \\left( 1-\\frac{N}{K}\\right)\n",
    "$$"
   ]
  },
  {
   "cell_type": "code",
   "execution_count": 1,
   "metadata": {},
   "outputs": [
    {
     "name": "stdout",
     "output_type": "stream",
     "text": [
      "this is python!\n"
     ]
    }
   ],
   "source": [
    "a = \"this is python!\"; print(a)"
   ]
  },
  {
   "cell_type": "code",
   "execution_count": 1,
   "metadata": {},
   "outputs": [
    {
     "name": "stdout",
     "output_type": "stream",
     "text": [
      "this is R!"
     ]
    }
   ],
   "source": [
    "a <- \"this is R!\"; cat(a)"
   ]
  },
  {
   "cell_type": "code",
   "execution_count": 2,
   "metadata": {},
   "outputs": [
    {
     "name": "stderr",
     "output_type": "stream",
     "text": [
      "/tmp/ipykernel_61793/4081053479.py:4: DeprecationWarning: scipy.arange is deprecated and will be removed in SciPy 2.0.0, use numpy.arange instead\n",
      "  x = sc.arange(0,5,0.1); y = sc.sin(x)\n",
      "/tmp/ipykernel_61793/4081053479.py:4: DeprecationWarning: scipy.sin is deprecated and will be removed in SciPy 2.0.0, use numpy.sin instead\n",
      "  x = sc.arange(0,5,0.1); y = sc.sin(x)\n"
     ]
    },
    {
     "data": {
      "image/png": "[encoded data removed]",
      "text/plain": [
       "<Figure size 432x288 with 1 Axes>"
      ]
     },
     "metadata": {
      "needs_background": "light"
     },
     "output_type": "display_data"
    }
   ],
   "source": [
    "import matplotlib.pyplot as p\n",
    "import scipy as sc\n",
    "\n",
    "x = sc.arange(0,5,0.1); y = sc.sin(x)\n",
    "p.plot(x,y); p.show()"
   ]
  },
  {
   "cell_type": "markdown",
   "metadata": {},
   "source": [
    " > Plot"
   ]
  },
  {
   "cell_type": "code",
   "execution_count": 2,
   "metadata": {},
   "outputs": [
    {
     "data": {
      "image/png": "[encoded data removed]",
      "text/plain": [
       "plot without title"
      ]
     },
     "metadata": {
      "image/png": {
       "height": 240,
       "width": 300
      }
     },
     "output_type": "display_data"
    }
   ],
   "source": [
    "require(ggplot2)\n",
    "library(repr)\n",
    "options(repr.plot.width=5,repr.plot.height=4)\n",
    "\n",
    "x<- seq(0,5,0.1); y<- sin(x)\n",
    "qplot(x,y,geom=\"line\")"
   ]
  },
  {
   "cell_type": "code",
   "execution_count": 1,
   "metadata": {},
   "outputs": [
    {
     "data": {
      "text/plain": [
       "'1.3.5'"
      ]
     },
     "execution_count": 1,
     "metadata": {},
     "output_type": "execute_result"
    }
   ],
   "source": [
    "import pandas as pd\n",
    "pd.__version__"
   ]
  },
  {
   "cell_type": "code",
   "execution_count": 2,
   "metadata": {},
   "outputs": [],
   "source": [
    "import scipy as sc"
   ]
  },
  {
   "cell_type": "code",
   "execution_count": 4,
   "metadata": {},
   "outputs": [
    {
     "data": {
      "text/plain": [
       "\u001b[0;31mType:\u001b[0m        module\n",
       "\u001b[0;31mString form:\u001b[0m <module 'pandas' from '/usr/lib/python3/dist-packages/pandas/__init__.py'>\n",
       "\u001b[0;31mFile:\u001b[0m        /usr/lib/python3/dist-packages/pandas/__init__.py\n",
       "\u001b[0;31mDocstring:\u001b[0m  \n",
       "pandas - a powerful data analysis and manipulation library for Python\n",
       "=====================================================================\n",
       "\n",
       "**pandas** is a Python package providing fast, flexible, and expressive data\n",
       "structures designed to make working with \"relational\" or \"labeled\" data both\n",
       "easy and intuitive. It aims to be the fundamental high-level building block for\n",
       "doing practical, **real world** data analysis in Python. Additionally, it has\n",
       "the broader goal of becoming **the most powerful and flexible open source data\n",
       "analysis / manipulation tool available in any language**. It is already well on\n",
       "its way toward this goal.\n",
       "\n",
       "Main Features\n",
       "-------------\n",
       "Here are just a few of the things that pandas does well:\n",
       "\n",
       "  - Easy handling of missing data in floating point as well as non-floating\n",
       "    point data.\n",
       "  - Size mutability: columns can be inserted and deleted from DataFrame and\n",
       "    higher dimensional objects\n",
       "  - Automatic and explicit data alignment: objects can be explicitly aligned\n",
       "    to a set of labels, or the user can simply ignore the labels and let\n",
       "    `Series`, `DataFrame`, etc. automatically align the data for you in\n",
       "    computations.\n",
       "  - Powerful, flexible group by functionality to perform split-apply-combine\n",
       "    operations on data sets, for both aggregating and transforming data.\n",
       "  - Make it easy to convert ragged, differently-indexed data in other Python\n",
       "    and NumPy data structures into DataFrame objects.\n",
       "  - Intelligent label-based slicing, fancy indexing, and subsetting of large\n",
       "    data sets.\n",
       "  - Intuitive merging and joining data sets.\n",
       "  - Flexible reshaping and pivoting of data sets.\n",
       "  - Hierarchical labeling of axes (possible to have multiple labels per tick).\n",
       "  - Robust IO tools for loading data from flat files (CSV and delimited),\n",
       "    Excel files, databases, and saving/loading data from the ultrafast HDF5\n",
       "    format.\n",
       "  - Time series-specific functionality: date range generation and frequency\n",
       "    conversion, moving window statistics, date shifting and lagging.\n"
      ]
     },
     "metadata": {},
     "output_type": "display_data"
    }
   ],
   "source": [
    "pd?"
   ]
  },
  {
   "cell_type": "code",
   "execution_count": 6,
   "metadata": {},
   "outputs": [
    {
     "data": {
      "text/html": [
       "<div>\n",
       "<style scoped>\n",
       "    .dataframe tbody tr th:only-of-type {\n",
       "        vertical-align: middle;\n",
       "    }\n",
       "\n",
       "    .dataframe tbody tr th {\n",
       "        vertical-align: top;\n",
       "    }\n",
       "\n",
       "    .dataframe thead th {\n",
       "        text-align: right;\n",
       "    }\n",
       "</style>\n",
       "<table border=\"1\" class=\"dataframe\">\n",
       "  <thead>\n",
       "    <tr style=\"text-align: right;\">\n",
       "      <th></th>\n",
       "      <th>Species</th>\n",
       "      <th>Infraorder</th>\n",
       "      <th>Family</th>\n",
       "      <th>Distribution</th>\n",
       "      <th>Body mass male (Kg)</th>\n",
       "    </tr>\n",
       "  </thead>\n",
       "  <tbody>\n",
       "    <tr>\n",
       "      <th>0</th>\n",
       "      <td>Daubentonia_madagascariensis</td>\n",
       "      <td>Chiromyiformes</td>\n",
       "      <td>Daubentoniidae</td>\n",
       "      <td>Madagascar</td>\n",
       "      <td>2.700</td>\n",
       "    </tr>\n",
       "    <tr>\n",
       "      <th>1</th>\n",
       "      <td>Allocebus_trichotis</td>\n",
       "      <td>Lemuriformes</td>\n",
       "      <td>Cheirogaleidae</td>\n",
       "      <td>Madagascar</td>\n",
       "      <td>0.100</td>\n",
       "    </tr>\n",
       "    <tr>\n",
       "      <th>2</th>\n",
       "      <td>Avahi_laniger</td>\n",
       "      <td>Lemuriformes</td>\n",
       "      <td>Indridae</td>\n",
       "      <td>America</td>\n",
       "      <td>1.030</td>\n",
       "    </tr>\n",
       "    <tr>\n",
       "      <th>3</th>\n",
       "      <td>Avahi_occidentalis</td>\n",
       "      <td>Lemuriformes</td>\n",
       "      <td>Indridae</td>\n",
       "      <td>Madagascar</td>\n",
       "      <td>0.814</td>\n",
       "    </tr>\n",
       "    <tr>\n",
       "      <th>4</th>\n",
       "      <td>Avahi_unicolor</td>\n",
       "      <td>Lemuriformes</td>\n",
       "      <td>Indridae</td>\n",
       "      <td>America</td>\n",
       "      <td>0.830</td>\n",
       "    </tr>\n",
       "    <tr>\n",
       "      <th>5</th>\n",
       "      <td>Cheirogaleus_adipicaudatus</td>\n",
       "      <td>Lemuriformes</td>\n",
       "      <td>Cheirogaleidae</td>\n",
       "      <td>Madagascar</td>\n",
       "      <td>0.200</td>\n",
       "    </tr>\n",
       "    <tr>\n",
       "      <th>6</th>\n",
       "      <td>Cheirogaleus_crossleyi</td>\n",
       "      <td>Lemuriformes</td>\n",
       "      <td>Cheirogaleidae</td>\n",
       "      <td>Madagascar</td>\n",
       "      <td>0.400</td>\n",
       "    </tr>\n",
       "    <tr>\n",
       "      <th>7</th>\n",
       "      <td>Cheirogaleus_major</td>\n",
       "      <td>Lemuriformes</td>\n",
       "      <td>Cheirogaleidae</td>\n",
       "      <td>Madagascar</td>\n",
       "      <td>0.450</td>\n",
       "    </tr>\n",
       "    <tr>\n",
       "      <th>8</th>\n",
       "      <td>Cheirogaleus_medius</td>\n",
       "      <td>Lemuriformes</td>\n",
       "      <td>Cheirogaleidae</td>\n",
       "      <td>Madagascar</td>\n",
       "      <td>0.217</td>\n",
       "    </tr>\n",
       "  </tbody>\n",
       "</table>\n",
       "</div>"
      ],
      "text/plain": [
       "                        Species       Infraorder          Family Distribution  \\\n",
       "0  Daubentonia_madagascariensis  Chiromyiformes   Daubentoniidae   Madagascar   \n",
       "1           Allocebus_trichotis     Lemuriformes  Cheirogaleidae   Madagascar   \n",
       "2                 Avahi_laniger     Lemuriformes        Indridae      America   \n",
       "3            Avahi_occidentalis     Lemuriformes        Indridae   Madagascar   \n",
       "4                Avahi_unicolor     Lemuriformes        Indridae      America   \n",
       "5    Cheirogaleus_adipicaudatus     Lemuriformes  Cheirogaleidae   Madagascar   \n",
       "6        Cheirogaleus_crossleyi     Lemuriformes  Cheirogaleidae   Madagascar   \n",
       "7            Cheirogaleus_major     Lemuriformes  Cheirogaleidae   Madagascar   \n",
       "8           Cheirogaleus_medius     Lemuriformes  Cheirogaleidae   Madagascar   \n",
       "\n",
       "   Body mass male (Kg)  \n",
       "0                2.700  \n",
       "1                0.100  \n",
       "2                1.030  \n",
       "3                0.814  \n",
       "4                0.830  \n",
       "5                0.200  \n",
       "6                0.400  \n",
       "7                0.450  \n",
       "8                0.217  "
      ]
     },
     "execution_count": 6,
     "metadata": {},
     "output_type": "execute_result"
    }
   ],
   "source": [
    "MyDF = pd.read_csv('../data/testcsv.csv',sep=',')\n",
    "MyDF"
   ]
  },
  {
   "cell_type": "code",
   "execution_count": 7,
   "metadata": {},
   "outputs": [
    {
     "data": {
      "text/html": [
       "<div>\n",
       "<style scoped>\n",
       "    .dataframe tbody tr th:only-of-type {\n",
       "        vertical-align: middle;\n",
       "    }\n",
       "\n",
       "    .dataframe tbody tr th {\n",
       "        vertical-align: top;\n",
       "    }\n",
       "\n",
       "    .dataframe thead th {\n",
       "        text-align: right;\n",
       "    }\n",
       "</style>\n",
       "<table border=\"1\" class=\"dataframe\">\n",
       "  <thead>\n",
       "    <tr style=\"text-align: right;\">\n",
       "      <th></th>\n",
       "      <th>col1</th>\n",
       "      <th>col2</th>\n",
       "      <th>col3</th>\n",
       "    </tr>\n",
       "  </thead>\n",
       "  <tbody>\n",
       "    <tr>\n",
       "      <th>0</th>\n",
       "      <td>Var1</td>\n",
       "      <td>Grass</td>\n",
       "      <td>1.0</td>\n",
       "    </tr>\n",
       "    <tr>\n",
       "      <th>1</th>\n",
       "      <td>Var2</td>\n",
       "      <td>Rabbit</td>\n",
       "      <td>2.0</td>\n",
       "    </tr>\n",
       "    <tr>\n",
       "      <th>2</th>\n",
       "      <td>Var3</td>\n",
       "      <td>Fox</td>\n",
       "      <td>NaN</td>\n",
       "    </tr>\n",
       "    <tr>\n",
       "      <th>3</th>\n",
       "      <td>Var4</td>\n",
       "      <td>Wolf</td>\n",
       "      <td>4.0</td>\n",
       "    </tr>\n",
       "  </tbody>\n",
       "</table>\n",
       "</div>"
      ],
      "text/plain": [
       "   col1    col2  col3\n",
       "0  Var1   Grass   1.0\n",
       "1  Var2  Rabbit   2.0\n",
       "2  Var3     Fox   NaN\n",
       "3  Var4    Wolf   4.0"
      ]
     },
     "execution_count": 7,
     "metadata": {},
     "output_type": "execute_result"
    }
   ],
   "source": [
    "MyDF = pd.DataFrame({\n",
    "    'col1':['Var1','Var2','Var3','Var4'],\n",
    "    'col2':['Grass','Rabbit','Fox','Wolf'],\n",
    "    'col3':[1,2,sc.nan,4]\n",
    "})\n",
    "MyDF"
   ]
  },
  {
   "cell_type": "code",
   "execution_count": 8,
   "metadata": {},
   "outputs": [
    {
     "data": {
      "text/plain": [
       "pandas.core.frame.DataFrame"
      ]
     },
     "execution_count": 8,
     "metadata": {},
     "output_type": "execute_result"
    }
   ],
   "source": [
    "type(MyDF)"
   ]
  },
  {
   "cell_type": "code",
   "execution_count": 9,
   "metadata": {},
   "outputs": [
    {
     "data": {
      "text/html": [
       "<div>\n",
       "<style scoped>\n",
       "    .dataframe tbody tr th:only-of-type {\n",
       "        vertical-align: middle;\n",
       "    }\n",
       "\n",
       "    .dataframe tbody tr th {\n",
       "        vertical-align: top;\n",
       "    }\n",
       "\n",
       "    .dataframe thead th {\n",
       "        text-align: right;\n",
       "    }\n",
       "</style>\n",
       "<table border=\"1\" class=\"dataframe\">\n",
       "  <thead>\n",
       "    <tr style=\"text-align: right;\">\n",
       "      <th></th>\n",
       "      <th>col1</th>\n",
       "      <th>col2</th>\n",
       "      <th>col3</th>\n",
       "    </tr>\n",
       "  </thead>\n",
       "  <tbody>\n",
       "    <tr>\n",
       "      <th>0</th>\n",
       "      <td>Var1</td>\n",
       "      <td>Grass</td>\n",
       "      <td>1.0</td>\n",
       "    </tr>\n",
       "    <tr>\n",
       "      <th>1</th>\n",
       "      <td>Var2</td>\n",
       "      <td>Rabbit</td>\n",
       "      <td>2.0</td>\n",
       "    </tr>\n",
       "    <tr>\n",
       "      <th>2</th>\n",
       "      <td>Var3</td>\n",
       "      <td>Fox</td>\n",
       "      <td>NaN</td>\n",
       "    </tr>\n",
       "    <tr>\n",
       "      <th>3</th>\n",
       "      <td>Var4</td>\n",
       "      <td>Wolf</td>\n",
       "      <td>4.0</td>\n",
       "    </tr>\n",
       "  </tbody>\n",
       "</table>\n",
       "</div>"
      ],
      "text/plain": [
       "   col1    col2  col3\n",
       "0  Var1   Grass   1.0\n",
       "1  Var2  Rabbit   2.0\n",
       "2  Var3     Fox   NaN\n",
       "3  Var4    Wolf   4.0"
      ]
     },
     "execution_count": 9,
     "metadata": {},
     "output_type": "execute_result"
    }
   ],
   "source": [
    "MyDF.head()"
   ]
  },
  {
   "cell_type": "code",
   "execution_count": 10,
   "metadata": {},
   "outputs": [
    {
     "data": {
      "text/html": [
       "<div>\n",
       "<style scoped>\n",
       "    .dataframe tbody tr th:only-of-type {\n",
       "        vertical-align: middle;\n",
       "    }\n",
       "\n",
       "    .dataframe tbody tr th {\n",
       "        vertical-align: top;\n",
       "    }\n",
       "\n",
       "    .dataframe thead th {\n",
       "        text-align: right;\n",
       "    }\n",
       "</style>\n",
       "<table border=\"1\" class=\"dataframe\">\n",
       "  <thead>\n",
       "    <tr style=\"text-align: right;\">\n",
       "      <th></th>\n",
       "      <th>col1</th>\n",
       "      <th>col2</th>\n",
       "      <th>col3</th>\n",
       "    </tr>\n",
       "  </thead>\n",
       "  <tbody>\n",
       "    <tr>\n",
       "      <th>0</th>\n",
       "      <td>Var1</td>\n",
       "      <td>Grass</td>\n",
       "      <td>1.0</td>\n",
       "    </tr>\n",
       "    <tr>\n",
       "      <th>1</th>\n",
       "      <td>Var2</td>\n",
       "      <td>Rabbit</td>\n",
       "      <td>2.0</td>\n",
       "    </tr>\n",
       "    <tr>\n",
       "      <th>2</th>\n",
       "      <td>Var3</td>\n",
       "      <td>Fox</td>\n",
       "      <td>NaN</td>\n",
       "    </tr>\n",
       "    <tr>\n",
       "      <th>3</th>\n",
       "      <td>Var4</td>\n",
       "      <td>Wolf</td>\n",
       "      <td>4.0</td>\n",
       "    </tr>\n",
       "  </tbody>\n",
       "</table>\n",
       "</div>"
      ],
      "text/plain": [
       "   col1    col2  col3\n",
       "0  Var1   Grass   1.0\n",
       "1  Var2  Rabbit   2.0\n",
       "2  Var3     Fox   NaN\n",
       "3  Var4    Wolf   4.0"
      ]
     },
     "execution_count": 10,
     "metadata": {},
     "output_type": "execute_result"
    }
   ],
   "source": [
    "MyDF.tail()"
   ]
  },
  {
   "cell_type": "code",
   "execution_count": 12,
   "metadata": {},
   "outputs": [
    {
     "data": {
      "text/plain": [
       "(4, 3)"
      ]
     },
     "execution_count": 12,
     "metadata": {},
     "output_type": "execute_result"
    }
   ],
   "source": [
    "MyDF.shape"
   ]
  },
  {
   "cell_type": "code",
   "execution_count": 13,
   "metadata": {},
   "outputs": [
    {
     "data": {
      "text/plain": [
       "4"
      ]
     },
     "execution_count": 13,
     "metadata": {},
     "output_type": "execute_result"
    }
   ],
   "source": [
    "len(MyDF)"
   ]
  },
  {
   "cell_type": "code",
   "execution_count": 14,
   "metadata": {},
   "outputs": [
    {
     "data": {
      "text/plain": [
       "Index(['col1', 'col2', 'col3'], dtype='object')"
      ]
     },
     "execution_count": 14,
     "metadata": {},
     "output_type": "execute_result"
    }
   ],
   "source": [
    "MyDF.columns"
   ]
  },
  {
   "cell_type": "code",
   "execution_count": 16,
   "metadata": {},
   "outputs": [
    {
     "data": {
      "text/plain": [
       "col1     object\n",
       "col2     object\n",
       "col3    float64\n",
       "dtype: object"
      ]
     },
     "execution_count": 16,
     "metadata": {},
     "output_type": "execute_result"
    }
   ],
   "source": [
    "MyDF.dtypes"
   ]
  },
  {
   "cell_type": "code",
   "execution_count": 17,
   "metadata": {},
   "outputs": [
    {
     "data": {
      "text/plain": [
       "array([['Var1', 'Grass', 1.0],\n",
       "       ['Var2', 'Rabbit', 2.0],\n",
       "       ['Var3', 'Fox', nan],\n",
       "       ['Var4', 'Wolf', 4.0]], dtype=object)"
      ]
     },
     "execution_count": 17,
     "metadata": {},
     "output_type": "execute_result"
    }
   ],
   "source": [
    "MyDF.values"
   ]
  },
  {
   "cell_type": "code",
   "execution_count": 18,
   "metadata": {},
   "outputs": [
    {
     "data": {
      "text/html": [
       "<div>\n",
       "<style scoped>\n",
       "    .dataframe tbody tr th:only-of-type {\n",
       "        vertical-align: middle;\n",
       "    }\n",
       "\n",
       "    .dataframe tbody tr th {\n",
       "        vertical-align: top;\n",
       "    }\n",
       "\n",
       "    .dataframe thead th {\n",
       "        text-align: right;\n",
       "    }\n",
       "</style>\n",
       "<table border=\"1\" class=\"dataframe\">\n",
       "  <thead>\n",
       "    <tr style=\"text-align: right;\">\n",
       "      <th></th>\n",
       "      <th>col3</th>\n",
       "    </tr>\n",
       "  </thead>\n",
       "  <tbody>\n",
       "    <tr>\n",
       "      <th>count</th>\n",
       "      <td>3.000000</td>\n",
       "    </tr>\n",
       "    <tr>\n",
       "      <th>mean</th>\n",
       "      <td>2.333333</td>\n",
       "    </tr>\n",
       "    <tr>\n",
       "      <th>std</th>\n",
       "      <td>1.527525</td>\n",
       "    </tr>\n",
       "    <tr>\n",
       "      <th>min</th>\n",
       "      <td>1.000000</td>\n",
       "    </tr>\n",
       "    <tr>\n",
       "      <th>25%</th>\n",
       "      <td>1.500000</td>\n",
       "    </tr>\n",
       "    <tr>\n",
       "      <th>50%</th>\n",
       "      <td>2.000000</td>\n",
       "    </tr>\n",
       "    <tr>\n",
       "      <th>75%</th>\n",
       "      <td>3.000000</td>\n",
       "    </tr>\n",
       "    <tr>\n",
       "      <th>max</th>\n",
       "      <td>4.000000</td>\n",
       "    </tr>\n",
       "  </tbody>\n",
       "</table>\n",
       "</div>"
      ],
      "text/plain": [
       "           col3\n",
       "count  3.000000\n",
       "mean   2.333333\n",
       "std    1.527525\n",
       "min    1.000000\n",
       "25%    1.500000\n",
       "50%    2.000000\n",
       "75%    3.000000\n",
       "max    4.000000"
      ]
     },
     "execution_count": 18,
     "metadata": {},
     "output_type": "execute_result"
    }
   ],
   "source": [
    "MyDF.describe()"
   ]
  },
  {
   "cell_type": "code",
   "execution_count": 19,
   "metadata": {},
   "outputs": [],
   "source": [
    "%matplotlib inline\n",
    "import matplotlib.pyplot as p"
   ]
  },
  {
   "cell_type": "code",
   "execution_count": 46,
   "metadata": {},
   "outputs": [],
   "source": [
    "from sympy import *\n",
    "import numpy as np\n",
    "import scipy as sc\n",
    "init_printing()"
   ]
  },
  {
   "cell_type": "code",
   "execution_count": 21,
   "metadata": {},
   "outputs": [
    {
     "data": {
      "text/plain": [
       "sympy.core.symbol.Symbol"
      ]
     },
     "execution_count": 21,
     "metadata": {},
     "output_type": "execute_result"
    }
   ],
   "source": [
    "x = var('x')\n",
    "type(x)"
   ]
  },
  {
   "cell_type": "code",
   "execution_count": 23,
   "metadata": {},
   "outputs": [],
   "source": [
    "a, b, c = var(\"a, b, c\") #define multiple variables"
   ]
  },
  {
   "cell_type": "code",
   "execution_count": 24,
   "metadata": {},
   "outputs": [
    {
     "data": {
      "text/plain": [
       "False"
      ]
     },
     "execution_count": 24,
     "metadata": {},
     "output_type": "execute_result"
    }
   ],
   "source": [
    "x = var('x', real=True)\n",
    "x.is_imaginary"
   ]
  },
  {
   "cell_type": "code",
   "execution_count": 26,
   "metadata": {},
   "outputs": [
    {
     "data": {
      "image/png": "[encoded data removed]",
      "text/latex": [
       "$\\displaystyle \\text{False}$"
      ],
      "text/plain": [
       "False"
      ]
     },
     "execution_count": 26,
     "metadata": {},
     "output_type": "execute_result"
    }
   ],
   "source": [
    "x = Symbol('x', positive=True)\n",
    "x < 0"
   ]
  },
  {
   "cell_type": "code",
   "execution_count": 27,
   "metadata": {},
   "outputs": [
    {
     "data": {
      "image/png": "[encoded data removed]",
      "text/latex": [
       "$\\displaystyle \\text{True}$"
      ],
      "text/plain": [
       "True"
      ]
     },
     "execution_count": 27,
     "metadata": {},
     "output_type": "execute_result"
    }
   ],
   "source": [
    "x > 0"
   ]
  },
  {
   "cell_type": "code",
   "execution_count": 31,
   "metadata": {},
   "outputs": [
    {
     "data": {
      "image/png": "[encoded data removed]",
      "text/latex": [
       "$\\displaystyle \\left(x + \\pi\\right)^{2}$"
      ],
      "text/plain": [
       "       2\n",
       "(x + π) "
      ]
     },
     "execution_count": 31,
     "metadata": {},
     "output_type": "execute_result"
    }
   ],
   "source": [
    "x = Symbol('x', positive=True)\n",
    "MyFun = (pi + x)**2; MyFun"
   ]
  },
  {
   "cell_type": "code",
   "execution_count": 32,
   "metadata": {},
   "outputs": [
    {
     "data": {
      "text/plain": [
       "'\\\\left(x + \\\\pi\\\\right)^{2}'"
      ]
     },
     "execution_count": 32,
     "metadata": {},
     "output_type": "execute_result"
    }
   ],
   "source": [
    "latex(MyFun)"
   ]
  },
  {
   "cell_type": "code",
   "execution_count": 33,
   "metadata": {},
   "outputs": [
    {
     "name": "stdout",
     "output_type": "stream",
     "text": [
      "\\left(x + \\pi\\right)^{2}\n"
     ]
    }
   ],
   "source": [
    "print(latex(MyFun))"
   ]
  },
  {
   "cell_type": "code",
   "execution_count": 34,
   "metadata": {},
   "outputs": [
    {
     "data": {
      "image/png": "[encoded data removed]",
      "text/latex": [
       "$\\displaystyle 3.141592653589793238462643383279502884197169399375105820974944592307816406286208998628034825342117068$"
      ],
      "text/plain": [
       "3.1415926535897932384626433832795028841971693993751058209749445923078164062862\n",
       "08998628034825342117068"
      ]
     },
     "execution_count": 34,
     "metadata": {},
     "output_type": "execute_result"
    }
   ],
   "source": [
    "pi.evalf(n=100)"
   ]
  },
  {
   "cell_type": "code",
   "execution_count": 35,
   "metadata": {},
   "outputs": [
    {
     "data": {
      "image/png": "[encoded data removed]",
      "text/latex": [
       "$\\displaystyle 3.1415926535897932384626433832795028841971693993751$"
      ],
      "text/plain": [
       "3.1415926535897932384626433832795028841971693993751"
      ]
     },
     "execution_count": 35,
     "metadata": {},
     "output_type": "execute_result"
    }
   ],
   "source": [
    "N(pi, 50)"
   ]
  },
  {
   "cell_type": "code",
   "execution_count": 38,
   "metadata": {},
   "outputs": [
    {
     "data": {
      "image/png": "[encoded data removed]",
      "text/latex": [
       "$\\displaystyle 9.8696 \\left(0.31831 x + 1\\right)^{2}$"
      ],
      "text/plain": [
       "                      2\n",
       "9.8696⋅(0.31831⋅x + 1) "
      ]
     },
     "execution_count": 38,
     "metadata": {},
     "output_type": "execute_result"
    }
   ],
   "source": [
    "N(MyFun,5)"
   ]
  },
  {
   "cell_type": "code",
   "execution_count": 39,
   "metadata": {},
   "outputs": [
    {
     "data": {
      "image/png": "[encoded data removed]",
      "text/latex": [
       "$\\displaystyle \\left(1.5 + \\pi\\right)^{2}$"
      ],
      "text/plain": [
       "         2\n",
       "(1.5 + π) "
      ]
     },
     "execution_count": 39,
     "metadata": {},
     "output_type": "execute_result"
    }
   ],
   "source": [
    "MyFun.subs(x, 1.5)"
   ]
  },
  {
   "cell_type": "code",
   "execution_count": 40,
   "metadata": {},
   "outputs": [
    {
     "data": {
      "image/png": "[encoded data removed]",
      "text/latex": [
       "$\\displaystyle \\left(1.5 + \\pi\\right)^{2}$"
      ],
      "text/plain": [
       "         2\n",
       "(1.5 + π) "
      ]
     },
     "execution_count": 40,
     "metadata": {},
     "output_type": "execute_result"
    }
   ],
   "source": [
    "MyFun.subs(x, 1.5)"
   ]
  },
  {
   "cell_type": "code",
   "execution_count": 41,
   "metadata": {},
   "outputs": [
    {
     "data": {
      "image/png": "[encoded data removed]",
      "text/latex": [
       "$\\displaystyle \\left(a + 2 \\pi\\right)^{2}$"
      ],
      "text/plain": [
       "         2\n",
       "(a + 2⋅π) "
      ]
     },
     "execution_count": 41,
     "metadata": {},
     "output_type": "execute_result"
    }
   ],
   "source": [
    "MyFun.subs(x, a+pi)"
   ]
  },
  {
   "cell_type": "code",
   "execution_count": 42,
   "metadata": {},
   "outputs": [
    {
     "data": {
      "image/png": "[encoded data removed]",
      "text/latex": [
       "$\\displaystyle \\left(a + 2 \\pi\\right)^{2}$"
      ],
      "text/plain": [
       "         2\n",
       "(a + 2⋅π) "
      ]
     },
     "execution_count": 42,
     "metadata": {},
     "output_type": "execute_result"
    }
   ],
   "source": [
    "MyFun_new = MyFun.subs(x, a+pi); MyFun_new"
   ]
  },
  {
   "cell_type": "code",
   "execution_count": 47,
   "metadata": {},
   "outputs": [],
   "source": [
    "x_vec = np.arange(0, 10, 0.1)"
   ]
  },
  {
   "cell_type": "code",
   "execution_count": 49,
   "metadata": {},
   "outputs": [],
   "source": [
    "MyFun_vec = np.array([N(MyFun.subs(x, xx)) for xx in x_vec])"
   ]
  },
  {
   "cell_type": "code",
   "execution_count": 51,
   "metadata": {},
   "outputs": [],
   "source": [
    "MyFun_new_vec = np.array([N((MyFun_new).subs(a, xx)) for xx in x_vec])"
   ]
  },
  {
   "cell_type": "code",
   "execution_count": 52,
   "metadata": {},
   "outputs": [
    {
     "data": {
      "text/plain": [
       "[<matplotlib.lines.Line2D at 0x7f2dbe7b77f0>]"
      ]
     },
     "execution_count": 52,
     "metadata": {},
     "output_type": "execute_result"
    },
    {
     "data": {
      "image/png": "[encoded data removed]",
      "text/plain": [
       "<Figure size 432x288 with 1 Axes>"
      ]
     },
     "metadata": {
      "needs_background": "light"
     },
     "output_type": "display_data"
    }
   ],
   "source": [
    "fig, ax = p.subplots()\n",
    "ax.plot(x_vec, MyFun_vec)\n",
    "ax.plot(x_vec, MyFun_new_vec)"
   ]
  },
  {
   "cell_type": "code",
   "execution_count": 53,
   "metadata": {},
   "outputs": [],
   "source": [
    "MyFun_lamb = lambdify([x], MyFun, 'numpy')"
   ]
  },
  {
   "cell_type": "code",
   "execution_count": 54,
   "metadata": {},
   "outputs": [],
   "source": [
    "MyFun_vec = MyFun_lamb(x_vec)"
   ]
  },
  {
   "cell_type": "code",
   "execution_count": 56,
   "metadata": {},
   "outputs": [
    {
     "name": "stdout",
     "output_type": "stream",
     "text": [
      "9.15 ms ± 183 µs per loop (mean ± std. dev. of 7 runs, 100 loops each)\n"
     ]
    }
   ],
   "source": [
    "%%timeit #remember this?\n",
    "\n",
    "MyFun_vec = np.array([N(((x + pi)**2).subs(x, xx)) for xx in x_vec])"
   ]
  },
  {
   "cell_type": "code",
   "execution_count": 58,
   "metadata": {},
   "outputs": [
    {
     "name": "stdout",
     "output_type": "stream",
     "text": [
      "1.42 µs ± 7.53 ns per loop (mean ± std. dev. of 7 runs, 1000000 loops each)\n"
     ]
    }
   ],
   "source": [
    "%%timeit\n",
    "\n",
    "MyFun_vec = MyFun_lamb(x_vec)"
   ]
  },
  {
   "cell_type": "code",
   "execution_count": 60,
   "metadata": {},
   "outputs": [
    {
     "data": {
      "image/png": "[encoded data removed]",
      "text/latex": [
       "$\\displaystyle \\left[ 1\\right]$"
      ],
      "text/plain": [
       "[1]"
      ]
     },
     "execution_count": 60,
     "metadata": {},
     "output_type": "execute_result"
    }
   ],
   "source": [
    "solve(x**2 - 1, x)"
   ]
  },
  {
   "cell_type": "code",
   "execution_count": 61,
   "metadata": {},
   "outputs": [
    {
     "data": {
      "image/png": "[encoded data removed]",
      "text/latex": [
       "$\\displaystyle \\left[ \\sqrt{\\frac{1}{2} + \\frac{\\sqrt{5}}{2}}\\right]$"
      ],
      "text/plain": [
       "⎡    ________⎤\n",
       "⎢   ╱ 1   √5 ⎥\n",
       "⎢  ╱  ─ + ── ⎥\n",
       "⎣╲╱   2   2  ⎦"
      ]
     },
     "execution_count": 61,
     "metadata": {},
     "output_type": "execute_result"
    }
   ],
   "source": [
    "solve(x**4 - x**2 - 1, x)"
   ]
  }
 ],
 "metadata": {
  "kernelspec": {
   "display_name": "Python 3 (ipykernel)",
   "language": "python",
   "name": "python3"
  },
  "language_info": {
   "codemirror_mode": {
    "name": "ipython",
    "version": 3
   },
   "file_extension": ".py",
   "mimetype": "text/x-python",
   "name": "python",
   "nbconvert_exporter": "python",
   "pygments_lexer": "ipython3",
   "version": "3.10.6"
  },
  "latex_envs": {
   "LaTeX_envs_menu_present": true,
   "autoclose": false,
   "autocomplete": false,
   "bibliofile": "biblio.bib",
   "cite_by": "apalike",
   "current_citInitial": 1,
   "eqLabelWithNumbers": true,
   "eqNumInitial": 1,
   "hotkeys": {
    "equation": "Ctrl-E",
    "itemize": "Ctrl-I"
   },
   "labels_anchors": false,
   "latex_user_defs": false,
   "report_style_numbering": false,
   "user_envs_cfg": false
  },
  "toc": {
   "base_numbering": 1,
   "nav_menu": {},
   "number_sections": true,
   "sideBar": false,
   "skip_h1_title": false,
   "title_cell": "Contents",
   "title_sidebar": "Contents",
   "toc_cell": false,
   "toc_position": {
    "height": "573.6px",
    "left": "10px",
    "top": "150px",
    "width": "186px"
   },
   "toc_section_display": true,
   "toc_window_display": true
  }
 },
 "nbformat": 4,
 "nbformat_minor": 4
}
